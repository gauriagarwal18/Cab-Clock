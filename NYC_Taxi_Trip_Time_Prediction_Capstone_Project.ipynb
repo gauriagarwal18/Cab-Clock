{
  "nbformat": 4,
  "nbformat_minor": 0,
  "metadata": {
    "kernelspec": {
      "display_name": "Python 3",
      "language": "python",
      "name": "python3"
    },
    "language_info": {
      "codemirror_mode": {
        "name": "ipython",
        "version": 3
      },
      "file_extension": ".py",
      "mimetype": "text/x-python",
      "name": "python",
      "nbconvert_exporter": "python",
      "pygments_lexer": "ipython3",
      "version": "3.6.6"
    },
    "colab": {
      "name": "NYC Taxi Trip Time Prediction - Capstone Project.ipynb",
      "provenance": [],
      "collapsed_sections": [],
      "include_colab_link": true
    }
  },
  "cells": [
    {
      "cell_type": "markdown",
      "metadata": {
        "id": "view-in-github",
        "colab_type": "text"
      },
      "source": [
        "<a href=\"https://colab.research.google.com/github/gauriagarwal18/NYC-Taxi-Trip-Time-Prediction/blob/master/NYC_Taxi_Trip_Time_Prediction_Capstone_Project.ipynb\" target=\"_parent\"><img src=\"https://colab.research.google.com/assets/colab-badge.svg\" alt=\"Open In Colab\"/></a>"
      ]
    },
    {
      "cell_type": "markdown",
      "metadata": {
        "id": "tOGC-qoyhJeX"
      },
      "source": [
        "# <b><u> Project Title : Taxi trip time Prediction : Predicting total ride duration of taxi trips in New York City</u></b>"
      ]
    },
    {
      "cell_type": "markdown",
      "metadata": {
        "id": "Y06xIdG26kRF"
      },
      "source": [
        "## <b> Problem Description </b>\n",
        "\n",
        "### Your task is to build a model that predicts the total ride duration of taxi trips in New York City. Your primary dataset is one released by the NYC Taxi and Limousine Commission, which includes pickup time, geo-coordinates, number of passengers, and several other variables."
      ]
    },
    {
      "cell_type": "markdown",
      "metadata": {
        "id": "L0K_r8et9vEY"
      },
      "source": [
        "##We are using the following libraries for analysis:\n",
        "- Numpy: We will use numpy arrays as they are comparitively faster than lists, also columns of dataframes behaves as numpy arrays\n",
        "\n",
        "- Pandas: for reading the data from csv file, for data clening and for preparing data for analysis\n",
        "\n",
        "- matplotlib,seaborn: for different visualisations, for drawing conclusions from data and for exploratory data analysis. "
      ]
    },
    {
      "cell_type": "code",
      "execution_count": 1,
      "metadata": {
        "id": "QEBTyNGk9tyI"
      },
      "outputs": [],
      "source": [
        "import numpy as np\n",
        "import pandas as pd\n",
        "import seaborn as sns\n",
        "import matplotlib.pyplot as plt"
      ]
    },
    {
      "cell_type": "markdown",
      "metadata": {
        "id": "rYp3qp-DPSYh"
      },
      "source": [
        "##Loading CSV file from google drive in colab enviroment\n",
        "We will first load our csv file in which data is stored to the colab enviroment in data frame format so that we can make the copy of the original data and perform the required cleaning and analysis on that data without changing the original one.\n",
        "\n"
      ]
    },
    {
      "cell_type": "code",
      "execution_count": 9,
      "metadata": {
        "colab": {
          "base_uri": "https://localhost:8080/"
        },
        "id": "lznjPCJDuYHr",
        "outputId": "5d0e07bd-57c5-4c84-d3d9-71e5422e09ff"
      },
      "outputs": [
        {
          "output_type": "stream",
          "name": "stdout",
          "text": [
            "Drive already mounted at /content/drive; to attempt to forcibly remount, call drive.mount(\"/content/drive\", force_remount=True).\n"
          ]
        }
      ],
      "source": [
        "#Download datasets Hepatitis automobile from UCI repository\n",
        "from google.colab import drive\n",
        "drive.mount('/content/drive')\n",
        "import os\n",
        "path=\"/content/drive/My Drive/AlmaBetter_Capstone_projects/Capstone_project2_ml/NYC_TaxiData.csv\"\n",
        "\n",
        "taxi_original=pd.read_csv(path,parse_dates=[2,3])\n",
        "taxi= taxi_original.copy()"
      ]
    },
    {
      "cell_type": "code",
      "source": [
        "#shape of the data\n",
        "taxi.shape"
      ],
      "metadata": {
        "colab": {
          "base_uri": "https://localhost:8080/"
        },
        "id": "szycni7xbblE",
        "outputId": "83d3efd8-5951-4ba5-ecbd-2e128c81ebaf"
      },
      "execution_count": 10,
      "outputs": [
        {
          "output_type": "execute_result",
          "data": {
            "text/plain": [
              "(1458644, 11)"
            ]
          },
          "metadata": {},
          "execution_count": 10
        }
      ]
    },
    {
      "cell_type": "code",
      "source": [
        "taxi.head()"
      ],
      "metadata": {
        "colab": {
          "base_uri": "https://localhost:8080/",
          "height": 357
        },
        "id": "RtbamHYubbZB",
        "outputId": "26f6f2a8-6791-484d-9516-86d7ae9a15ec"
      },
      "execution_count": 11,
      "outputs": [
        {
          "output_type": "execute_result",
          "data": {
            "text/plain": [
              "          id  vendor_id     pickup_datetime    dropoff_datetime  \\\n",
              "0  id2875421          2 2016-03-14 17:24:55 2016-03-14 17:32:30   \n",
              "1  id2377394          1 2016-06-12 00:43:35 2016-06-12 00:54:38   \n",
              "2  id3858529          2 2016-01-19 11:35:24 2016-01-19 12:10:48   \n",
              "3  id3504673          2 2016-04-06 19:32:31 2016-04-06 19:39:40   \n",
              "4  id2181028          2 2016-03-26 13:30:55 2016-03-26 13:38:10   \n",
              "\n",
              "   passenger_count  pickup_longitude  pickup_latitude  dropoff_longitude  \\\n",
              "0                1        -73.982155        40.767937         -73.964630   \n",
              "1                1        -73.980415        40.738564         -73.999481   \n",
              "2                1        -73.979027        40.763939         -74.005333   \n",
              "3                1        -74.010040        40.719971         -74.012268   \n",
              "4                1        -73.973053        40.793209         -73.972923   \n",
              "\n",
              "   dropoff_latitude store_and_fwd_flag  trip_duration  \n",
              "0         40.765602                  N            455  \n",
              "1         40.731152                  N            663  \n",
              "2         40.710087                  N           2124  \n",
              "3         40.706718                  N            429  \n",
              "4         40.782520                  N            435  "
            ],
            "text/html": [
              "\n",
              "  <div id=\"df-d7514fa6-a515-4662-9890-d9021b79e68b\">\n",
              "    <div class=\"colab-df-container\">\n",
              "      <div>\n",
              "<style scoped>\n",
              "    .dataframe tbody tr th:only-of-type {\n",
              "        vertical-align: middle;\n",
              "    }\n",
              "\n",
              "    .dataframe tbody tr th {\n",
              "        vertical-align: top;\n",
              "    }\n",
              "\n",
              "    .dataframe thead th {\n",
              "        text-align: right;\n",
              "    }\n",
              "</style>\n",
              "<table border=\"1\" class=\"dataframe\">\n",
              "  <thead>\n",
              "    <tr style=\"text-align: right;\">\n",
              "      <th></th>\n",
              "      <th>id</th>\n",
              "      <th>vendor_id</th>\n",
              "      <th>pickup_datetime</th>\n",
              "      <th>dropoff_datetime</th>\n",
              "      <th>passenger_count</th>\n",
              "      <th>pickup_longitude</th>\n",
              "      <th>pickup_latitude</th>\n",
              "      <th>dropoff_longitude</th>\n",
              "      <th>dropoff_latitude</th>\n",
              "      <th>store_and_fwd_flag</th>\n",
              "      <th>trip_duration</th>\n",
              "    </tr>\n",
              "  </thead>\n",
              "  <tbody>\n",
              "    <tr>\n",
              "      <th>0</th>\n",
              "      <td>id2875421</td>\n",
              "      <td>2</td>\n",
              "      <td>2016-03-14 17:24:55</td>\n",
              "      <td>2016-03-14 17:32:30</td>\n",
              "      <td>1</td>\n",
              "      <td>-73.982155</td>\n",
              "      <td>40.767937</td>\n",
              "      <td>-73.964630</td>\n",
              "      <td>40.765602</td>\n",
              "      <td>N</td>\n",
              "      <td>455</td>\n",
              "    </tr>\n",
              "    <tr>\n",
              "      <th>1</th>\n",
              "      <td>id2377394</td>\n",
              "      <td>1</td>\n",
              "      <td>2016-06-12 00:43:35</td>\n",
              "      <td>2016-06-12 00:54:38</td>\n",
              "      <td>1</td>\n",
              "      <td>-73.980415</td>\n",
              "      <td>40.738564</td>\n",
              "      <td>-73.999481</td>\n",
              "      <td>40.731152</td>\n",
              "      <td>N</td>\n",
              "      <td>663</td>\n",
              "    </tr>\n",
              "    <tr>\n",
              "      <th>2</th>\n",
              "      <td>id3858529</td>\n",
              "      <td>2</td>\n",
              "      <td>2016-01-19 11:35:24</td>\n",
              "      <td>2016-01-19 12:10:48</td>\n",
              "      <td>1</td>\n",
              "      <td>-73.979027</td>\n",
              "      <td>40.763939</td>\n",
              "      <td>-74.005333</td>\n",
              "      <td>40.710087</td>\n",
              "      <td>N</td>\n",
              "      <td>2124</td>\n",
              "    </tr>\n",
              "    <tr>\n",
              "      <th>3</th>\n",
              "      <td>id3504673</td>\n",
              "      <td>2</td>\n",
              "      <td>2016-04-06 19:32:31</td>\n",
              "      <td>2016-04-06 19:39:40</td>\n",
              "      <td>1</td>\n",
              "      <td>-74.010040</td>\n",
              "      <td>40.719971</td>\n",
              "      <td>-74.012268</td>\n",
              "      <td>40.706718</td>\n",
              "      <td>N</td>\n",
              "      <td>429</td>\n",
              "    </tr>\n",
              "    <tr>\n",
              "      <th>4</th>\n",
              "      <td>id2181028</td>\n",
              "      <td>2</td>\n",
              "      <td>2016-03-26 13:30:55</td>\n",
              "      <td>2016-03-26 13:38:10</td>\n",
              "      <td>1</td>\n",
              "      <td>-73.973053</td>\n",
              "      <td>40.793209</td>\n",
              "      <td>-73.972923</td>\n",
              "      <td>40.782520</td>\n",
              "      <td>N</td>\n",
              "      <td>435</td>\n",
              "    </tr>\n",
              "  </tbody>\n",
              "</table>\n",
              "</div>\n",
              "      <button class=\"colab-df-convert\" onclick=\"convertToInteractive('df-d7514fa6-a515-4662-9890-d9021b79e68b')\"\n",
              "              title=\"Convert this dataframe to an interactive table.\"\n",
              "              style=\"display:none;\">\n",
              "        \n",
              "  <svg xmlns=\"http://www.w3.org/2000/svg\" height=\"24px\"viewBox=\"0 0 24 24\"\n",
              "       width=\"24px\">\n",
              "    <path d=\"M0 0h24v24H0V0z\" fill=\"none\"/>\n",
              "    <path d=\"M18.56 5.44l.94 2.06.94-2.06 2.06-.94-2.06-.94-.94-2.06-.94 2.06-2.06.94zm-11 1L8.5 8.5l.94-2.06 2.06-.94-2.06-.94L8.5 2.5l-.94 2.06-2.06.94zm10 10l.94 2.06.94-2.06 2.06-.94-2.06-.94-.94-2.06-.94 2.06-2.06.94z\"/><path d=\"M17.41 7.96l-1.37-1.37c-.4-.4-.92-.59-1.43-.59-.52 0-1.04.2-1.43.59L10.3 9.45l-7.72 7.72c-.78.78-.78 2.05 0 2.83L4 21.41c.39.39.9.59 1.41.59.51 0 1.02-.2 1.41-.59l7.78-7.78 2.81-2.81c.8-.78.8-2.07 0-2.86zM5.41 20L4 18.59l7.72-7.72 1.47 1.35L5.41 20z\"/>\n",
              "  </svg>\n",
              "      </button>\n",
              "      \n",
              "  <style>\n",
              "    .colab-df-container {\n",
              "      display:flex;\n",
              "      flex-wrap:wrap;\n",
              "      gap: 12px;\n",
              "    }\n",
              "\n",
              "    .colab-df-convert {\n",
              "      background-color: #E8F0FE;\n",
              "      border: none;\n",
              "      border-radius: 50%;\n",
              "      cursor: pointer;\n",
              "      display: none;\n",
              "      fill: #1967D2;\n",
              "      height: 32px;\n",
              "      padding: 0 0 0 0;\n",
              "      width: 32px;\n",
              "    }\n",
              "\n",
              "    .colab-df-convert:hover {\n",
              "      background-color: #E2EBFA;\n",
              "      box-shadow: 0px 1px 2px rgba(60, 64, 67, 0.3), 0px 1px 3px 1px rgba(60, 64, 67, 0.15);\n",
              "      fill: #174EA6;\n",
              "    }\n",
              "\n",
              "    [theme=dark] .colab-df-convert {\n",
              "      background-color: #3B4455;\n",
              "      fill: #D2E3FC;\n",
              "    }\n",
              "\n",
              "    [theme=dark] .colab-df-convert:hover {\n",
              "      background-color: #434B5C;\n",
              "      box-shadow: 0px 1px 3px 1px rgba(0, 0, 0, 0.15);\n",
              "      filter: drop-shadow(0px 1px 2px rgba(0, 0, 0, 0.3));\n",
              "      fill: #FFFFFF;\n",
              "    }\n",
              "  </style>\n",
              "\n",
              "      <script>\n",
              "        const buttonEl =\n",
              "          document.querySelector('#df-d7514fa6-a515-4662-9890-d9021b79e68b button.colab-df-convert');\n",
              "        buttonEl.style.display =\n",
              "          google.colab.kernel.accessAllowed ? 'block' : 'none';\n",
              "\n",
              "        async function convertToInteractive(key) {\n",
              "          const element = document.querySelector('#df-d7514fa6-a515-4662-9890-d9021b79e68b');\n",
              "          const dataTable =\n",
              "            await google.colab.kernel.invokeFunction('convertToInteractive',\n",
              "                                                     [key], {});\n",
              "          if (!dataTable) return;\n",
              "\n",
              "          const docLinkHtml = 'Like what you see? Visit the ' +\n",
              "            '<a target=\"_blank\" href=https://colab.research.google.com/notebooks/data_table.ipynb>data table notebook</a>'\n",
              "            + ' to learn more about interactive tables.';\n",
              "          element.innerHTML = '';\n",
              "          dataTable['output_type'] = 'display_data';\n",
              "          await google.colab.output.renderOutput(dataTable, element);\n",
              "          const docLink = document.createElement('div');\n",
              "          docLink.innerHTML = docLinkHtml;\n",
              "          element.appendChild(docLink);\n",
              "        }\n",
              "      </script>\n",
              "    </div>\n",
              "  </div>\n",
              "  "
            ]
          },
          "metadata": {},
          "execution_count": 11
        }
      ]
    },
    {
      "cell_type": "markdown",
      "metadata": {
        "id": "WWeU1f9bwqQq"
      },
      "source": [
        "## <b> Data Description </b>\n",
        "\n",
        "### The dataset is based on the 2016 NYC Yellow Cab trip record data made available in Big Query on Google Cloud Platform. The data was originally published by the NYC Taxi and Limousine Commission (TLC). The data was sampled and cleaned for the purposes of this project. Based on individual trip attributes, you should predict the duration of each trip in the test set.\n",
        "\n",
        "### <b>NYC Taxi Data.csv</b> - the training set (contains 1458644 trip records)\n",
        "\n",
        "\n",
        "### Data fields\n",
        "* #### id - a unique identifier for each trip\n",
        "* #### vendor_id - a code indicating the provider associated with the trip record\n",
        "* #### pickup_datetime - date and time when the meter was engaged\n",
        "* #### dropoff_datetime - date and time when the meter was disengaged\n",
        "* #### passenger_count - the number of passengers in the vehicle (driver entered value)\n",
        "* #### pickup_longitude - the longitude where the meter was engaged\n",
        "* #### pickup_latitude - the latitude where the meter was engaged\n",
        "* #### dropoff_longitude - the longitude where the meter was disengaged\n",
        "* #### dropoff_latitude - the latitude where the meter was disengaged\n",
        "* #### store_and_fwd_flag - This flag indicates whether the trip record was held in vehicle memory before sending to the vendor because the vehicle did not have a connection to the server - Y=store and forward; N=not a store and forward trip\n",
        "* #### trip_duration - duration of the trip in seconds"
      ]
    },
    {
      "cell_type": "code",
      "metadata": {
        "id": "dByMsuzT8Tnw",
        "colab": {
          "base_uri": "https://localhost:8080/",
          "height": 364
        },
        "outputId": "9a5da490-6915-4b8c-e42d-b87c3a4dd965"
      },
      "source": [
        "taxi.info()\n",
        "\"\"\"\n",
        "here we note that there is not any null value in data right now\n",
        "\"\"\""
      ],
      "execution_count": 12,
      "outputs": [
        {
          "output_type": "stream",
          "name": "stdout",
          "text": [
            "<class 'pandas.core.frame.DataFrame'>\n",
            "RangeIndex: 1458644 entries, 0 to 1458643\n",
            "Data columns (total 11 columns):\n",
            " #   Column              Non-Null Count    Dtype         \n",
            "---  ------              --------------    -----         \n",
            " 0   id                  1458644 non-null  object        \n",
            " 1   vendor_id           1458644 non-null  int64         \n",
            " 2   pickup_datetime     1458644 non-null  datetime64[ns]\n",
            " 3   dropoff_datetime    1458644 non-null  datetime64[ns]\n",
            " 4   passenger_count     1458644 non-null  int64         \n",
            " 5   pickup_longitude    1458644 non-null  float64       \n",
            " 6   pickup_latitude     1458644 non-null  float64       \n",
            " 7   dropoff_longitude   1458644 non-null  float64       \n",
            " 8   dropoff_latitude    1458644 non-null  float64       \n",
            " 9   store_and_fwd_flag  1458644 non-null  object        \n",
            " 10  trip_duration       1458644 non-null  int64         \n",
            "dtypes: datetime64[ns](2), float64(4), int64(3), object(2)\n",
            "memory usage: 122.4+ MB\n"
          ]
        },
        {
          "output_type": "execute_result",
          "data": {
            "text/plain": [
              "'\\nhere we note that there is not any null value in data right now\\n'"
            ],
            "application/vnd.google.colaboratory.intrinsic+json": {
              "type": "string"
            }
          },
          "metadata": {},
          "execution_count": 12
        }
      ]
    },
    {
      "cell_type": "code",
      "source": [
        "taxi.describe(include=\"all\")"
      ],
      "metadata": {
        "colab": {
          "base_uri": "https://localhost:8080/",
          "height": 475
        },
        "id": "-hdh6m7FdGuq",
        "outputId": "fbb7dabf-5b4c-4194-8129-9c30a4cf3742"
      },
      "execution_count": 7,
      "outputs": [
        {
          "output_type": "execute_result",
          "data": {
            "text/plain": [
              "               id     vendor_id      pickup_datetime     dropoff_datetime  \\\n",
              "count     1458644  1.458644e+06              1458644              1458644   \n",
              "unique    1458644           NaN              1380222              1380377   \n",
              "top     id2875421           NaN  2016-03-04 08:07:34  2016-02-19 19:25:04   \n",
              "freq            1           NaN                    5                    5   \n",
              "mean          NaN  1.534950e+00                  NaN                  NaN   \n",
              "std           NaN  4.987772e-01                  NaN                  NaN   \n",
              "min           NaN  1.000000e+00                  NaN                  NaN   \n",
              "25%           NaN  1.000000e+00                  NaN                  NaN   \n",
              "50%           NaN  2.000000e+00                  NaN                  NaN   \n",
              "75%           NaN  2.000000e+00                  NaN                  NaN   \n",
              "max           NaN  2.000000e+00                  NaN                  NaN   \n",
              "\n",
              "        passenger_count  pickup_longitude  pickup_latitude  dropoff_longitude  \\\n",
              "count      1.458644e+06      1.458644e+06     1.458644e+06       1.458644e+06   \n",
              "unique              NaN               NaN              NaN                NaN   \n",
              "top                 NaN               NaN              NaN                NaN   \n",
              "freq                NaN               NaN              NaN                NaN   \n",
              "mean       1.664530e+00     -7.397349e+01     4.075092e+01      -7.397342e+01   \n",
              "std        1.314242e+00      7.090186e-02     3.288119e-02       7.064327e-02   \n",
              "min        0.000000e+00     -1.219333e+02     3.435970e+01      -1.219333e+02   \n",
              "25%        1.000000e+00     -7.399187e+01     4.073735e+01      -7.399133e+01   \n",
              "50%        1.000000e+00     -7.398174e+01     4.075410e+01      -7.397975e+01   \n",
              "75%        2.000000e+00     -7.396733e+01     4.076836e+01      -7.396301e+01   \n",
              "max        9.000000e+00     -6.133553e+01     5.188108e+01      -6.133553e+01   \n",
              "\n",
              "        dropoff_latitude store_and_fwd_flag  trip_duration  \n",
              "count       1.458644e+06            1458644   1.458644e+06  \n",
              "unique               NaN                  2            NaN  \n",
              "top                  NaN                  N            NaN  \n",
              "freq                 NaN            1450599            NaN  \n",
              "mean        4.075180e+01                NaN   9.594923e+02  \n",
              "std         3.589056e-02                NaN   5.237432e+03  \n",
              "min         3.218114e+01                NaN   1.000000e+00  \n",
              "25%         4.073588e+01                NaN   3.970000e+02  \n",
              "50%         4.075452e+01                NaN   6.620000e+02  \n",
              "75%         4.076981e+01                NaN   1.075000e+03  \n",
              "max         4.392103e+01                NaN   3.526282e+06  "
            ],
            "text/html": [
              "\n",
              "  <div id=\"df-bc2716cd-4221-4569-b3e7-6892177a0d24\">\n",
              "    <div class=\"colab-df-container\">\n",
              "      <div>\n",
              "<style scoped>\n",
              "    .dataframe tbody tr th:only-of-type {\n",
              "        vertical-align: middle;\n",
              "    }\n",
              "\n",
              "    .dataframe tbody tr th {\n",
              "        vertical-align: top;\n",
              "    }\n",
              "\n",
              "    .dataframe thead th {\n",
              "        text-align: right;\n",
              "    }\n",
              "</style>\n",
              "<table border=\"1\" class=\"dataframe\">\n",
              "  <thead>\n",
              "    <tr style=\"text-align: right;\">\n",
              "      <th></th>\n",
              "      <th>id</th>\n",
              "      <th>vendor_id</th>\n",
              "      <th>pickup_datetime</th>\n",
              "      <th>dropoff_datetime</th>\n",
              "      <th>passenger_count</th>\n",
              "      <th>pickup_longitude</th>\n",
              "      <th>pickup_latitude</th>\n",
              "      <th>dropoff_longitude</th>\n",
              "      <th>dropoff_latitude</th>\n",
              "      <th>store_and_fwd_flag</th>\n",
              "      <th>trip_duration</th>\n",
              "    </tr>\n",
              "  </thead>\n",
              "  <tbody>\n",
              "    <tr>\n",
              "      <th>count</th>\n",
              "      <td>1458644</td>\n",
              "      <td>1.458644e+06</td>\n",
              "      <td>1458644</td>\n",
              "      <td>1458644</td>\n",
              "      <td>1.458644e+06</td>\n",
              "      <td>1.458644e+06</td>\n",
              "      <td>1.458644e+06</td>\n",
              "      <td>1.458644e+06</td>\n",
              "      <td>1.458644e+06</td>\n",
              "      <td>1458644</td>\n",
              "      <td>1.458644e+06</td>\n",
              "    </tr>\n",
              "    <tr>\n",
              "      <th>unique</th>\n",
              "      <td>1458644</td>\n",
              "      <td>NaN</td>\n",
              "      <td>1380222</td>\n",
              "      <td>1380377</td>\n",
              "      <td>NaN</td>\n",
              "      <td>NaN</td>\n",
              "      <td>NaN</td>\n",
              "      <td>NaN</td>\n",
              "      <td>NaN</td>\n",
              "      <td>2</td>\n",
              "      <td>NaN</td>\n",
              "    </tr>\n",
              "    <tr>\n",
              "      <th>top</th>\n",
              "      <td>id2875421</td>\n",
              "      <td>NaN</td>\n",
              "      <td>2016-03-04 08:07:34</td>\n",
              "      <td>2016-02-19 19:25:04</td>\n",
              "      <td>NaN</td>\n",
              "      <td>NaN</td>\n",
              "      <td>NaN</td>\n",
              "      <td>NaN</td>\n",
              "      <td>NaN</td>\n",
              "      <td>N</td>\n",
              "      <td>NaN</td>\n",
              "    </tr>\n",
              "    <tr>\n",
              "      <th>freq</th>\n",
              "      <td>1</td>\n",
              "      <td>NaN</td>\n",
              "      <td>5</td>\n",
              "      <td>5</td>\n",
              "      <td>NaN</td>\n",
              "      <td>NaN</td>\n",
              "      <td>NaN</td>\n",
              "      <td>NaN</td>\n",
              "      <td>NaN</td>\n",
              "      <td>1450599</td>\n",
              "      <td>NaN</td>\n",
              "    </tr>\n",
              "    <tr>\n",
              "      <th>mean</th>\n",
              "      <td>NaN</td>\n",
              "      <td>1.534950e+00</td>\n",
              "      <td>NaN</td>\n",
              "      <td>NaN</td>\n",
              "      <td>1.664530e+00</td>\n",
              "      <td>-7.397349e+01</td>\n",
              "      <td>4.075092e+01</td>\n",
              "      <td>-7.397342e+01</td>\n",
              "      <td>4.075180e+01</td>\n",
              "      <td>NaN</td>\n",
              "      <td>9.594923e+02</td>\n",
              "    </tr>\n",
              "    <tr>\n",
              "      <th>std</th>\n",
              "      <td>NaN</td>\n",
              "      <td>4.987772e-01</td>\n",
              "      <td>NaN</td>\n",
              "      <td>NaN</td>\n",
              "      <td>1.314242e+00</td>\n",
              "      <td>7.090186e-02</td>\n",
              "      <td>3.288119e-02</td>\n",
              "      <td>7.064327e-02</td>\n",
              "      <td>3.589056e-02</td>\n",
              "      <td>NaN</td>\n",
              "      <td>5.237432e+03</td>\n",
              "    </tr>\n",
              "    <tr>\n",
              "      <th>min</th>\n",
              "      <td>NaN</td>\n",
              "      <td>1.000000e+00</td>\n",
              "      <td>NaN</td>\n",
              "      <td>NaN</td>\n",
              "      <td>0.000000e+00</td>\n",
              "      <td>-1.219333e+02</td>\n",
              "      <td>3.435970e+01</td>\n",
              "      <td>-1.219333e+02</td>\n",
              "      <td>3.218114e+01</td>\n",
              "      <td>NaN</td>\n",
              "      <td>1.000000e+00</td>\n",
              "    </tr>\n",
              "    <tr>\n",
              "      <th>25%</th>\n",
              "      <td>NaN</td>\n",
              "      <td>1.000000e+00</td>\n",
              "      <td>NaN</td>\n",
              "      <td>NaN</td>\n",
              "      <td>1.000000e+00</td>\n",
              "      <td>-7.399187e+01</td>\n",
              "      <td>4.073735e+01</td>\n",
              "      <td>-7.399133e+01</td>\n",
              "      <td>4.073588e+01</td>\n",
              "      <td>NaN</td>\n",
              "      <td>3.970000e+02</td>\n",
              "    </tr>\n",
              "    <tr>\n",
              "      <th>50%</th>\n",
              "      <td>NaN</td>\n",
              "      <td>2.000000e+00</td>\n",
              "      <td>NaN</td>\n",
              "      <td>NaN</td>\n",
              "      <td>1.000000e+00</td>\n",
              "      <td>-7.398174e+01</td>\n",
              "      <td>4.075410e+01</td>\n",
              "      <td>-7.397975e+01</td>\n",
              "      <td>4.075452e+01</td>\n",
              "      <td>NaN</td>\n",
              "      <td>6.620000e+02</td>\n",
              "    </tr>\n",
              "    <tr>\n",
              "      <th>75%</th>\n",
              "      <td>NaN</td>\n",
              "      <td>2.000000e+00</td>\n",
              "      <td>NaN</td>\n",
              "      <td>NaN</td>\n",
              "      <td>2.000000e+00</td>\n",
              "      <td>-7.396733e+01</td>\n",
              "      <td>4.076836e+01</td>\n",
              "      <td>-7.396301e+01</td>\n",
              "      <td>4.076981e+01</td>\n",
              "      <td>NaN</td>\n",
              "      <td>1.075000e+03</td>\n",
              "    </tr>\n",
              "    <tr>\n",
              "      <th>max</th>\n",
              "      <td>NaN</td>\n",
              "      <td>2.000000e+00</td>\n",
              "      <td>NaN</td>\n",
              "      <td>NaN</td>\n",
              "      <td>9.000000e+00</td>\n",
              "      <td>-6.133553e+01</td>\n",
              "      <td>5.188108e+01</td>\n",
              "      <td>-6.133553e+01</td>\n",
              "      <td>4.392103e+01</td>\n",
              "      <td>NaN</td>\n",
              "      <td>3.526282e+06</td>\n",
              "    </tr>\n",
              "  </tbody>\n",
              "</table>\n",
              "</div>\n",
              "      <button class=\"colab-df-convert\" onclick=\"convertToInteractive('df-bc2716cd-4221-4569-b3e7-6892177a0d24')\"\n",
              "              title=\"Convert this dataframe to an interactive table.\"\n",
              "              style=\"display:none;\">\n",
              "        \n",
              "  <svg xmlns=\"http://www.w3.org/2000/svg\" height=\"24px\"viewBox=\"0 0 24 24\"\n",
              "       width=\"24px\">\n",
              "    <path d=\"M0 0h24v24H0V0z\" fill=\"none\"/>\n",
              "    <path d=\"M18.56 5.44l.94 2.06.94-2.06 2.06-.94-2.06-.94-.94-2.06-.94 2.06-2.06.94zm-11 1L8.5 8.5l.94-2.06 2.06-.94-2.06-.94L8.5 2.5l-.94 2.06-2.06.94zm10 10l.94 2.06.94-2.06 2.06-.94-2.06-.94-.94-2.06-.94 2.06-2.06.94z\"/><path d=\"M17.41 7.96l-1.37-1.37c-.4-.4-.92-.59-1.43-.59-.52 0-1.04.2-1.43.59L10.3 9.45l-7.72 7.72c-.78.78-.78 2.05 0 2.83L4 21.41c.39.39.9.59 1.41.59.51 0 1.02-.2 1.41-.59l7.78-7.78 2.81-2.81c.8-.78.8-2.07 0-2.86zM5.41 20L4 18.59l7.72-7.72 1.47 1.35L5.41 20z\"/>\n",
              "  </svg>\n",
              "      </button>\n",
              "      \n",
              "  <style>\n",
              "    .colab-df-container {\n",
              "      display:flex;\n",
              "      flex-wrap:wrap;\n",
              "      gap: 12px;\n",
              "    }\n",
              "\n",
              "    .colab-df-convert {\n",
              "      background-color: #E8F0FE;\n",
              "      border: none;\n",
              "      border-radius: 50%;\n",
              "      cursor: pointer;\n",
              "      display: none;\n",
              "      fill: #1967D2;\n",
              "      height: 32px;\n",
              "      padding: 0 0 0 0;\n",
              "      width: 32px;\n",
              "    }\n",
              "\n",
              "    .colab-df-convert:hover {\n",
              "      background-color: #E2EBFA;\n",
              "      box-shadow: 0px 1px 2px rgba(60, 64, 67, 0.3), 0px 1px 3px 1px rgba(60, 64, 67, 0.15);\n",
              "      fill: #174EA6;\n",
              "    }\n",
              "\n",
              "    [theme=dark] .colab-df-convert {\n",
              "      background-color: #3B4455;\n",
              "      fill: #D2E3FC;\n",
              "    }\n",
              "\n",
              "    [theme=dark] .colab-df-convert:hover {\n",
              "      background-color: #434B5C;\n",
              "      box-shadow: 0px 1px 3px 1px rgba(0, 0, 0, 0.15);\n",
              "      filter: drop-shadow(0px 1px 2px rgba(0, 0, 0, 0.3));\n",
              "      fill: #FFFFFF;\n",
              "    }\n",
              "  </style>\n",
              "\n",
              "      <script>\n",
              "        const buttonEl =\n",
              "          document.querySelector('#df-bc2716cd-4221-4569-b3e7-6892177a0d24 button.colab-df-convert');\n",
              "        buttonEl.style.display =\n",
              "          google.colab.kernel.accessAllowed ? 'block' : 'none';\n",
              "\n",
              "        async function convertToInteractive(key) {\n",
              "          const element = document.querySelector('#df-bc2716cd-4221-4569-b3e7-6892177a0d24');\n",
              "          const dataTable =\n",
              "            await google.colab.kernel.invokeFunction('convertToInteractive',\n",
              "                                                     [key], {});\n",
              "          if (!dataTable) return;\n",
              "\n",
              "          const docLinkHtml = 'Like what you see? Visit the ' +\n",
              "            '<a target=\"_blank\" href=https://colab.research.google.com/notebooks/data_table.ipynb>data table notebook</a>'\n",
              "            + ' to learn more about interactive tables.';\n",
              "          element.innerHTML = '';\n",
              "          dataTable['output_type'] = 'display_data';\n",
              "          await google.colab.output.renderOutput(dataTable, element);\n",
              "          const docLink = document.createElement('div');\n",
              "          docLink.innerHTML = docLinkHtml;\n",
              "          element.appendChild(docLink);\n",
              "        }\n",
              "      </script>\n",
              "    </div>\n",
              "  </div>\n",
              "  "
            ]
          },
          "metadata": {},
          "execution_count": 7
        }
      ]
    },
    {
      "cell_type": "code",
      "source": [
        "taxi.columns"
      ],
      "metadata": {
        "colab": {
          "base_uri": "https://localhost:8080/"
        },
        "id": "cUvaiiPRdGni",
        "outputId": "dc4d3933-3cfa-4656-e079-51c9b28d22a9"
      },
      "execution_count": 14,
      "outputs": [
        {
          "output_type": "execute_result",
          "data": {
            "text/plain": [
              "Index(['id', 'vendor_id', 'pickup_datetime', 'dropoff_datetime',\n",
              "       'passenger_count', 'pickup_longitude', 'pickup_latitude',\n",
              "       'dropoff_longitude', 'dropoff_latitude', 'store_and_fwd_flag',\n",
              "       'trip_duration'],\n",
              "      dtype='object')"
            ]
          },
          "metadata": {},
          "execution_count": 14
        }
      ]
    },
    {
      "cell_type": "code",
      "source": [
        "categorical=[\"vendor_id\",\"passenger_count\",\"store_and_fwd_flag\"]\n",
        "for c in categorical:\n",
        "  print(f\"distribution of {c}:\\n{taxi[c].value_counts()}\\n\\n\")"
      ],
      "metadata": {
        "colab": {
          "base_uri": "https://localhost:8080/"
        },
        "id": "DrSzGqlPdGbt",
        "outputId": "b512f736-5f42-4a66-c7d6-01bcea95f2ef"
      },
      "execution_count": 16,
      "outputs": [
        {
          "output_type": "stream",
          "name": "stdout",
          "text": [
            "distribution of vendor_id:\n",
            "2    780302\n",
            "1    678342\n",
            "Name: vendor_id, dtype: int64\n",
            "\n",
            "\n",
            "distribution of passenger_count:\n",
            "1    1033540\n",
            "2     210318\n",
            "5      78088\n",
            "3      59896\n",
            "6      48333\n",
            "4      28404\n",
            "0         60\n",
            "7          3\n",
            "9          1\n",
            "8          1\n",
            "Name: passenger_count, dtype: int64\n",
            "\n",
            "\n",
            "distribution of store_and_fwd_flag:\n",
            "N    1450599\n",
            "Y       8045\n",
            "Name: store_and_fwd_flag, dtype: int64\n",
            "\n",
            "\n"
          ]
        }
      ]
    },
    {
      "cell_type": "code",
      "source": [
        "(taxi[taxi[\"passenger_count\"]==0]).loc[\"passenger_count\"]=np.nan"
      ],
      "metadata": {
        "colab": {
          "base_uri": "https://localhost:8080/"
        },
        "id": "c9uFBq8thgn7",
        "outputId": "7766bbda-c34e-4275-b4cf-546208ad9240"
      },
      "execution_count": 22,
      "outputs": [
        {
          "output_type": "stream",
          "name": "stderr",
          "text": [
            "/usr/local/lib/python3.7/dist-packages/pandas/core/indexing.py:723: SettingWithCopyWarning: \n",
            "A value is trying to be set on a copy of a slice from a DataFrame\n",
            "\n",
            "See the caveats in the documentation: https://pandas.pydata.org/pandas-docs/stable/user_guide/indexing.html#returning-a-view-versus-a-copy\n",
            "  iloc._setitem_with_indexer(indexer, value, self.name)\n"
          ]
        }
      ]
    },
    {
      "cell_type": "code",
      "source": [
        "taxi.info()"
      ],
      "metadata": {
        "colab": {
          "base_uri": "https://localhost:8080/"
        },
        "id": "Hb1qR8hjiN4N",
        "outputId": "74409e83-8f7a-41f7-b13b-9331e88e3993"
      },
      "execution_count": 23,
      "outputs": [
        {
          "output_type": "stream",
          "name": "stdout",
          "text": [
            "<class 'pandas.core.frame.DataFrame'>\n",
            "RangeIndex: 1458644 entries, 0 to 1458643\n",
            "Data columns (total 11 columns):\n",
            " #   Column              Non-Null Count    Dtype         \n",
            "---  ------              --------------    -----         \n",
            " 0   id                  1458644 non-null  object        \n",
            " 1   vendor_id           1458644 non-null  int64         \n",
            " 2   pickup_datetime     1458644 non-null  datetime64[ns]\n",
            " 3   dropoff_datetime    1458644 non-null  datetime64[ns]\n",
            " 4   passenger_count     1458644 non-null  int64         \n",
            " 5   pickup_longitude    1458644 non-null  float64       \n",
            " 6   pickup_latitude     1458644 non-null  float64       \n",
            " 7   dropoff_longitude   1458644 non-null  float64       \n",
            " 8   dropoff_latitude    1458644 non-null  float64       \n",
            " 9   store_and_fwd_flag  1458644 non-null  object        \n",
            " 10  trip_duration       1458644 non-null  int64         \n",
            "dtypes: datetime64[ns](2), float64(4), int64(3), object(2)\n",
            "memory usage: 122.4+ MB\n"
          ]
        }
      ]
    },
    {
      "cell_type": "code",
      "source": [
        "#the data with passenger count=0 is of no use so we will delete those rows:\n",
        "taxi.drop()"
      ],
      "metadata": {
        "id": "VW9P1edHhM71"
      },
      "execution_count": null,
      "outputs": []
    }
  ]
}