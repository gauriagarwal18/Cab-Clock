{
  "nbformat": 4,
  "nbformat_minor": 0,
  "metadata": {
    "kernelspec": {
      "display_name": "Python 3",
      "language": "python",
      "name": "python3"
    },
    "language_info": {
      "codemirror_mode": {
        "name": "ipython",
        "version": 3
      },
      "file_extension": ".py",
      "mimetype": "text/x-python",
      "name": "python",
      "nbconvert_exporter": "python",
      "pygments_lexer": "ipython3",
      "version": "3.6.6"
    },
    "colab": {
      "name": "NYC Taxi Trip Time Prediction - Capstone Project.ipynb",
      "provenance": [],
      "collapsed_sections": [],
      "include_colab_link": true
    }
  },
  "cells": [
    {
      "cell_type": "markdown",
      "metadata": {
        "id": "view-in-github",
        "colab_type": "text"
      },
      "source": [
        "<a href=\"https://colab.research.google.com/github/gauriagarwal18/NYC-Taxi-Trip-Time-Prediction/blob/master/NYC_Taxi_Trip_Time_Prediction_Capstone_Project.ipynb\" target=\"_parent\"><img src=\"https://colab.research.google.com/assets/colab-badge.svg\" alt=\"Open In Colab\"/></a>"
      ]
    },
    {
      "cell_type": "markdown",
      "metadata": {
        "id": "tOGC-qoyhJeX"
      },
      "source": [
        "# <b><u> Project Title : Taxi trip time Prediction : Predicting total ride duration of taxi trips in New York City</u></b>"
      ]
    },
    {
      "cell_type": "markdown",
      "metadata": {
        "id": "Y06xIdG26kRF"
      },
      "source": [
        "## <b> Problem Description </b>\n",
        "\n",
        "### Your task is to build a model that predicts the total ride duration of taxi trips in New York City. Your primary dataset is one released by the NYC Taxi and Limousine Commission, which includes pickup time, geo-coordinates, number of passengers, and several other variables."
      ]
    },
    {
      "cell_type": "markdown",
      "source": [
        "##Data Loading And Description"
      ],
      "metadata": {
        "id": "aU6uFiC0BqZ6"
      }
    },
    {
      "cell_type": "markdown",
      "metadata": {
        "id": "L0K_r8et9vEY"
      },
      "source": [
        "###We are using the following libraries for analysis:\n",
        "- Numpy: We will use numpy arrays as they are comparitively faster than lists, also columns of dataframes behaves as numpy arrays\n",
        "\n",
        "- Pandas: for reading the data from csv file, for data clening and for preparing data for analysis\n",
        "\n",
        "- matplotlib,seaborn: for different visualisations, for drawing conclusions from data and for exploratory data analysis. "
      ]
    },
    {
      "cell_type": "code",
      "execution_count": 1,
      "metadata": {
        "id": "QEBTyNGk9tyI"
      },
      "outputs": [],
      "source": [
        "import numpy as np\n",
        "import pandas as pd\n",
        "import seaborn as sns\n",
        "import matplotlib.pyplot as plt"
      ]
    },
    {
      "cell_type": "markdown",
      "metadata": {
        "id": "rYp3qp-DPSYh"
      },
      "source": [
        "###Data Loading\n",
        "Loading CSV file from google drive in colab enviroment:\n",
        "We will first load our csv file in which data is stored to the colab enviroment in data frame format so that we can make the copy of the original data and perform the required cleaning and analysis on that data without changing the original one.\n",
        "\n"
      ]
    },
    {
      "cell_type": "code",
      "execution_count": null,
      "metadata": {
        "id": "lznjPCJDuYHr"
      },
      "outputs": [],
      "source": [
        "#Download datasets Hepatitis automobile from UCI repository\n",
        "from google.colab import drive\n",
        "drive.mount('/content/drive')\n",
        "import os\n",
        "path=\"/content/drive/My Drive/AlmaBetter_Capstone_projects/Capstone_project2_ml/NYC_TaxiData.csv\"\n",
        "taxi_original=pd.read_csv(path,parse_dates=[2,3])\n",
        "taxi= taxi_original.copy()"
      ]
    },
    {
      "cell_type": "markdown",
      "source": [
        "###Data Description"
      ],
      "metadata": {
        "id": "eR-dqPHRCG93"
      }
    },
    {
      "cell_type": "code",
      "source": [
        "#shape of the data\n",
        "taxi.shape"
      ],
      "metadata": {
        "id": "szycni7xbblE"
      },
      "execution_count": null,
      "outputs": []
    },
    {
      "cell_type": "code",
      "source": [
        "taxi.head()"
      ],
      "metadata": {
        "id": "RtbamHYubbZB"
      },
      "execution_count": null,
      "outputs": []
    },
    {
      "cell_type": "markdown",
      "metadata": {
        "id": "WWeU1f9bwqQq"
      },
      "source": [
        "\n",
        "\n",
        "The dataset is based on the 2016 NYC Yellow Cab trip record data made available in Big Query on Google Cloud Platform. The data was originally published by the NYC Taxi and Limousine Commission (TLC). The data was sampled and cleaned for the purposes of this project. Based on individual trip attributes, you should predict the duration of each trip in the test set.\n",
        "\n",
        "<b>NYC Taxi Data.csv</b> - the training set (contains 1458644 trip records)\n",
        "\n",
        "\n",
        "<b>Data fields</b>\n",
        "* #### id - a unique identifier for each trip\n",
        "* #### vendor_id - a code indicating the provider associated with the trip record\n",
        "* #### pickup_datetime - date and time when the meter was engaged\n",
        "* #### dropoff_datetime - date and time when the meter was disengaged\n",
        "* #### passenger_count - the number of passengers in the vehicle (driver entered value)\n",
        "* #### pickup_longitude - the longitude where the meter was engaged\n",
        "* #### pickup_latitude - the latitude where the meter was engaged\n",
        "* #### dropoff_longitude - the longitude where the meter was disengaged\n",
        "* #### dropoff_latitude - the latitude where the meter was disengaged\n",
        "* #### store_and_fwd_flag - This flag indicates whether the trip record was held in vehicle memory before sending to the vendor because the vehicle did not have a connection to the server - Y=store and forward; N=not a store and forward trip\n",
        "* #### trip_duration - duration of the trip in seconds"
      ]
    },
    {
      "cell_type": "code",
      "metadata": {
        "id": "dByMsuzT8Tnw"
      },
      "source": [
        "taxi.info()\n",
        "\"\"\"\n",
        "here we note that there is not any null value in data right now,\n",
        "we have two date-time columns\n",
        "\"\"\""
      ],
      "execution_count": null,
      "outputs": []
    },
    {
      "cell_type": "code",
      "source": [
        "taxi.describe(include=\"all\")"
      ],
      "metadata": {
        "id": "-hdh6m7FdGuq"
      },
      "execution_count": null,
      "outputs": []
    },
    {
      "cell_type": "code",
      "source": [
        "taxi.columns"
      ],
      "metadata": {
        "id": "cUvaiiPRdGni"
      },
      "execution_count": null,
      "outputs": []
    },
    {
      "cell_type": "code",
      "source": [
        "categorical=[\"vendor_id\",\"passenger_count\",\"store_and_fwd_flag\"]\n",
        "continuous=['pickup_longitude', 'pickup_latitude','dropoff_longitude', 'dropoff_latitude','trip_duration']\n",
        "for c in categorical:\n",
        "  print(f\"distribution of {c}:\\n{taxi[c].value_counts()}\\n\\n\")"
      ],
      "metadata": {
        "id": "DrSzGqlPdGbt"
      },
      "execution_count": null,
      "outputs": []
    },
    {
      "cell_type": "markdown",
      "source": [
        "Here we note that store and fwd flag is highly biased.\n",
        "There are several records where passenger count is zero, which is of no use, as none of the passenger will require time duration when there is no passenger in the taxi"
      ],
      "metadata": {
        "id": "jcQ-7ZNXIcFT"
      }
    },
    {
      "cell_type": "markdown",
      "source": [
        "##Data Cleaning"
      ],
      "metadata": {
        "id": "1iaAa5bKKH4l"
      }
    },
    {
      "cell_type": "code",
      "execution_count": null,
      "metadata": {
        "id": "N9tcEvJejQUT"
      },
      "outputs": [],
      "source": [
        "def print_null_percent(df):\n",
        "  null_percent=pd.Series()\n",
        "  for col in df.columns:\n",
        "    null_percent[col]=((df.shape[0]-df[col].count())/(df.shape[0]))*100\n",
        "  print(\"columns with null values\\n\",null_percent[null_percent!=0])\n",
        "\n"
      ]
    },
    {
      "cell_type": "code",
      "execution_count": null,
      "metadata": {
        "id": "6dFy5sRqxIN0"
      },
      "outputs": [],
      "source": [
        "#removing outliers using z-score method\n",
        "def remove_outliers(df):\n",
        "  from scipy import stats\n",
        "\n",
        "  continuous_col=df.describe().columns\n",
        "  df.boxplot(rot=90)\n",
        "  plt.title(\"before removing outliers\",)\n",
        "  plt.show()\n",
        "  \n",
        "  for c in continuous_col:\n",
        "    df = df[stats.zscore(df[c])<3] \n",
        "    \n",
        "    #df.loc[upper][c]=Q3\n",
        "    #df.loc[lower][c]=Q1\n",
        "     \n",
        "  df.boxplot(rot=90)\n",
        "  plt.title(\"after removing outliers\",)\n",
        "  plt.show()\n",
        "  return df"
      ]
    },
    {
      "cell_type": "code",
      "execution_count": null,
      "metadata": {
        "id": "He4__3iv2ZH_"
      },
      "outputs": [],
      "source": [
        "def normalization(df,col_list):\n",
        "\n",
        "  for c1 in col_list:\n",
        "    try:\n",
        "      mx=df.max()[c1]\n",
        "      mn=df.min()[c1]\n",
        "      df[c1]=(df[c1]-mn)/(mx-mn)\n",
        "      col_list.remove(c1)    #so that c1 do  not get normalized again and again\n",
        "    except:\n",
        "      print(f\"{c1} is not a numerical column, so it can not be normalized\")\n",
        "      col_list.remove(c1)\n",
        "      normalization(df,col_list)"
      ]
    },
    {
      "cell_type": "code",
      "source": [
        "\"\"\"\n",
        "presently data do not have any null value but it may be introduced later\n",
        "\"\"\"\n",
        "def cleaning(df,continuous_col=[],discrete_col=[],print_null=True,th=20.0):\n",
        "  \"\"\"\n",
        "  this function removes all the null values from the data \n",
        "  \"\"\"\n",
        "\n",
        "  print(f\"before cleaning\\n\")\n",
        "  print(f\"shape of data: {df.shape}\")\n",
        "  if(print_null):\n",
        "    print_null_percent(df)\n",
        "  \n",
        "  #step1\n",
        "  #preserving columns having at least 20% of not null values\n",
        "  df.dropna(axis=1,inplace=True,thresh=((th/100.0)*df.shape[0]))\n",
        "  #preserving rows having at least 20% of not null values\n",
        "  df.dropna(axis=0,inplace=True,thresh=((th/100.0)*df.shape[1]))\n",
        "\n",
        "  #step2\n",
        "  df.drop_duplicates(inplace=True,ignore_index=True)\n",
        "  \n",
        "\n",
        "  #step3\n",
        "  #removing all the null values\n",
        "  for c1 in df.columns:\n",
        "\n",
        "    #i.e it is an non catagorical column\n",
        "    if c1 in continuous_col: \n",
        "      df[c1].fillna(df[c1].mean(),inplace=True)\n",
        "    else:\n",
        "      df[c1].fillna(df[c1].value_counts().idxmax(),inplace=True)\n",
        "\n",
        "  print(f\"\\n\\nAfter cleaning the data\\n\")\n",
        "  print(f\"shape of data: {df.shape}\")\n",
        "  print_null_percent(df)\n",
        "  return df"
      ],
      "metadata": {
        "id": "Hb1qR8hjiN4N"
      },
      "execution_count": null,
      "outputs": []
    },
    {
      "cell_type": "code",
      "source": [
        "taxi=cleaning(taxi,continuous,categorical,th=20)"
      ],
      "metadata": {
        "id": "VW9P1edHhM71"
      },
      "execution_count": null,
      "outputs": []
    },
    {
      "cell_type": "code",
      "source": [
        "taxi = remove_outliers(taxi)"
      ],
      "metadata": {
        "id": "R0oSL2m-ySSv"
      },
      "execution_count": null,
      "outputs": []
    },
    {
      "cell_type": "code",
      "source": [
        "taxi.shape  #we have also tried removing outliers from quantile method, but in that case nearly 25% of the total values get removed."
      ],
      "metadata": {
        "id": "wkRVkhbOypfP"
      },
      "execution_count": null,
      "outputs": []
    },
    {
      "cell_type": "markdown",
      "source": [
        "##Feature Engineering\n"
      ],
      "metadata": {
        "id": "fgZpYXQWe9b-"
      }
    },
    {
      "cell_type": "code",
      "source": [
        "\"\"\"\n",
        "The column drop off time is a dependent column, as drop off time will depend on trip time \n",
        "also triptime= dropoff time-pickup time, so it is of no use so we remove that feature\n",
        "\"\"\"\n",
        "taxi.drop([\"dropoff_datetime\"],inplace=True,axis=1)"
      ],
      "metadata": {
        "id": "1awHwXPPIzW3"
      },
      "execution_count": null,
      "outputs": []
    },
    {
      "cell_type": "code",
      "source": [
        "\"\"\"\n",
        "from previous analysis we note that some records have passenger count as 0,so those records are of no use so lets remove them.\n",
        "\"\"\"\n",
        "taxi.index=np.arange(0,taxi.shape[0])\n",
        "passenger_0=np.where(taxi[\"passenger_count\"]==0)\n",
        "taxi.drop(passenger_0[0], inplace = True)\n",
        "taxi.shape"
      ],
      "metadata": {
        "id": "c9uFBq8thgn7"
      },
      "execution_count": null,
      "outputs": []
    },
    {
      "cell_type": "code",
      "source": [
        "taxi.head(2)"
      ],
      "metadata": {
        "id": "Eyx0NqtqY-aU"
      },
      "execution_count": null,
      "outputs": []
    },
    {
      "cell_type": "code",
      "source": [
        "#remove the column id as it is of no use\n",
        "taxi.drop(\"id\",axis=1,inplace=True)"
      ],
      "metadata": {
        "id": "R46q4f5AgtHm"
      },
      "execution_count": null,
      "outputs": []
    },
    {
      "cell_type": "code",
      "source": [
        "from datetime import datetime\n",
        "from datetime import date"
      ],
      "metadata": {
        "id": "BnJAlH1DluHU"
      },
      "execution_count": null,
      "outputs": []
    },
    {
      "cell_type": "code",
      "source": [
        "def get_weekdays(dates):\n",
        "  import calendar\n",
        "  from datetime import date\n",
        "  week_days=[]\n",
        "  for i in dates:\n",
        "    my_date = i.date()\n",
        "    week_days.append(calendar.day_name[my_date.weekday()])\n",
        "  return week_days\n"
      ],
      "metadata": {
        "id": "R3kfnexE4maK"
      },
      "execution_count": null,
      "outputs": []
    },
    {
      "cell_type": "code",
      "source": [
        "taxi[\"pickup_weekday\"]=get_weekdays((list(taxi[\"pickup_datetime\"])))"
      ],
      "metadata": {
        "id": "O0BHpc145hyI"
      },
      "execution_count": null,
      "outputs": []
    },
    {
      "cell_type": "code",
      "source": [
        "def separate_date(date_time):\n",
        "  years,months,dates=[],[],[]\n",
        "  for i in date_time:\n",
        "    years.append(i.year)\n",
        "    months.append(i.month)\n",
        "    dates.append(i.day)\n",
        "  return years,months,dates\n",
        "  "
      ],
      "metadata": {
        "id": "tl63SMaD_EyK"
      },
      "execution_count": null,
      "outputs": []
    },
    {
      "cell_type": "code",
      "source": [
        "def separate_time(date_time):\n",
        "  hours,minutes,seconds=[],[],[]\n",
        "  for i in date_time:\n",
        "    hours.append(i.hour)\n",
        "    minutes.append(i.minute)\n",
        "    seconds.append(i.second)\n",
        "  return hours,minutes,seconds"
      ],
      "metadata": {
        "id": "bWp-AO3hDamv"
      },
      "execution_count": null,
      "outputs": []
    },
    {
      "cell_type": "code",
      "source": [
        "years,months,dates=separate_date(taxi[\"pickup_datetime\"])\n",
        "taxi[\"pickup_year\"]=years\n",
        "taxi[\"pickup_date\"]=dates\n",
        "taxi[\"pickup_month\"]=months"
      ],
      "metadata": {
        "id": "0DbnfYye_kKE"
      },
      "execution_count": null,
      "outputs": []
    },
    {
      "cell_type": "code",
      "source": [
        "#for time we will only take hours, as they are important but having minutes and seconds is not required as we just want an idea of time.\n",
        "hours,minutes,seconds=separate_time(taxi[\"pickup_datetime\"])\n",
        "taxi[\"pickup_hour\"]=hours"
      ],
      "metadata": {
        "id": "jZkSx0pQD1VF"
      },
      "execution_count": null,
      "outputs": []
    },
    {
      "cell_type": "code",
      "source": [
        "taxi.columns"
      ],
      "metadata": {
        "id": "8LmucgRAE_nd"
      },
      "execution_count": null,
      "outputs": []
    },
    {
      "cell_type": "code",
      "source": [
        "\n",
        "print(taxi[\"pickup_year\"].value_counts())\n",
        "#as year is only 2016 so it is of no use\n"
      ],
      "metadata": {
        "id": "G6RJZ5pW3-tU"
      },
      "execution_count": null,
      "outputs": []
    },
    {
      "cell_type": "code",
      "source": [
        "#now we will drop some columns which we do not require\n",
        "taxi.drop(['pickup_datetime', \"pickup_year\",'pickup_date'],axis=1,inplace=True)"
      ],
      "metadata": {
        "id": "rkAHOrTWY-Ok"
      },
      "execution_count": null,
      "outputs": []
    },
    {
      "cell_type": "markdown",
      "source": [
        "Calculating distance from latitude and longitude using Haversine’ formula. The haversine formula determines the great-circle distance between two points on a sphere given their longitudes and latitudes. Given by(in miles)\n",
        "\n",
        "$$Distance = 3963.0*arccos[(sin(lat1)*sin(lat2))+cos(lat1)*cos(lat2)*cos(long1-long2)]$$\n",
        "\n",
        "First we convert latitude and longitude in radian."
      ],
      "metadata": {
        "id": "tspi18ISR0ha"
      }
    },
    {
      "cell_type": "code",
      "source": [
        "import math\n",
        "def convert_radian(arg):\n",
        "  ''' This function convert degree to radian\n",
        "  input is in degree \n",
        "  output is in radian'''\n",
        "\n",
        "  return arg*(math.pi/180)\n"
      ],
      "metadata": {
        "id": "noahYveHU539"
      },
      "execution_count": null,
      "outputs": []
    },
    {
      "cell_type": "code",
      "source": [
        "distance = [ 'pickup_longitude','pickup_latitude', 'dropoff_longitude','dropoff_latitude']\n",
        "for col in distance:\n",
        "  taxi[col] = taxi[col].apply(convert_radian)"
      ],
      "metadata": {
        "id": "iaTWuRWLX_zX"
      },
      "execution_count": null,
      "outputs": []
    },
    {
      "cell_type": "code",
      "source": [
        "taxi.head()"
      ],
      "metadata": {
        "id": "JKsilVkhZzxd"
      },
      "execution_count": null,
      "outputs": []
    },
    {
      "cell_type": "code",
      "source": [
        "def  haversine_formula(lat1,lat2,long1,long2):\n",
        "  ''' lat1 = pickup latitude(in radian form)\n",
        "  lat2 = dropoff_latitude(in radian form)\n",
        "  long1 = pickup longitude(in radian form)\n",
        "  long2 = dropoff longitude(in radian form)'''\n",
        "  a = (np.sin(lat1)*np.sin(lat2))+(np.cos(lat1)*np.cos(lat2)*np.cos(long2-long1))\n",
        "  b = np.arccos(a)\n",
        "  c = 3963.0*1.609344*b # convert into KM\n",
        "\n",
        "  return c"
      ],
      "metadata": {
        "id": "fAV7m0mFaZwc"
      },
      "execution_count": null,
      "outputs": []
    },
    {
      "cell_type": "code",
      "source": [
        "taxi['total_distance'] = haversine_formula(taxi['pickup_latitude'],taxi['dropoff_latitude'],taxi['pickup_longitude'],taxi['dropoff_longitude'])"
      ],
      "metadata": {
        "id": "zLvtDqlNtSsw"
      },
      "execution_count": null,
      "outputs": []
    },
    {
      "cell_type": "code",
      "source": [
        "taxi.describe()"
      ],
      "metadata": {
        "id": "wSLgRj3rhZl9"
      },
      "execution_count": null,
      "outputs": []
    },
    {
      "cell_type": "code",
      "source": [
        "taxi.boxplot(column = 'total_distance')"
      ],
      "metadata": {
        "id": "II_ZuDID0xsw"
      },
      "execution_count": null,
      "outputs": []
    },
    {
      "cell_type": "code",
      "source": [
        "len(taxi[taxi['total_distance']>50])"
      ],
      "metadata": {
        "id": "Yc-JSGjF3DYi"
      },
      "execution_count": null,
      "outputs": []
    },
    {
      "cell_type": "code",
      "source": [
        "#outliers removal of  total_distance\n",
        "taxi = taxi[taxi['total_distance']<50]"
      ],
      "metadata": {
        "id": "dVV36p_uY9oL"
      },
      "execution_count": null,
      "outputs": []
    },
    {
      "cell_type": "code",
      "source": [
        "taxi.shape"
      ],
      "metadata": {
        "id": "nx8VSDJW107C"
      },
      "execution_count": null,
      "outputs": []
    },
    {
      "cell_type": "code",
      "source": [
        "def convert_weekday(x):\n",
        "  if x in ['Monday','Tuesday','Wednesday','Thursday','Friday']:\n",
        "    x = 0\n",
        "    return x\n",
        "  else:\n",
        "    x = 1\n",
        "    return x"
      ],
      "metadata": {
        "id": "jlSeQPzXR9a6"
      },
      "execution_count": null,
      "outputs": []
    },
    {
      "cell_type": "code",
      "source": [
        "taxi['pickup_is_weekend'] = taxi['pickup_weekday'].apply(convert_weekday)"
      ],
      "metadata": {
        "id": "cY_Jd3IEUeVh"
      },
      "execution_count": null,
      "outputs": []
    },
    {
      "cell_type": "code",
      "source": [
        "def convert_pickup_hour(x):\n",
        "  if x in [0,1,2,3,4,5,6]:\n",
        "    x = 'mid_night'\n",
        "    return x\n",
        "  elif x in [7,8,9,10,11,12]:\n",
        "    x = 'office_time'\n",
        "    return x\n",
        "  elif x in [13,14,15,16,17,18]:\n",
        "    x = 'lunch_time'\n",
        "    return x\n",
        "  else:\n",
        "    x = 'Evening_time'\n",
        "    return x"
      ],
      "metadata": {
        "id": "3trhMBgIUqXJ"
      },
      "execution_count": null,
      "outputs": []
    },
    {
      "cell_type": "code",
      "source": [
        "taxi['pickup_shift'] = taxi['pickup_hour'].apply(convert_pickup_hour)"
      ],
      "metadata": {
        "id": "3qRp4TQXVdCM"
      },
      "execution_count": null,
      "outputs": []
    },
    {
      "cell_type": "code",
      "source": [
        "taxi.head()"
      ],
      "metadata": {
        "id": "xQnlgzEeXHTT"
      },
      "execution_count": null,
      "outputs": []
    },
    {
      "cell_type": "code",
      "source": [
        "numeric_feature = taxi.describe().columns\n",
        "numeric_feature"
      ],
      "metadata": {
        "id": "O-A_PUfaXKVd"
      },
      "execution_count": null,
      "outputs": []
    },
    {
      "cell_type": "code",
      "source": [
        "# Now check the distribution of dependent variable\n",
        "import seaborn as sns\n",
        "fig = plt.figure(figsize=(10,7))\n",
        "sns.distplot(taxi['trip_duration'], color = 'g')"
      ],
      "metadata": {
        "id": "8GpyUegUltFl"
      },
      "execution_count": null,
      "outputs": []
    },
    {
      "cell_type": "code",
      "source": [
        "fig = plt.figure(figsize=(10,7))\n",
        "sns.distplot(np.sqrt(taxi['trip_duration']), color = 'g')"
      ],
      "metadata": {
        "id": "abSxB-WVl-v_"
      },
      "execution_count": null,
      "outputs": []
    },
    {
      "cell_type": "code",
      "source": [
        "for col in numeric_feature[1:]:\n",
        "  if col not in ['passenger_count','trip_duration']:\n",
        "    fig = plt.figure(figsize=(10,7))\n",
        "    sns.distplot(taxi[col])\n",
        "    plt.ylabel(col)\n",
        "    plt.show()"
      ],
      "metadata": {
        "id": "gXy8ILCLmGAp"
      },
      "execution_count": null,
      "outputs": []
    },
    {
      "cell_type": "code",
      "source": [
        "#let's have a look at correlation of different attributes and remove multicollinearity\n",
        "plt.figure(figsize=(15,8))\n",
        "correlation = taxi.corr()\n",
        "sns.heatmap(abs(correlation), annot=True, cmap='coolwarm')"
      ],
      "metadata": {
        "id": "YkjqSkSjMjS2"
      },
      "execution_count": null,
      "outputs": []
    },
    {
      "cell_type": "markdown",
      "source": [
        "From here we note that there is a good correlation between trip_durationa and total distance, so we conclude that duration mainly depends on distance and not on the path or the initial and final positions, so we drop the four columns which represents geographic location of final and initial point"
      ],
      "metadata": {
        "id": "pgo1nR9tfs0R"
      }
    },
    {
      "cell_type": "code",
      "source": [
        "#taxi.drop([\"pickup_latitude\",\"pickup_longitude\",\"dropoff_latitude\",\"dropoff_longitude\"],axis=1,inplace=True)"
      ],
      "metadata": {
        "id": "qq4HekYqfa2M"
      },
      "execution_count": null,
      "outputs": []
    },
    {
      "cell_type": "code",
      "source": [
        "taxi[\"speed\"]=taxi[\"total_distance\"]/taxi[\"trip_duration\"] "
      ],
      "metadata": {
        "id": "oi7c0Wi-FDzE"
      },
      "execution_count": null,
      "outputs": []
    },
    {
      "cell_type": "code",
      "source": [
        "def remove_outliers2(df,continuous_col=[]):\n",
        "\n",
        "  if len(continuous_col)==0:\n",
        "\n",
        "    continuous_col=df.describe().columns\n",
        "  df.boxplot(rot=90)\n",
        "  plt.title(\"before removing outliers\",)\n",
        "  plt.show()\n",
        "  \n",
        "  for c in continuous_col:\n",
        "    df.index=np.arange(0,df.shape[0])\n",
        "    Q1=np.quantile(df[c],0.25)\n",
        "    Q3=np.quantile(df[c],0.75)\n",
        "    IQR= Q3 - Q1\n",
        "    upper=np.where(df[c]>=(Q3+1.5*IQR))[0]\n",
        "    #print(upper[0])\n",
        "    lower=np.where(df[c]<=(Q1-1.5*IQR))[0]   #it will be a tuple and we require a numpy array which is at it's first index.\n",
        "    #print(lower)\n",
        "    outliers_idx=np.unique(np.append(upper,lower)) \n",
        "    df.drop(outliers_idx, inplace = True) \n",
        "    \n",
        "    #df.loc[upper][c]=Q3\n",
        "    #df.loc[lower][c]=Q1\n",
        "     \n",
        "  df.boxplot(rot=90)\n",
        "  plt.title(\"after removing outliers\",)\n",
        "  plt.show()\n",
        "  return df"
      ],
      "metadata": {
        "id": "qPa2uZgwGAr7"
      },
      "execution_count": null,
      "outputs": []
    },
    {
      "cell_type": "code",
      "source": [
        "taxi=remove_outliers2(taxi,[\"speed\"])"
      ],
      "metadata": {
        "id": "dKubvtdzFhJW"
      },
      "execution_count": null,
      "outputs": []
    },
    {
      "cell_type": "code",
      "source": [
        "taxi.shape#1397670"
      ],
      "metadata": {
        "id": "UBuLmiVSJaWC"
      },
      "execution_count": null,
      "outputs": []
    },
    {
      "cell_type": "code",
      "source": [
        "taxi.drop([\"speed\"],axis=1,inplace=True)"
      ],
      "metadata": {
        "id": "FII3jP-vKXIL"
      },
      "execution_count": null,
      "outputs": []
    },
    {
      "cell_type": "code",
      "source": [
        "#remove multicollinearity\n",
        "from statsmodels.stats.outliers_influence import variance_inflation_factor\n",
        "def calc_vif(x):\n",
        "  vif = pd.DataFrame()\n",
        "  vif['columns'] = x.columns\n",
        "  vif['vif_values'] = [variance_inflation_factor(x.values,i) for i in range(x.shape[1])]\n",
        "\n",
        "  return vif"
      ],
      "metadata": {
        "id": "GxgOdokXmTnU"
      },
      "execution_count": null,
      "outputs": []
    },
    {
      "cell_type": "code",
      "source": [
        "numeric_feature1 = taxi.describe().columns\n",
        "numeric_feature1"
      ],
      "metadata": {
        "id": "Llx-eZVehmwf"
      },
      "execution_count": null,
      "outputs": []
    },
    {
      "cell_type": "code",
      "source": [
        "calc_vif(taxi[[col for col in numeric_feature1 if col not in ['trip_duration']]])\n",
        "\n",
        "#we do not need to drop any column as now none of the attribute have a vif value greater than 10"
      ],
      "metadata": {
        "id": "kH8nn_8whvNF"
      },
      "execution_count": null,
      "outputs": []
    },
    {
      "cell_type": "code",
      "source": [
        "taxi.columns"
      ],
      "metadata": {
        "id": "uvCIqqchlnkl"
      },
      "execution_count": null,
      "outputs": []
    },
    {
      "cell_type": "code",
      "source": [
        "#Now we do some analysis on categorical variable\n",
        "categorical_feature = list(taxi.describe(include = 'object').columns)\n",
        "categorical_feature.extend(['pickup_is_weekend'])"
      ],
      "metadata": {
        "id": "nP0f-7Ovj1vh"
      },
      "execution_count": null,
      "outputs": []
    },
    {
      "cell_type": "code",
      "source": [
        "categorical_feature"
      ],
      "metadata": {
        "id": "dN0TX4KMkb_7"
      },
      "execution_count": null,
      "outputs": []
    },
    {
      "cell_type": "code",
      "source": [
        "#to have a look at the distribution of various categorical features\n",
        "for col in categorical_feature:\n",
        "  fig = plt.figure(figsize= (10,7))\n",
        "  ax = fig.gca()\n",
        "  counts = taxi[col].value_counts()\n",
        "  counts.plot.bar(ax=ax,color='y')\n",
        "  ax.set_title(col + 'count')\n",
        "  ax.set_xlabel(col)\n",
        "  ax.set_ylabel('frequency')"
      ],
      "metadata": {
        "id": "8Ix0wRxTmHv_"
      },
      "execution_count": null,
      "outputs": []
    },
    {
      "cell_type": "markdown",
      "source": [
        "So we will drop the column pickup_weekday and pickup_hours as pickup_weekday and pickup_is_weekend is correlated to each other. Whereas pickup_hours and pickup_shift are correlated."
      ],
      "metadata": {
        "id": "UdB6d7Qcr5Hx"
      }
    },
    {
      "cell_type": "code",
      "source": [
        ""
      ],
      "metadata": {
        "id": "xYXmZEfAaREM"
      },
      "execution_count": null,
      "outputs": []
    },
    {
      "cell_type": "code",
      "source": [
        "#but we do not very much bother about their separate distribution what we care about is how these features affect our dependent variable\n",
        "features=[\"vendor_id\",\"pickup_month\"]+categorical_feature\n",
        "for col in features:\n",
        "  plt.figure(figsize=(15,12),facecolor='white',edgecolor='orange')\n",
        "  plt.title(\"trip_duration v/s total_distance\".title())\n",
        "  sns.scatterplot(x=\"trip_duration\",y=\"total_distance\",data=taxi,hue=col, alpha=1, legend=\"brief\")#,y_bins=[10*i for i in range(0,20)])\n",
        "  plt.show()"
      ],
      "metadata": {
        "id": "BV0wUAlQWjHm"
      },
      "execution_count": null,
      "outputs": []
    },
    {
      "cell_type": "markdown",
      "source": [
        "From above we note that:\n",
        "- vendor_id: For a longer trip or for a longer path vendor_id 2 is preffered\n",
        "- pickup_month: Data is not properly separated but for a better result we will do some more analysis on this column.\n",
        "- store_and_fwd_flag: This is a biased column, also there is no particular separation so we will drop it.\n",
        "- pickup_weekday: there is no particular separation so we will drop it.\n",
        "- pickup_shift and pickup_isweekend shows some boudaries through which we can separate different colours so these attributes are important"
      ],
      "metadata": {
        "id": "P2Nry45rn4Df"
      }
    },
    {
      "cell_type": "code",
      "source": [
        "taxi.drop(['store_and_fwd_flag', 'pickup_weekday'],axis=1,inplace=True)"
      ],
      "metadata": {
        "id": "_PFJGqQRn23N"
      },
      "execution_count": null,
      "outputs": []
    },
    {
      "cell_type": "markdown",
      "source": [
        "Conclusion:\n",
        "First two features do not bother the pick_up duration much, as we note that all the colurs are mixed , and is particular boundary which tends to separate them so we drop the first two features"
      ],
      "metadata": {
        "id": "btZLQs2kZDg3"
      }
    },
    {
      "cell_type": "code",
      "source": [
        "categorical_feature=taxi.describe(include=\"object\")"
      ],
      "metadata": {
        "id": "3H2MuQHypksl"
      },
      "execution_count": null,
      "outputs": []
    },
    {
      "cell_type": "code",
      "source": [
        "for col in categorical_feature:\n",
        "  fig = plt.figure(figsize=(10,7))\n",
        "  ax = fig.gca()\n",
        "  taxi.boxplot(column = 'trip_duration',by = col, ax=ax)\n",
        "  ax.set_xlabel(col)\n",
        "  ax.set_ylabel('trip_duration')\n",
        "  plt.show()\n"
      ],
      "metadata": {
        "id": "bL7__3wRrfyw"
      },
      "execution_count": null,
      "outputs": []
    },
    {
      "cell_type": "code",
      "source": [
        "#performing some analysis on pickup_hour\n",
        "taxi[[\"pickup_hour\",\"trip_duration\"]].corr()\n",
        "#from here we note that this attribute do not have a good correlation with trip duration so we drop it\n",
        "taxi.drop([\"pickup_hour\"],axis=1,inplace=True)"
      ],
      "metadata": {
        "id": "hr9LYCqJufAa"
      },
      "execution_count": null,
      "outputs": []
    },
    {
      "cell_type": "code",
      "source": [
        "#some analysis on pickup month\n",
        "\n",
        "taxi[\"pickup_month\"].value_counts()\n",
        "#there are total six pickup months and other six month  data is not included so what if we want to get a duration for any \n",
        "#of the next six month, so we drop this attribute also\n",
        "taxi.drop([\"pickup_month\"],axis=1,inplace=True)"
      ],
      "metadata": {
        "id": "66kbnzh2rgma"
      },
      "execution_count": null,
      "outputs": []
    },
    {
      "cell_type": "code",
      "source": [
        "taxi[\"pickup_shift\"].unique()"
      ],
      "metadata": {
        "id": "nRj5Iv0U0KUR"
      },
      "execution_count": null,
      "outputs": []
    },
    {
      "cell_type": "code",
      "source": [
        "##Give a Pandas command to convert the categorical attribute, pickup_shift into dummy variables.\n",
        "taxi['pickup_shift'].replace(to_replace=['mid_night', 'office_time','lunch_time',  'Evening_time'], value=[0,1,2,3] ,inplace=True)"
      ],
      "metadata": {
        "id": "O7DqPt5y0JGS"
      },
      "execution_count": null,
      "outputs": []
    },
    {
      "cell_type": "code",
      "source": [
        "#columns left with us\n",
        "taxi.columns"
      ],
      "metadata": {
        "id": "I1Mn4ALOz-6i"
      },
      "execution_count": null,
      "outputs": []
    },
    {
      "cell_type": "code",
      "source": [
        "(taxi.describe()).columns #here we note that all the columns have numeric data type so data is ready for prediction"
      ],
      "metadata": {
        "colab": {
          "base_uri": "https://localhost:8080/"
        },
        "id": "hQaHJhSq6Q3P",
        "outputId": "a2e69ce6-e539-45db-996b-4ab69c1dd587"
      },
      "execution_count": 67,
      "outputs": [
        {
          "output_type": "execute_result",
          "data": {
            "text/plain": [
              "Index(['vendor_id', 'passenger_count', 'pickup_longitude', 'pickup_latitude',\n",
              "       'dropoff_longitude', 'dropoff_latitude', 'trip_duration',\n",
              "       'total_distance', 'pickup_is_weekend', 'pickup_shift'],\n",
              "      dtype='object')"
            ]
          },
          "metadata": {},
          "execution_count": 67
        }
      ]
    },
    {
      "cell_type": "code",
      "source": [
        ""
      ],
      "metadata": {
        "id": "-_vdr8rF9SoI"
      },
      "execution_count": null,
      "outputs": []
    },
    {
      "cell_type": "code",
      "source": [
        ""
      ],
      "metadata": {
        "id": "3i0NRTy39SdS"
      },
      "execution_count": null,
      "outputs": []
    },
    {
      "cell_type": "code",
      "source": [
        ""
      ],
      "metadata": {
        "id": "f5rx8d2v9SaO"
      },
      "execution_count": null,
      "outputs": []
    },
    {
      "cell_type": "code",
      "source": [
        ""
      ],
      "metadata": {
        "id": "XiA8YAei9SX2"
      },
      "execution_count": null,
      "outputs": []
    },
    {
      "cell_type": "code",
      "source": [
        "#building model\n",
        "\n",
        "independent_var=list((abs((taxi.corr())[\"trip_duration\"]).sort_values(ascending=False)).index)[1:]\n",
        "dependent_var=[\"trip_duration\"]\n",
        "independent_var\n",
        "x=taxi[independent_var]\n",
        "y=taxi[\"trip_duration\"]\n",
        "#arranged independent var in proper order\n",
        "\n",
        "#just to try\n",
        "x=x.iloc[:50000]\n",
        "y=y.iloc[:50000]"
      ],
      "metadata": {
        "id": "nI4LBIFx7jfI"
      },
      "execution_count": 68,
      "outputs": []
    },
    {
      "cell_type": "code",
      "source": [
        "independent_var"
      ],
      "metadata": {
        "colab": {
          "base_uri": "https://localhost:8080/"
        },
        "id": "MEt6PgY8X-gC",
        "outputId": "c7d36210-9a9c-42be-809c-1d771a3673b9"
      },
      "execution_count": 69,
      "outputs": [
        {
          "output_type": "execute_result",
          "data": {
            "text/plain": [
              "['total_distance',\n",
              " 'pickup_latitude',\n",
              " 'dropoff_latitude',\n",
              " 'pickup_longitude',\n",
              " 'dropoff_longitude',\n",
              " 'pickup_is_weekend',\n",
              " 'pickup_shift',\n",
              " 'passenger_count',\n",
              " 'vendor_id']"
            ]
          },
          "metadata": {},
          "execution_count": 69
        }
      ]
    },
    {
      "cell_type": "code",
      "source": [
        "#train-test split\n",
        "\n",
        "from sklearn.model_selection import train_test_split\n",
        "x_train,x_test,y_train,y_test= train_test_split(x, y, test_size=0.30, random_state=324)\n",
        "\n"
      ],
      "metadata": {
        "id": "8hpI0UjZ9Vdm"
      },
      "execution_count": 71,
      "outputs": []
    },
    {
      "cell_type": "markdown",
      "source": [
        "##Linear Regression"
      ],
      "metadata": {
        "id": "YlMcZGVNLIxx"
      }
    },
    {
      "cell_type": "code",
      "source": [
        "from sklearn.linear_model import LinearRegression\n",
        "from sklearn.metrics import r2_score\n",
        "from sklearn.metrics import mean_squared_error"
      ],
      "metadata": {
        "id": "PeqRWrwe9Vbj"
      },
      "execution_count": 70,
      "outputs": []
    },
    {
      "cell_type": "code",
      "source": [
        "linear_model=LinearRegression()\n",
        "linear_model.fit(x_train,y_train)\n"
      ],
      "metadata": {
        "colab": {
          "base_uri": "https://localhost:8080/"
        },
        "id": "a9joEAgN9VYs",
        "outputId": "4629e812-eeab-42e6-e842-be8215c6350c"
      },
      "execution_count": 72,
      "outputs": [
        {
          "output_type": "execute_result",
          "data": {
            "text/plain": [
              "LinearRegression()"
            ]
          },
          "metadata": {},
          "execution_count": 72
        }
      ]
    },
    {
      "cell_type": "code",
      "source": [
        "y_train_predicted=linear_model.predict(x_train)\n",
        "y_test_predicted=linear_model.predict(x_test)\n",
        "\n",
        "\n"
      ],
      "metadata": {
        "id": "JpTWHX5r9VWW"
      },
      "execution_count": 73,
      "outputs": []
    },
    {
      "cell_type": "code",
      "source": [
        "math.sqrt(mean_squared_error(y_train,y_train_predicted))"
      ],
      "metadata": {
        "colab": {
          "base_uri": "https://localhost:8080/"
        },
        "id": "zx4Wfj9AL_O-",
        "outputId": "9e900ecb-c957-470a-f47a-4b3c13f6724a"
      },
      "execution_count": 74,
      "outputs": [
        {
          "output_type": "execute_result",
          "data": {
            "text/plain": [
              "374.2604327243455"
            ]
          },
          "metadata": {},
          "execution_count": 74
        }
      ]
    },
    {
      "cell_type": "code",
      "source": [
        "r2_score(y_train, y_train_predicted)"
      ],
      "metadata": {
        "colab": {
          "base_uri": "https://localhost:8080/"
        },
        "id": "2zi4Zl-vL_Mk",
        "outputId": "6446ecb0-7fe0-4202-fcda-9461b46b60d3"
      },
      "execution_count": 75,
      "outputs": [
        {
          "output_type": "execute_result",
          "data": {
            "text/plain": [
              "0.6639250939095025"
            ]
          },
          "metadata": {},
          "execution_count": 75
        }
      ]
    },
    {
      "cell_type": "code",
      "source": [
        "r2_score(y_test, y_test_predicted)"
      ],
      "metadata": {
        "id": "0_HeJq4DMaK9",
        "outputId": "d89dc95e-ec54-473b-8446-6ff5571bec29",
        "colab": {
          "base_uri": "https://localhost:8080/"
        }
      },
      "execution_count": 76,
      "outputs": [
        {
          "output_type": "execute_result",
          "data": {
            "text/plain": [
              "0.645636361190796"
            ]
          },
          "metadata": {},
          "execution_count": 76
        }
      ]
    },
    {
      "cell_type": "markdown",
      "source": [
        "##Decesion Tree"
      ],
      "metadata": {
        "id": "N88sEomfuFSk"
      }
    },
    {
      "cell_type": "code",
      "source": [
        "from sklearn.tree import DecisionTreeRegressor \n",
        "  \n",
        "# create a regressor object\n",
        "regressor = DecisionTreeRegressor(max_depth = 15, min_impurity_decrease = 0.1, min_samples_split = 600,random_state = 0) \n",
        "  \n",
        "# fit the regressor with X and Y data\n",
        "regressor.fit(x_train, y_train)"
      ],
      "metadata": {
        "colab": {
          "base_uri": "https://localhost:8080/"
        },
        "id": "UbcGe-mJYHyp",
        "outputId": "5814de8d-7d80-4925-eb8c-9b21464fd369"
      },
      "execution_count": 77,
      "outputs": [
        {
          "output_type": "execute_result",
          "data": {
            "text/plain": [
              "DecisionTreeRegressor(max_depth=15, min_impurity_decrease=0.1,\n",
              "                      min_samples_split=600, random_state=0)"
            ]
          },
          "metadata": {},
          "execution_count": 77
        }
      ]
    },
    {
      "cell_type": "code",
      "source": [
        "regressor.score(x_train,y_train)"
      ],
      "metadata": {
        "colab": {
          "base_uri": "https://localhost:8080/"
        },
        "id": "2YVuBDBlYTAc",
        "outputId": "cbc970bc-4606-413f-ee78-1adf24a82fcc"
      },
      "execution_count": 78,
      "outputs": [
        {
          "output_type": "execute_result",
          "data": {
            "text/plain": [
              "0.7187486164000061"
            ]
          },
          "metadata": {},
          "execution_count": 78
        }
      ]
    },
    {
      "cell_type": "code",
      "source": [
        "y_pred_dt = regressor.predict(x_test)"
      ],
      "metadata": {
        "id": "XIEHzxt-YdBN"
      },
      "execution_count": 79,
      "outputs": []
    },
    {
      "cell_type": "code",
      "source": [
        "r2 = r2_score((y_test), (y_pred_dt))\n",
        "r2"
      ],
      "metadata": {
        "colab": {
          "base_uri": "https://localhost:8080/"
        },
        "id": "wn6hWAZtYrzz",
        "outputId": "797c5697-616d-4797-c8d6-451326bb8cc8"
      },
      "execution_count": 80,
      "outputs": [
        {
          "output_type": "execute_result",
          "data": {
            "text/plain": [
              "0.6824833546623231"
            ]
          },
          "metadata": {},
          "execution_count": 80
        }
      ]
    },
    {
      "cell_type": "code",
      "source": [
        "MSE  = mean_squared_error((y_test), (y_pred_dt))\n",
        "print(\"MSE :\" , MSE)\n",
        "\n",
        "RMSE = np.sqrt(MSE)\n",
        "print(\"RMSE :\" ,RMSE)"
      ],
      "metadata": {
        "colab": {
          "base_uri": "https://localhost:8080/"
        },
        "id": "2mP_Q5-4Yven",
        "outputId": "8c01eccf-9a5e-4636-bc57-feb22aef3f83"
      },
      "execution_count": 81,
      "outputs": [
        {
          "output_type": "stream",
          "name": "stdout",
          "text": [
            "MSE : 147015.42112379687\n",
            "RMSE : 383.42590043422587\n"
          ]
        }
      ]
    },
    {
      "cell_type": "markdown",
      "source": [
        "##Gradient Boosting:"
      ],
      "metadata": {
        "id": "Sq1jHw-UpqlZ"
      }
    },
    {
      "cell_type": "code",
      "source": [
        "from sklearn.ensemble import GradientBoostingRegressor\n",
        "from sklearn.model_selection import GridSearchCV\n",
        "model=GradientBoostingRegressor()\n",
        "grid_values = {'n_estimators':[50, 100], 'max_depth':[6,8]}\n",
        "model= GridSearchCV(model, param_grid = grid_values, scoring = 'r2', cv=7)\n",
        "\n",
        "model.fit(x_train,y_train)"
      ],
      "metadata": {
        "id": "KSxaiDzLY9Yk",
        "colab": {
          "base_uri": "https://localhost:8080/"
        },
        "outputId": "511c74ac-c44c-4d21-93b4-b0ec6ce598db"
      },
      "execution_count": 116,
      "outputs": [
        {
          "output_type": "execute_result",
          "data": {
            "text/plain": [
              "GridSearchCV(cv=7, estimator=GradientBoostingRegressor(),\n",
              "             param_grid={'max_depth': [6, 8], 'n_estimators': [50, 100]},\n",
              "             scoring='r2')"
            ]
          },
          "metadata": {},
          "execution_count": 116
        }
      ]
    },
    {
      "cell_type": "code",
      "source": [
        ""
      ],
      "metadata": {
        "id": "sVIf8tVUU6kf"
      },
      "execution_count": 116,
      "outputs": []
    },
    {
      "cell_type": "code",
      "source": [
        "y_train_predicted=model.predict(x_train)\n",
        "y_test_predicted=model.predict(x_test)\n",
        "\n",
        "\n"
      ],
      "metadata": {
        "id": "K9wqYsfyU7LY"
      },
      "execution_count": 117,
      "outputs": []
    },
    {
      "cell_type": "code",
      "source": [
        "math.sqrt(mean_squared_error(y_train,y_train_predicted))"
      ],
      "metadata": {
        "colab": {
          "base_uri": "https://localhost:8080/"
        },
        "outputId": "d1a0914e-4f96-4d8a-fa67-2632b5b04f08",
        "id": "gDZXPiGJU7LZ"
      },
      "execution_count": 118,
      "outputs": [
        {
          "output_type": "execute_result",
          "data": {
            "text/plain": [
              "277.7603771991829"
            ]
          },
          "metadata": {},
          "execution_count": 118
        }
      ]
    },
    {
      "cell_type": "code",
      "source": [
        "r2_score(y_train, y_train_predicted)"
      ],
      "metadata": {
        "colab": {
          "base_uri": "https://localhost:8080/"
        },
        "outputId": "7bbb011e-7fa1-40f2-f4db-e490f01253b8",
        "id": "7JijO8LYU7La"
      },
      "execution_count": 119,
      "outputs": [
        {
          "output_type": "execute_result",
          "data": {
            "text/plain": [
              "0.8148904429002747"
            ]
          },
          "metadata": {},
          "execution_count": 119
        }
      ]
    },
    {
      "cell_type": "code",
      "source": [
        "r2_score(y_test, y_test_predicted)"
      ],
      "metadata": {
        "outputId": "3ee5d8e6-42ae-4037-ffe3-47354b0739ed",
        "colab": {
          "base_uri": "https://localhost:8080/"
        },
        "id": "t9pGzc3HU7Lb"
      },
      "execution_count": 120,
      "outputs": [
        {
          "output_type": "execute_result",
          "data": {
            "text/plain": [
              "0.7158320979485548"
            ]
          },
          "metadata": {},
          "execution_count": 120
        }
      ]
    },
    {
      "cell_type": "code",
      "source": [
        "from sklearn.model_selection import GridSearchCV\n",
        "from xgboost import XGBRegressor\n",
        "xg = XGBRegressor()\n",
        "learning_rate = [0.5,0.6]\n",
        "subsample = [0.8,0.9]\n",
        "max_depth = [7]\n",
        "grid = dict(learning_rate=learning_rate, subsample=subsample, max_depth=max_depth)\n",
        "grid_search1 = GridSearchCV(xg,param_grid = grid,scoring = 'r2', cv = 3)\n",
        "grid_search1.fit(x_train,y_train)"
      ],
      "metadata": {
        "colab": {
          "base_uri": "https://localhost:8080/"
        },
        "id": "KkQq65F31CNC",
        "outputId": "1d00c8d3-297f-452b-ff64-8769436998b9"
      },
      "execution_count": 121,
      "outputs": [
        {
          "output_type": "stream",
          "name": "stdout",
          "text": [
            "[14:26:11] WARNING: /workspace/src/objective/regression_obj.cu:152: reg:linear is now deprecated in favor of reg:squarederror.\n",
            "[14:26:14] WARNING: /workspace/src/objective/regression_obj.cu:152: reg:linear is now deprecated in favor of reg:squarederror.\n",
            "[14:26:18] WARNING: /workspace/src/objective/regression_obj.cu:152: reg:linear is now deprecated in favor of reg:squarederror.\n",
            "[14:26:21] WARNING: /workspace/src/objective/regression_obj.cu:152: reg:linear is now deprecated in favor of reg:squarederror.\n",
            "[14:26:25] WARNING: /workspace/src/objective/regression_obj.cu:152: reg:linear is now deprecated in favor of reg:squarederror.\n",
            "[14:26:28] WARNING: /workspace/src/objective/regression_obj.cu:152: reg:linear is now deprecated in favor of reg:squarederror.\n",
            "[14:26:32] WARNING: /workspace/src/objective/regression_obj.cu:152: reg:linear is now deprecated in favor of reg:squarederror.\n",
            "[14:26:35] WARNING: /workspace/src/objective/regression_obj.cu:152: reg:linear is now deprecated in favor of reg:squarederror.\n",
            "[14:26:39] WARNING: /workspace/src/objective/regression_obj.cu:152: reg:linear is now deprecated in favor of reg:squarederror.\n",
            "[14:26:42] WARNING: /workspace/src/objective/regression_obj.cu:152: reg:linear is now deprecated in favor of reg:squarederror.\n",
            "[14:26:46] WARNING: /workspace/src/objective/regression_obj.cu:152: reg:linear is now deprecated in favor of reg:squarederror.\n",
            "[14:26:49] WARNING: /workspace/src/objective/regression_obj.cu:152: reg:linear is now deprecated in favor of reg:squarederror.\n",
            "[14:26:53] WARNING: /workspace/src/objective/regression_obj.cu:152: reg:linear is now deprecated in favor of reg:squarederror.\n"
          ]
        },
        {
          "output_type": "execute_result",
          "data": {
            "text/plain": [
              "GridSearchCV(cv=3, estimator=XGBRegressor(),\n",
              "             param_grid={'learning_rate': [0.5, 0.6], 'max_depth': [7],\n",
              "                         'subsample': [0.8, 0.9]},\n",
              "             scoring='r2')"
            ]
          },
          "metadata": {},
          "execution_count": 121
        }
      ]
    },
    {
      "cell_type": "code",
      "source": [
        "print(\"Best: %f using %s\" % (grid_search1.best_score_, grid_search1.best_params_))"
      ],
      "metadata": {
        "colab": {
          "base_uri": "https://localhost:8080/"
        },
        "id": "p9CCJBD-6oQn",
        "outputId": "adb8338f-0769-4ea1-c132-525ccdca2b69"
      },
      "execution_count": 125,
      "outputs": [
        {
          "output_type": "stream",
          "name": "stdout",
          "text": [
            "Best: 0.699805 using {'learning_rate': 0.5, 'max_depth': 7, 'subsample': 0.9}\n"
          ]
        }
      ]
    },
    {
      "cell_type": "code",
      "source": [
        "from sklearn.ensemble import StackingRegressor\n",
        "estimators = [ ('rg', regressor), ('lm', model) ]\n",
        "reg = StackingRegressor( estimators=estimators,final_estimator=grid_search1 )\n"
      ],
      "metadata": {
        "id": "48MBpGefuDX0"
      },
      "execution_count": 126,
      "outputs": []
    },
    {
      "cell_type": "code",
      "source": [
        "reg.fit(x_train,y_train)"
      ],
      "metadata": {
        "colab": {
          "base_uri": "https://localhost:8080/"
        },
        "id": "2CIi-jybuDVr",
        "outputId": "500f548e-f48e-4d10-8b03-2cf43a0952a7"
      },
      "execution_count": 127,
      "outputs": [
        {
          "output_type": "stream",
          "name": "stdout",
          "text": [
            "[15:06:25] WARNING: /workspace/src/objective/regression_obj.cu:152: reg:linear is now deprecated in favor of reg:squarederror.\n",
            "[15:06:26] WARNING: /workspace/src/objective/regression_obj.cu:152: reg:linear is now deprecated in favor of reg:squarederror.\n",
            "[15:06:27] WARNING: /workspace/src/objective/regression_obj.cu:152: reg:linear is now deprecated in favor of reg:squarederror.\n",
            "[15:06:29] WARNING: /workspace/src/objective/regression_obj.cu:152: reg:linear is now deprecated in favor of reg:squarederror.\n",
            "[15:06:30] WARNING: /workspace/src/objective/regression_obj.cu:152: reg:linear is now deprecated in favor of reg:squarederror.\n",
            "[15:06:31] WARNING: /workspace/src/objective/regression_obj.cu:152: reg:linear is now deprecated in favor of reg:squarederror.\n",
            "[15:06:33] WARNING: /workspace/src/objective/regression_obj.cu:152: reg:linear is now deprecated in favor of reg:squarederror.\n",
            "[15:06:34] WARNING: /workspace/src/objective/regression_obj.cu:152: reg:linear is now deprecated in favor of reg:squarederror.\n",
            "[15:06:35] WARNING: /workspace/src/objective/regression_obj.cu:152: reg:linear is now deprecated in favor of reg:squarederror.\n",
            "[15:06:37] WARNING: /workspace/src/objective/regression_obj.cu:152: reg:linear is now deprecated in favor of reg:squarederror.\n",
            "[15:06:38] WARNING: /workspace/src/objective/regression_obj.cu:152: reg:linear is now deprecated in favor of reg:squarederror.\n",
            "[15:06:39] WARNING: /workspace/src/objective/regression_obj.cu:152: reg:linear is now deprecated in favor of reg:squarederror.\n",
            "[15:06:41] WARNING: /workspace/src/objective/regression_obj.cu:152: reg:linear is now deprecated in favor of reg:squarederror.\n"
          ]
        },
        {
          "output_type": "execute_result",
          "data": {
            "text/plain": [
              "StackingRegressor(estimators=[('rg',\n",
              "                               DecisionTreeRegressor(max_depth=15,\n",
              "                                                     min_impurity_decrease=0.1,\n",
              "                                                     min_samples_split=600,\n",
              "                                                     random_state=0)),\n",
              "                              ('lm',\n",
              "                               GridSearchCV(cv=7,\n",
              "                                            estimator=GradientBoostingRegressor(),\n",
              "                                            param_grid={'max_depth': [6, 8],\n",
              "                                                        'n_estimators': [50,\n",
              "                                                                         100]},\n",
              "                                            scoring='r2'))],\n",
              "                  final_estimator=GridSearchCV(cv=3, estimator=XGBRegressor(),\n",
              "                                               param_grid={'learning_rate': [0.5,\n",
              "                                                                             0.6],\n",
              "                                                           'max_depth': [7],\n",
              "                                                           'subsample': [0.8,\n",
              "                                                                         0.9]},\n",
              "                                               scoring='r2'))"
            ]
          },
          "metadata": {},
          "execution_count": 127
        }
      ]
    },
    {
      "cell_type": "code",
      "source": [
        "y_train_predicted=reg.predict(x_train)\n",
        "y_test_predicted=reg.predict(x_test)\n",
        "\n",
        "\n"
      ],
      "metadata": {
        "id": "oBl0NzaGBOPa"
      },
      "execution_count": 128,
      "outputs": []
    },
    {
      "cell_type": "code",
      "source": [
        "math.sqrt(mean_squared_error(y_train,y_train_predicted))"
      ],
      "metadata": {
        "colab": {
          "base_uri": "https://localhost:8080/"
        },
        "outputId": "685a6483-fccf-47b6-fc1e-d186289ea899",
        "id": "Qn9vFWSxBOPc"
      },
      "execution_count": 129,
      "outputs": [
        {
          "output_type": "execute_result",
          "data": {
            "text/plain": [
              "333.89607158637534"
            ]
          },
          "metadata": {},
          "execution_count": 129
        }
      ]
    },
    {
      "cell_type": "code",
      "source": [
        "r2_train=r2_score(y_train, y_train_predicted)\n",
        "r2_train"
      ],
      "metadata": {
        "colab": {
          "base_uri": "https://localhost:8080/"
        },
        "outputId": "cdfe573c-f621-402c-c8e1-d0bb701f6cfa",
        "id": "_j9gespeBOPd"
      },
      "execution_count": 134,
      "outputs": [
        {
          "output_type": "execute_result",
          "data": {
            "text/plain": [
              "0.7325079531033415"
            ]
          },
          "metadata": {},
          "execution_count": 134
        }
      ]
    },
    {
      "cell_type": "code",
      "source": [
        "r2_test=r2_score(y_test, y_test_predicted)\n",
        "r2_test"
      ],
      "metadata": {
        "outputId": "d94760e3-2d78-4005-94ef-fe8f4e8611e0",
        "colab": {
          "base_uri": "https://localhost:8080/"
        },
        "id": "mtuWGRDvBOPd"
      },
      "execution_count": 135,
      "outputs": [
        {
          "output_type": "execute_result",
          "data": {
            "text/plain": [
              "0.676093478982323"
            ]
          },
          "metadata": {},
          "execution_count": 135
        }
      ]
    },
    {
      "cell_type": "code",
      "source": [
        "v1= (1-r2_test)\n",
        "v2= ((x_train.shape[0])-1) / ((x_train.shape[0])-(x_train.shape[1])-1)\n",
        "adj_rsquared = (1 - (v1 * v2))\n",
        "adj_rsquared"
      ],
      "metadata": {
        "colab": {
          "base_uri": "https://localhost:8080/"
        },
        "id": "Duz8wqtzQf_9",
        "outputId": "cb192b4a-181c-4673-a304-2e7a9ec8bafe"
      },
      "execution_count": 132,
      "outputs": [
        {
          "output_type": "execute_result",
          "data": {
            "text/plain": [
              "0.6760101649300463"
            ]
          },
          "metadata": {},
          "execution_count": 132
        }
      ]
    },
    {
      "cell_type": "code",
      "source": [
        ""
      ],
      "metadata": {
        "id": "jteFrduvuDRZ"
      },
      "execution_count": null,
      "outputs": []
    },
    {
      "cell_type": "code",
      "source": [
        ""
      ],
      "metadata": {
        "id": "odTl0MWbuDOy"
      },
      "execution_count": null,
      "outputs": []
    },
    {
      "cell_type": "code",
      "source": [
        ""
      ],
      "metadata": {
        "id": "eQKPCcENRuTh"
      },
      "execution_count": null,
      "outputs": []
    },
    {
      "cell_type": "code",
      "source": [
        "from sklearn.linear_model import Ridge\n",
        "from sklearn.model_selection import GridSearchCV\n",
        "ridge=Ridge()\n",
        "params={\"alpha\":[1e-15,1e-10,1e-8,1e-3,1e-2,1,2,3,4,5,10,20,30]}\n",
        "ridge_regressor=GridSearchCV(ridge,params,scoring=\"neg_mean_squared_error\",cv=5)\n",
        "ridge_regressor.fit(x_train,y_train)\n",
        "print(ridge_regressor.best_params_)   #which lemda value is most suitable.\n",
        "print(ridge_regressor.best_score_)     \n",
        "#is linear regression mean  mse is -37.something which is lesser than -31._____  so ridge regression is not good in this case."
      ],
      "metadata": {
        "id": "-7xJJm9_oNCC",
        "colab": {
          "base_uri": "https://localhost:8080/"
        },
        "outputId": "2b853412-a8ed-424b-a5c2-0ba1b8d29b32"
      },
      "execution_count": 133,
      "outputs": [
        {
          "output_type": "stream",
          "name": "stdout",
          "text": [
            "{'alpha': 1e-08}\n",
            "-140187.25184010228\n"
          ]
        }
      ]
    },
    {
      "cell_type": "code",
      "source": [
        "from sklearn.linear_model import Lasso\n",
        "from sklearn.model_selection import GridSearchCV\n",
        "lasso=Lasso()\n",
        "params={\"alpha\":[1e-15,1e-10,1e-8,1e-3,1e-2,1,2,3,4,5,10,20,30,40,45,50,55,70,90,100]}\n",
        "lasso_regressor=GridSearchCV(lasso,params,scoring=\"neg_mean_squared_error\",cv=5)\n",
        "lasso_regressor.fit(x_train,y_train)\n",
        "print(lasso_regressor.best_params_)\n",
        "print(lasso_regressor.best_score_)    "
      ],
      "metadata": {
        "id": "i7vpAyCf92pD"
      },
      "execution_count": null,
      "outputs": []
    },
    {
      "cell_type": "code",
      "source": [
        "y_train_predicted=ridge_regressor.predict(x_train)\n",
        "y_test_predicted=ridge_regressor.predict(x_test)\n",
        "\n",
        "\n"
      ],
      "metadata": {
        "id": "Vi48pW8SSifK"
      },
      "execution_count": null,
      "outputs": []
    },
    {
      "cell_type": "code",
      "source": [
        "math.sqrt(mean_squared_error(y_train,y_train_predicted))"
      ],
      "metadata": {
        "id": "ZsAZftbdSifK"
      },
      "execution_count": null,
      "outputs": []
    },
    {
      "cell_type": "code",
      "source": [
        "r2_score(y_train, y_train_predicted)"
      ],
      "metadata": {
        "id": "gr1rOpl3SifL"
      },
      "execution_count": null,
      "outputs": []
    },
    {
      "cell_type": "code",
      "source": [
        "r2_score(y_test, y_test_predicted)"
      ],
      "metadata": {
        "id": "8a-6wZ_eSifL"
      },
      "execution_count": null,
      "outputs": []
    },
    {
      "cell_type": "code",
      "source": [
        "y_train_predicted=lasso_regressor.predict(x_train)\n",
        "y_test_predicted=lasso_regressor.predict(x_test)"
      ],
      "metadata": {
        "id": "5lLqn78_S_Vv"
      },
      "execution_count": null,
      "outputs": []
    },
    {
      "cell_type": "code",
      "source": [
        "math.sqrt(mean_squared_error(y_train,y_train_predicted))"
      ],
      "metadata": {
        "id": "RGl0VJcxS_Vw"
      },
      "execution_count": null,
      "outputs": []
    },
    {
      "cell_type": "code",
      "source": [
        "r2_test=r2_score(y_train, y_train_predicted)"
      ],
      "metadata": {
        "id": "UbRwmSmeS_Vx"
      },
      "execution_count": null,
      "outputs": []
    },
    {
      "cell_type": "code",
      "source": [
        "r2_score(y_test, y_test_predicted)"
      ],
      "metadata": {
        "id": "S3JSP1wqS_Vy"
      },
      "execution_count": null,
      "outputs": []
    },
    {
      "cell_type": "code",
      "source": [
        "x_train.shape[0]"
      ],
      "metadata": {
        "id": "acQtL0cna9-o"
      },
      "execution_count": null,
      "outputs": []
    },
    {
      "cell_type": "code",
      "source": [
        "v1= (1-r2_test)\n",
        "v2= ((x_train.shape[0])-1) / ((x_train.shape[0])-(x_train.shape[1])-1)\n",
        "adj_rsquared = (1 - (v1 * v2))\n",
        "adj_rsquared"
      ],
      "metadata": {
        "id": "b11E86C_a00a"
      },
      "execution_count": null,
      "outputs": []
    },
    {
      "cell_type": "code",
      "source": [
        "adj_rsquared"
      ],
      "metadata": {
        "id": "YoDRpXB_bWfj"
      },
      "execution_count": null,
      "outputs": []
    },
    {
      "cell_type": "code",
      "source": [
        ""
      ],
      "metadata": {
        "id": "HsIPovPJ62e5"
      },
      "execution_count": null,
      "outputs": []
    }
  ]
}