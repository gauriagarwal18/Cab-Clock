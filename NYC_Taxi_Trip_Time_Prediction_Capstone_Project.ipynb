{
  "cells": [
    {
      "cell_type": "markdown",
      "metadata": {
        "id": "view-in-github",
        "colab_type": "text"
      },
      "source": [
        "<a href=\"https://colab.research.google.com/github/gauriagarwal18/NYC-Taxi-Trip-Time-Prediction/blob/master/NYC_Taxi_Trip_Time_Prediction_Capstone_Project.ipynb\" target=\"_parent\"><img src=\"https://colab.research.google.com/assets/colab-badge.svg\" alt=\"Open In Colab\"/></a>"
      ]
    },
    {
      "cell_type": "markdown",
      "metadata": {
        "id": "tOGC-qoyhJeX"
      },
      "source": [
        "# <b><u> Project Title : Taxi trip time Prediction : Predicting total ride duration of taxi trips in New York City</u></b>"
      ]
    },
    {
      "cell_type": "markdown",
      "metadata": {
        "id": "Y06xIdG26kRF"
      },
      "source": [
        "## <b> Problem Description </b>\n",
        "\n",
        "### Your task is to build a model that predicts the total ride duration of taxi trips in New York City. Your primary dataset is one released by the NYC Taxi and Limousine Commission, which includes pickup time, geo-coordinates, number of passengers, and several other variables."
      ]
    },
    {
      "cell_type": "markdown",
      "metadata": {
        "id": "aU6uFiC0BqZ6"
      },
      "source": [
        "##Data Loading And Description"
      ]
    },
    {
      "cell_type": "markdown",
      "metadata": {
        "id": "L0K_r8et9vEY"
      },
      "source": [
        "###We are using the following libraries for analysis:\n",
        "- Numpy: We will use numpy arrays as they are comparitively faster than lists, also columns of dataframes behaves as numpy arrays\n",
        "\n",
        "- Pandas: for reading the data from csv file, for data cleaning and for preparing data for analysis\n",
        "\n",
        "- matplotlib,seaborn: for different visualisations, for drawing conclusions from data and for exploratory data analysis. "
      ]
    },
    {
      "cell_type": "code",
      "execution_count": 1,
      "metadata": {
        "id": "QEBTyNGk9tyI"
      },
      "outputs": [],
      "source": [
        "import numpy as np\n",
        "import pandas as pd\n",
        "import seaborn as sns\n",
        "import matplotlib.pyplot as plt"
      ]
    },
    {
      "cell_type": "markdown",
      "metadata": {
        "id": "rYp3qp-DPSYh"
      },
      "source": [
        "###Data Loading\n",
        "Loading CSV file from google drive in colab enviroment:\n",
        "We will first load our csv file in which data is stored to the colab enviroment in data frame format so that we can make the copy of the original data and perform the required cleaning and analysis on that data without changing the original one.\n",
        "\n"
      ]
    },
    {
      "cell_type": "code",
      "execution_count": 2,
      "metadata": {
        "colab": {
          "base_uri": "https://localhost:8080/"
        },
        "id": "lznjPCJDuYHr",
        "outputId": "6fc0a567-e120-4438-9c12-0206afe8f8ef"
      },
      "outputs": [
        {
          "output_type": "stream",
          "name": "stdout",
          "text": [
            "Mounted at /content/drive\n"
          ]
        }
      ],
      "source": [
        "#Download datasets Hepatitis automobile from UCI repository\n",
        "from google.colab import drive\n",
        "drive.mount('/content/drive')\n",
        "import os\n",
        "path=\"/content/drive/My Drive/AlmaBetter_Capstone_projects/Capstone_project2_ml/NYC_TaxiData.csv\"\n",
        "taxi_original=pd.read_csv(path,parse_dates=[2,3])\n",
        "taxi= taxi_original.copy()"
      ]
    },
    {
      "cell_type": "markdown",
      "metadata": {
        "id": "eR-dqPHRCG93"
      },
      "source": [
        "###Data Description"
      ]
    },
    {
      "cell_type": "code",
      "execution_count": 3,
      "metadata": {
        "colab": {
          "base_uri": "https://localhost:8080/"
        },
        "id": "szycni7xbblE",
        "outputId": "94a20645-bdce-43cd-d695-d303f1deaf1c"
      },
      "outputs": [
        {
          "output_type": "execute_result",
          "data": {
            "text/plain": [
              "(1458644, 11)"
            ]
          },
          "metadata": {},
          "execution_count": 3
        }
      ],
      "source": [
        "#shape of the data\n",
        "taxi.shape"
      ]
    },
    {
      "cell_type": "code",
      "execution_count": 4,
      "metadata": {
        "colab": {
          "base_uri": "https://localhost:8080/",
          "height": 357
        },
        "id": "RtbamHYubbZB",
        "outputId": "3bd21fb3-d656-4e48-b36d-8376c0d61094"
      },
      "outputs": [
        {
          "output_type": "execute_result",
          "data": {
            "text/plain": [
              "          id  vendor_id     pickup_datetime    dropoff_datetime  \\\n",
              "0  id2875421          2 2016-03-14 17:24:55 2016-03-14 17:32:30   \n",
              "1  id2377394          1 2016-06-12 00:43:35 2016-06-12 00:54:38   \n",
              "2  id3858529          2 2016-01-19 11:35:24 2016-01-19 12:10:48   \n",
              "3  id3504673          2 2016-04-06 19:32:31 2016-04-06 19:39:40   \n",
              "4  id2181028          2 2016-03-26 13:30:55 2016-03-26 13:38:10   \n",
              "\n",
              "   passenger_count  pickup_longitude  pickup_latitude  dropoff_longitude  \\\n",
              "0                1        -73.982155        40.767937         -73.964630   \n",
              "1                1        -73.980415        40.738564         -73.999481   \n",
              "2                1        -73.979027        40.763939         -74.005333   \n",
              "3                1        -74.010040        40.719971         -74.012268   \n",
              "4                1        -73.973053        40.793209         -73.972923   \n",
              "\n",
              "   dropoff_latitude store_and_fwd_flag  trip_duration  \n",
              "0         40.765602                  N            455  \n",
              "1         40.731152                  N            663  \n",
              "2         40.710087                  N           2124  \n",
              "3         40.706718                  N            429  \n",
              "4         40.782520                  N            435  "
            ],
            "text/html": [
              "\n",
              "  <div id=\"df-d24817bc-5feb-4c13-8b71-6293d5d6b382\">\n",
              "    <div class=\"colab-df-container\">\n",
              "      <div>\n",
              "<style scoped>\n",
              "    .dataframe tbody tr th:only-of-type {\n",
              "        vertical-align: middle;\n",
              "    }\n",
              "\n",
              "    .dataframe tbody tr th {\n",
              "        vertical-align: top;\n",
              "    }\n",
              "\n",
              "    .dataframe thead th {\n",
              "        text-align: right;\n",
              "    }\n",
              "</style>\n",
              "<table border=\"1\" class=\"dataframe\">\n",
              "  <thead>\n",
              "    <tr style=\"text-align: right;\">\n",
              "      <th></th>\n",
              "      <th>id</th>\n",
              "      <th>vendor_id</th>\n",
              "      <th>pickup_datetime</th>\n",
              "      <th>dropoff_datetime</th>\n",
              "      <th>passenger_count</th>\n",
              "      <th>pickup_longitude</th>\n",
              "      <th>pickup_latitude</th>\n",
              "      <th>dropoff_longitude</th>\n",
              "      <th>dropoff_latitude</th>\n",
              "      <th>store_and_fwd_flag</th>\n",
              "      <th>trip_duration</th>\n",
              "    </tr>\n",
              "  </thead>\n",
              "  <tbody>\n",
              "    <tr>\n",
              "      <th>0</th>\n",
              "      <td>id2875421</td>\n",
              "      <td>2</td>\n",
              "      <td>2016-03-14 17:24:55</td>\n",
              "      <td>2016-03-14 17:32:30</td>\n",
              "      <td>1</td>\n",
              "      <td>-73.982155</td>\n",
              "      <td>40.767937</td>\n",
              "      <td>-73.964630</td>\n",
              "      <td>40.765602</td>\n",
              "      <td>N</td>\n",
              "      <td>455</td>\n",
              "    </tr>\n",
              "    <tr>\n",
              "      <th>1</th>\n",
              "      <td>id2377394</td>\n",
              "      <td>1</td>\n",
              "      <td>2016-06-12 00:43:35</td>\n",
              "      <td>2016-06-12 00:54:38</td>\n",
              "      <td>1</td>\n",
              "      <td>-73.980415</td>\n",
              "      <td>40.738564</td>\n",
              "      <td>-73.999481</td>\n",
              "      <td>40.731152</td>\n",
              "      <td>N</td>\n",
              "      <td>663</td>\n",
              "    </tr>\n",
              "    <tr>\n",
              "      <th>2</th>\n",
              "      <td>id3858529</td>\n",
              "      <td>2</td>\n",
              "      <td>2016-01-19 11:35:24</td>\n",
              "      <td>2016-01-19 12:10:48</td>\n",
              "      <td>1</td>\n",
              "      <td>-73.979027</td>\n",
              "      <td>40.763939</td>\n",
              "      <td>-74.005333</td>\n",
              "      <td>40.710087</td>\n",
              "      <td>N</td>\n",
              "      <td>2124</td>\n",
              "    </tr>\n",
              "    <tr>\n",
              "      <th>3</th>\n",
              "      <td>id3504673</td>\n",
              "      <td>2</td>\n",
              "      <td>2016-04-06 19:32:31</td>\n",
              "      <td>2016-04-06 19:39:40</td>\n",
              "      <td>1</td>\n",
              "      <td>-74.010040</td>\n",
              "      <td>40.719971</td>\n",
              "      <td>-74.012268</td>\n",
              "      <td>40.706718</td>\n",
              "      <td>N</td>\n",
              "      <td>429</td>\n",
              "    </tr>\n",
              "    <tr>\n",
              "      <th>4</th>\n",
              "      <td>id2181028</td>\n",
              "      <td>2</td>\n",
              "      <td>2016-03-26 13:30:55</td>\n",
              "      <td>2016-03-26 13:38:10</td>\n",
              "      <td>1</td>\n",
              "      <td>-73.973053</td>\n",
              "      <td>40.793209</td>\n",
              "      <td>-73.972923</td>\n",
              "      <td>40.782520</td>\n",
              "      <td>N</td>\n",
              "      <td>435</td>\n",
              "    </tr>\n",
              "  </tbody>\n",
              "</table>\n",
              "</div>\n",
              "      <button class=\"colab-df-convert\" onclick=\"convertToInteractive('df-d24817bc-5feb-4c13-8b71-6293d5d6b382')\"\n",
              "              title=\"Convert this dataframe to an interactive table.\"\n",
              "              style=\"display:none;\">\n",
              "        \n",
              "  <svg xmlns=\"http://www.w3.org/2000/svg\" height=\"24px\"viewBox=\"0 0 24 24\"\n",
              "       width=\"24px\">\n",
              "    <path d=\"M0 0h24v24H0V0z\" fill=\"none\"/>\n",
              "    <path d=\"M18.56 5.44l.94 2.06.94-2.06 2.06-.94-2.06-.94-.94-2.06-.94 2.06-2.06.94zm-11 1L8.5 8.5l.94-2.06 2.06-.94-2.06-.94L8.5 2.5l-.94 2.06-2.06.94zm10 10l.94 2.06.94-2.06 2.06-.94-2.06-.94-.94-2.06-.94 2.06-2.06.94z\"/><path d=\"M17.41 7.96l-1.37-1.37c-.4-.4-.92-.59-1.43-.59-.52 0-1.04.2-1.43.59L10.3 9.45l-7.72 7.72c-.78.78-.78 2.05 0 2.83L4 21.41c.39.39.9.59 1.41.59.51 0 1.02-.2 1.41-.59l7.78-7.78 2.81-2.81c.8-.78.8-2.07 0-2.86zM5.41 20L4 18.59l7.72-7.72 1.47 1.35L5.41 20z\"/>\n",
              "  </svg>\n",
              "      </button>\n",
              "      \n",
              "  <style>\n",
              "    .colab-df-container {\n",
              "      display:flex;\n",
              "      flex-wrap:wrap;\n",
              "      gap: 12px;\n",
              "    }\n",
              "\n",
              "    .colab-df-convert {\n",
              "      background-color: #E8F0FE;\n",
              "      border: none;\n",
              "      border-radius: 50%;\n",
              "      cursor: pointer;\n",
              "      display: none;\n",
              "      fill: #1967D2;\n",
              "      height: 32px;\n",
              "      padding: 0 0 0 0;\n",
              "      width: 32px;\n",
              "    }\n",
              "\n",
              "    .colab-df-convert:hover {\n",
              "      background-color: #E2EBFA;\n",
              "      box-shadow: 0px 1px 2px rgba(60, 64, 67, 0.3), 0px 1px 3px 1px rgba(60, 64, 67, 0.15);\n",
              "      fill: #174EA6;\n",
              "    }\n",
              "\n",
              "    [theme=dark] .colab-df-convert {\n",
              "      background-color: #3B4455;\n",
              "      fill: #D2E3FC;\n",
              "    }\n",
              "\n",
              "    [theme=dark] .colab-df-convert:hover {\n",
              "      background-color: #434B5C;\n",
              "      box-shadow: 0px 1px 3px 1px rgba(0, 0, 0, 0.15);\n",
              "      filter: drop-shadow(0px 1px 2px rgba(0, 0, 0, 0.3));\n",
              "      fill: #FFFFFF;\n",
              "    }\n",
              "  </style>\n",
              "\n",
              "      <script>\n",
              "        const buttonEl =\n",
              "          document.querySelector('#df-d24817bc-5feb-4c13-8b71-6293d5d6b382 button.colab-df-convert');\n",
              "        buttonEl.style.display =\n",
              "          google.colab.kernel.accessAllowed ? 'block' : 'none';\n",
              "\n",
              "        async function convertToInteractive(key) {\n",
              "          const element = document.querySelector('#df-d24817bc-5feb-4c13-8b71-6293d5d6b382');\n",
              "          const dataTable =\n",
              "            await google.colab.kernel.invokeFunction('convertToInteractive',\n",
              "                                                     [key], {});\n",
              "          if (!dataTable) return;\n",
              "\n",
              "          const docLinkHtml = 'Like what you see? Visit the ' +\n",
              "            '<a target=\"_blank\" href=https://colab.research.google.com/notebooks/data_table.ipynb>data table notebook</a>'\n",
              "            + ' to learn more about interactive tables.';\n",
              "          element.innerHTML = '';\n",
              "          dataTable['output_type'] = 'display_data';\n",
              "          await google.colab.output.renderOutput(dataTable, element);\n",
              "          const docLink = document.createElement('div');\n",
              "          docLink.innerHTML = docLinkHtml;\n",
              "          element.appendChild(docLink);\n",
              "        }\n",
              "      </script>\n",
              "    </div>\n",
              "  </div>\n",
              "  "
            ]
          },
          "metadata": {},
          "execution_count": 4
        }
      ],
      "source": [
        "taxi.head()"
      ]
    },
    {
      "cell_type": "markdown",
      "metadata": {
        "id": "WWeU1f9bwqQq"
      },
      "source": [
        "\n",
        "\n",
        "The dataset is based on the 2016 NYC Yellow Cab trip record data made available in Big Query on Google Cloud Platform. The data was originally published by the NYC Taxi and Limousine Commission (TLC). The data was sampled and cleaned for the purposes of this project. Based on individual trip attributes, you should predict the duration of each trip in the test set.\n",
        "\n",
        "<b>NYC Taxi Data.csv</b> - the training set (contains 1458644 trip records)\n",
        "\n",
        "\n",
        "<b>Data fields</b>\n",
        "* #### id - a unique identifier for each trip\n",
        "* #### vendor_id - a code indicating the provider associated with the trip record\n",
        "* #### pickup_datetime - date and time when the meter was engaged\n",
        "* #### dropoff_datetime - date and time when the meter was disengaged\n",
        "* #### passenger_count - the number of passengers in the vehicle (driver entered value)\n",
        "* #### pickup_longitude - the longitude where the meter was engaged\n",
        "* #### pickup_latitude - the latitude where the meter was engaged\n",
        "* #### dropoff_longitude - the longitude where the meter was disengaged\n",
        "* #### dropoff_latitude - the latitude where the meter was disengaged\n",
        "* #### store_and_fwd_flag - This flag indicates whether the trip record was held in vehicle memory before sending to the vendor because the vehicle did not have a connection to the server - Y=store and forward; N=not a store and forward trip\n",
        "* #### trip_duration - duration of the trip in seconds"
      ]
    },
    {
      "cell_type": "code",
      "execution_count": 5,
      "metadata": {
        "colab": {
          "base_uri": "https://localhost:8080/",
          "height": 348
        },
        "id": "dByMsuzT8Tnw",
        "outputId": "5018a7eb-e5f2-4c46-b73f-17683edcfec5"
      },
      "outputs": [
        {
          "output_type": "stream",
          "name": "stdout",
          "text": [
            "<class 'pandas.core.frame.DataFrame'>\n",
            "RangeIndex: 1458644 entries, 0 to 1458643\n",
            "Data columns (total 11 columns):\n",
            " #   Column              Non-Null Count    Dtype         \n",
            "---  ------              --------------    -----         \n",
            " 0   id                  1458644 non-null  object        \n",
            " 1   vendor_id           1458644 non-null  int64         \n",
            " 2   pickup_datetime     1458644 non-null  datetime64[ns]\n",
            " 3   dropoff_datetime    1458644 non-null  datetime64[ns]\n",
            " 4   passenger_count     1458644 non-null  int64         \n",
            " 5   pickup_longitude    1458644 non-null  float64       \n",
            " 6   pickup_latitude     1458644 non-null  float64       \n",
            " 7   dropoff_longitude   1458644 non-null  float64       \n",
            " 8   dropoff_latitude    1458644 non-null  float64       \n",
            " 9   store_and_fwd_flag  1458644 non-null  object        \n",
            " 10  trip_duration       1458644 non-null  int64         \n",
            "dtypes: datetime64[ns](2), float64(4), int64(3), object(2)\n",
            "memory usage: 122.4+ MB\n"
          ]
        },
        {
          "output_type": "execute_result",
          "data": {
            "text/plain": [
              "'\\nhere we note that there is not any null value in data right now,\\nwe have two date-time columns\\n'"
            ],
            "application/vnd.google.colaboratory.intrinsic+json": {
              "type": "string"
            }
          },
          "metadata": {},
          "execution_count": 5
        }
      ],
      "source": [
        "taxi.info()\n",
        "\"\"\"\n",
        "here we note that there is not any null value in data right now,\n",
        "we have two date-time columns\n",
        "\"\"\""
      ]
    },
    {
      "cell_type": "code",
      "execution_count": 6,
      "metadata": {
        "colab": {
          "base_uri": "https://localhost:8080/",
          "height": 608
        },
        "id": "-hdh6m7FdGuq",
        "outputId": "f2bc821c-411f-47bb-bdd1-2f864d831ae5"
      },
      "outputs": [
        {
          "output_type": "stream",
          "name": "stderr",
          "text": [
            "/usr/local/lib/python3.7/dist-packages/ipykernel_launcher.py:1: FutureWarning: Treating datetime data as categorical rather than numeric in `.describe` is deprecated and will be removed in a future version of pandas. Specify `datetime_is_numeric=True` to silence this warning and adopt the future behavior now.\n",
            "  \"\"\"Entry point for launching an IPython kernel.\n"
          ]
        },
        {
          "output_type": "execute_result",
          "data": {
            "text/plain": [
              "               id     vendor_id      pickup_datetime     dropoff_datetime  \\\n",
              "count     1458644  1.458644e+06              1458644              1458644   \n",
              "unique    1458644           NaN              1380222              1380377   \n",
              "top     id2875421           NaN  2016-03-04 08:07:34  2016-02-19 19:25:04   \n",
              "freq            1           NaN                    5                    5   \n",
              "first         NaN           NaN  2016-01-01 00:00:17  2016-01-01 00:03:31   \n",
              "last          NaN           NaN  2016-06-30 23:59:39  2016-07-01 23:02:03   \n",
              "mean          NaN  1.534950e+00                  NaN                  NaN   \n",
              "std           NaN  4.987772e-01                  NaN                  NaN   \n",
              "min           NaN  1.000000e+00                  NaN                  NaN   \n",
              "25%           NaN  1.000000e+00                  NaN                  NaN   \n",
              "50%           NaN  2.000000e+00                  NaN                  NaN   \n",
              "75%           NaN  2.000000e+00                  NaN                  NaN   \n",
              "max           NaN  2.000000e+00                  NaN                  NaN   \n",
              "\n",
              "        passenger_count  pickup_longitude  pickup_latitude  dropoff_longitude  \\\n",
              "count      1.458644e+06      1.458644e+06     1.458644e+06       1.458644e+06   \n",
              "unique              NaN               NaN              NaN                NaN   \n",
              "top                 NaN               NaN              NaN                NaN   \n",
              "freq                NaN               NaN              NaN                NaN   \n",
              "first               NaN               NaN              NaN                NaN   \n",
              "last                NaN               NaN              NaN                NaN   \n",
              "mean       1.664530e+00     -7.397349e+01     4.075092e+01      -7.397342e+01   \n",
              "std        1.314242e+00      7.090186e-02     3.288119e-02       7.064327e-02   \n",
              "min        0.000000e+00     -1.219333e+02     3.435970e+01      -1.219333e+02   \n",
              "25%        1.000000e+00     -7.399187e+01     4.073735e+01      -7.399133e+01   \n",
              "50%        1.000000e+00     -7.398174e+01     4.075410e+01      -7.397975e+01   \n",
              "75%        2.000000e+00     -7.396733e+01     4.076836e+01      -7.396301e+01   \n",
              "max        9.000000e+00     -6.133553e+01     5.188108e+01      -6.133553e+01   \n",
              "\n",
              "        dropoff_latitude store_and_fwd_flag  trip_duration  \n",
              "count       1.458644e+06            1458644   1.458644e+06  \n",
              "unique               NaN                  2            NaN  \n",
              "top                  NaN                  N            NaN  \n",
              "freq                 NaN            1450599            NaN  \n",
              "first                NaN                NaN            NaN  \n",
              "last                 NaN                NaN            NaN  \n",
              "mean        4.075180e+01                NaN   9.594923e+02  \n",
              "std         3.589056e-02                NaN   5.237432e+03  \n",
              "min         3.218114e+01                NaN   1.000000e+00  \n",
              "25%         4.073588e+01                NaN   3.970000e+02  \n",
              "50%         4.075452e+01                NaN   6.620000e+02  \n",
              "75%         4.076981e+01                NaN   1.075000e+03  \n",
              "max         4.392103e+01                NaN   3.526282e+06  "
            ],
            "text/html": [
              "\n",
              "  <div id=\"df-cfcff358-5809-48f7-8e90-f886b5b72c55\">\n",
              "    <div class=\"colab-df-container\">\n",
              "      <div>\n",
              "<style scoped>\n",
              "    .dataframe tbody tr th:only-of-type {\n",
              "        vertical-align: middle;\n",
              "    }\n",
              "\n",
              "    .dataframe tbody tr th {\n",
              "        vertical-align: top;\n",
              "    }\n",
              "\n",
              "    .dataframe thead th {\n",
              "        text-align: right;\n",
              "    }\n",
              "</style>\n",
              "<table border=\"1\" class=\"dataframe\">\n",
              "  <thead>\n",
              "    <tr style=\"text-align: right;\">\n",
              "      <th></th>\n",
              "      <th>id</th>\n",
              "      <th>vendor_id</th>\n",
              "      <th>pickup_datetime</th>\n",
              "      <th>dropoff_datetime</th>\n",
              "      <th>passenger_count</th>\n",
              "      <th>pickup_longitude</th>\n",
              "      <th>pickup_latitude</th>\n",
              "      <th>dropoff_longitude</th>\n",
              "      <th>dropoff_latitude</th>\n",
              "      <th>store_and_fwd_flag</th>\n",
              "      <th>trip_duration</th>\n",
              "    </tr>\n",
              "  </thead>\n",
              "  <tbody>\n",
              "    <tr>\n",
              "      <th>count</th>\n",
              "      <td>1458644</td>\n",
              "      <td>1.458644e+06</td>\n",
              "      <td>1458644</td>\n",
              "      <td>1458644</td>\n",
              "      <td>1.458644e+06</td>\n",
              "      <td>1.458644e+06</td>\n",
              "      <td>1.458644e+06</td>\n",
              "      <td>1.458644e+06</td>\n",
              "      <td>1.458644e+06</td>\n",
              "      <td>1458644</td>\n",
              "      <td>1.458644e+06</td>\n",
              "    </tr>\n",
              "    <tr>\n",
              "      <th>unique</th>\n",
              "      <td>1458644</td>\n",
              "      <td>NaN</td>\n",
              "      <td>1380222</td>\n",
              "      <td>1380377</td>\n",
              "      <td>NaN</td>\n",
              "      <td>NaN</td>\n",
              "      <td>NaN</td>\n",
              "      <td>NaN</td>\n",
              "      <td>NaN</td>\n",
              "      <td>2</td>\n",
              "      <td>NaN</td>\n",
              "    </tr>\n",
              "    <tr>\n",
              "      <th>top</th>\n",
              "      <td>id2875421</td>\n",
              "      <td>NaN</td>\n",
              "      <td>2016-03-04 08:07:34</td>\n",
              "      <td>2016-02-19 19:25:04</td>\n",
              "      <td>NaN</td>\n",
              "      <td>NaN</td>\n",
              "      <td>NaN</td>\n",
              "      <td>NaN</td>\n",
              "      <td>NaN</td>\n",
              "      <td>N</td>\n",
              "      <td>NaN</td>\n",
              "    </tr>\n",
              "    <tr>\n",
              "      <th>freq</th>\n",
              "      <td>1</td>\n",
              "      <td>NaN</td>\n",
              "      <td>5</td>\n",
              "      <td>5</td>\n",
              "      <td>NaN</td>\n",
              "      <td>NaN</td>\n",
              "      <td>NaN</td>\n",
              "      <td>NaN</td>\n",
              "      <td>NaN</td>\n",
              "      <td>1450599</td>\n",
              "      <td>NaN</td>\n",
              "    </tr>\n",
              "    <tr>\n",
              "      <th>first</th>\n",
              "      <td>NaN</td>\n",
              "      <td>NaN</td>\n",
              "      <td>2016-01-01 00:00:17</td>\n",
              "      <td>2016-01-01 00:03:31</td>\n",
              "      <td>NaN</td>\n",
              "      <td>NaN</td>\n",
              "      <td>NaN</td>\n",
              "      <td>NaN</td>\n",
              "      <td>NaN</td>\n",
              "      <td>NaN</td>\n",
              "      <td>NaN</td>\n",
              "    </tr>\n",
              "    <tr>\n",
              "      <th>last</th>\n",
              "      <td>NaN</td>\n",
              "      <td>NaN</td>\n",
              "      <td>2016-06-30 23:59:39</td>\n",
              "      <td>2016-07-01 23:02:03</td>\n",
              "      <td>NaN</td>\n",
              "      <td>NaN</td>\n",
              "      <td>NaN</td>\n",
              "      <td>NaN</td>\n",
              "      <td>NaN</td>\n",
              "      <td>NaN</td>\n",
              "      <td>NaN</td>\n",
              "    </tr>\n",
              "    <tr>\n",
              "      <th>mean</th>\n",
              "      <td>NaN</td>\n",
              "      <td>1.534950e+00</td>\n",
              "      <td>NaN</td>\n",
              "      <td>NaN</td>\n",
              "      <td>1.664530e+00</td>\n",
              "      <td>-7.397349e+01</td>\n",
              "      <td>4.075092e+01</td>\n",
              "      <td>-7.397342e+01</td>\n",
              "      <td>4.075180e+01</td>\n",
              "      <td>NaN</td>\n",
              "      <td>9.594923e+02</td>\n",
              "    </tr>\n",
              "    <tr>\n",
              "      <th>std</th>\n",
              "      <td>NaN</td>\n",
              "      <td>4.987772e-01</td>\n",
              "      <td>NaN</td>\n",
              "      <td>NaN</td>\n",
              "      <td>1.314242e+00</td>\n",
              "      <td>7.090186e-02</td>\n",
              "      <td>3.288119e-02</td>\n",
              "      <td>7.064327e-02</td>\n",
              "      <td>3.589056e-02</td>\n",
              "      <td>NaN</td>\n",
              "      <td>5.237432e+03</td>\n",
              "    </tr>\n",
              "    <tr>\n",
              "      <th>min</th>\n",
              "      <td>NaN</td>\n",
              "      <td>1.000000e+00</td>\n",
              "      <td>NaN</td>\n",
              "      <td>NaN</td>\n",
              "      <td>0.000000e+00</td>\n",
              "      <td>-1.219333e+02</td>\n",
              "      <td>3.435970e+01</td>\n",
              "      <td>-1.219333e+02</td>\n",
              "      <td>3.218114e+01</td>\n",
              "      <td>NaN</td>\n",
              "      <td>1.000000e+00</td>\n",
              "    </tr>\n",
              "    <tr>\n",
              "      <th>25%</th>\n",
              "      <td>NaN</td>\n",
              "      <td>1.000000e+00</td>\n",
              "      <td>NaN</td>\n",
              "      <td>NaN</td>\n",
              "      <td>1.000000e+00</td>\n",
              "      <td>-7.399187e+01</td>\n",
              "      <td>4.073735e+01</td>\n",
              "      <td>-7.399133e+01</td>\n",
              "      <td>4.073588e+01</td>\n",
              "      <td>NaN</td>\n",
              "      <td>3.970000e+02</td>\n",
              "    </tr>\n",
              "    <tr>\n",
              "      <th>50%</th>\n",
              "      <td>NaN</td>\n",
              "      <td>2.000000e+00</td>\n",
              "      <td>NaN</td>\n",
              "      <td>NaN</td>\n",
              "      <td>1.000000e+00</td>\n",
              "      <td>-7.398174e+01</td>\n",
              "      <td>4.075410e+01</td>\n",
              "      <td>-7.397975e+01</td>\n",
              "      <td>4.075452e+01</td>\n",
              "      <td>NaN</td>\n",
              "      <td>6.620000e+02</td>\n",
              "    </tr>\n",
              "    <tr>\n",
              "      <th>75%</th>\n",
              "      <td>NaN</td>\n",
              "      <td>2.000000e+00</td>\n",
              "      <td>NaN</td>\n",
              "      <td>NaN</td>\n",
              "      <td>2.000000e+00</td>\n",
              "      <td>-7.396733e+01</td>\n",
              "      <td>4.076836e+01</td>\n",
              "      <td>-7.396301e+01</td>\n",
              "      <td>4.076981e+01</td>\n",
              "      <td>NaN</td>\n",
              "      <td>1.075000e+03</td>\n",
              "    </tr>\n",
              "    <tr>\n",
              "      <th>max</th>\n",
              "      <td>NaN</td>\n",
              "      <td>2.000000e+00</td>\n",
              "      <td>NaN</td>\n",
              "      <td>NaN</td>\n",
              "      <td>9.000000e+00</td>\n",
              "      <td>-6.133553e+01</td>\n",
              "      <td>5.188108e+01</td>\n",
              "      <td>-6.133553e+01</td>\n",
              "      <td>4.392103e+01</td>\n",
              "      <td>NaN</td>\n",
              "      <td>3.526282e+06</td>\n",
              "    </tr>\n",
              "  </tbody>\n",
              "</table>\n",
              "</div>\n",
              "      <button class=\"colab-df-convert\" onclick=\"convertToInteractive('df-cfcff358-5809-48f7-8e90-f886b5b72c55')\"\n",
              "              title=\"Convert this dataframe to an interactive table.\"\n",
              "              style=\"display:none;\">\n",
              "        \n",
              "  <svg xmlns=\"http://www.w3.org/2000/svg\" height=\"24px\"viewBox=\"0 0 24 24\"\n",
              "       width=\"24px\">\n",
              "    <path d=\"M0 0h24v24H0V0z\" fill=\"none\"/>\n",
              "    <path d=\"M18.56 5.44l.94 2.06.94-2.06 2.06-.94-2.06-.94-.94-2.06-.94 2.06-2.06.94zm-11 1L8.5 8.5l.94-2.06 2.06-.94-2.06-.94L8.5 2.5l-.94 2.06-2.06.94zm10 10l.94 2.06.94-2.06 2.06-.94-2.06-.94-.94-2.06-.94 2.06-2.06.94z\"/><path d=\"M17.41 7.96l-1.37-1.37c-.4-.4-.92-.59-1.43-.59-.52 0-1.04.2-1.43.59L10.3 9.45l-7.72 7.72c-.78.78-.78 2.05 0 2.83L4 21.41c.39.39.9.59 1.41.59.51 0 1.02-.2 1.41-.59l7.78-7.78 2.81-2.81c.8-.78.8-2.07 0-2.86zM5.41 20L4 18.59l7.72-7.72 1.47 1.35L5.41 20z\"/>\n",
              "  </svg>\n",
              "      </button>\n",
              "      \n",
              "  <style>\n",
              "    .colab-df-container {\n",
              "      display:flex;\n",
              "      flex-wrap:wrap;\n",
              "      gap: 12px;\n",
              "    }\n",
              "\n",
              "    .colab-df-convert {\n",
              "      background-color: #E8F0FE;\n",
              "      border: none;\n",
              "      border-radius: 50%;\n",
              "      cursor: pointer;\n",
              "      display: none;\n",
              "      fill: #1967D2;\n",
              "      height: 32px;\n",
              "      padding: 0 0 0 0;\n",
              "      width: 32px;\n",
              "    }\n",
              "\n",
              "    .colab-df-convert:hover {\n",
              "      background-color: #E2EBFA;\n",
              "      box-shadow: 0px 1px 2px rgba(60, 64, 67, 0.3), 0px 1px 3px 1px rgba(60, 64, 67, 0.15);\n",
              "      fill: #174EA6;\n",
              "    }\n",
              "\n",
              "    [theme=dark] .colab-df-convert {\n",
              "      background-color: #3B4455;\n",
              "      fill: #D2E3FC;\n",
              "    }\n",
              "\n",
              "    [theme=dark] .colab-df-convert:hover {\n",
              "      background-color: #434B5C;\n",
              "      box-shadow: 0px 1px 3px 1px rgba(0, 0, 0, 0.15);\n",
              "      filter: drop-shadow(0px 1px 2px rgba(0, 0, 0, 0.3));\n",
              "      fill: #FFFFFF;\n",
              "    }\n",
              "  </style>\n",
              "\n",
              "      <script>\n",
              "        const buttonEl =\n",
              "          document.querySelector('#df-cfcff358-5809-48f7-8e90-f886b5b72c55 button.colab-df-convert');\n",
              "        buttonEl.style.display =\n",
              "          google.colab.kernel.accessAllowed ? 'block' : 'none';\n",
              "\n",
              "        async function convertToInteractive(key) {\n",
              "          const element = document.querySelector('#df-cfcff358-5809-48f7-8e90-f886b5b72c55');\n",
              "          const dataTable =\n",
              "            await google.colab.kernel.invokeFunction('convertToInteractive',\n",
              "                                                     [key], {});\n",
              "          if (!dataTable) return;\n",
              "\n",
              "          const docLinkHtml = 'Like what you see? Visit the ' +\n",
              "            '<a target=\"_blank\" href=https://colab.research.google.com/notebooks/data_table.ipynb>data table notebook</a>'\n",
              "            + ' to learn more about interactive tables.';\n",
              "          element.innerHTML = '';\n",
              "          dataTable['output_type'] = 'display_data';\n",
              "          await google.colab.output.renderOutput(dataTable, element);\n",
              "          const docLink = document.createElement('div');\n",
              "          docLink.innerHTML = docLinkHtml;\n",
              "          element.appendChild(docLink);\n",
              "        }\n",
              "      </script>\n",
              "    </div>\n",
              "  </div>\n",
              "  "
            ]
          },
          "metadata": {},
          "execution_count": 6
        }
      ],
      "source": [
        "taxi.describe(include=\"all\")"
      ]
    },
    {
      "cell_type": "code",
      "execution_count": 7,
      "metadata": {
        "colab": {
          "base_uri": "https://localhost:8080/"
        },
        "id": "cUvaiiPRdGni",
        "outputId": "37538d28-be3c-4bb7-dcda-c83da52a4f1f"
      },
      "outputs": [
        {
          "output_type": "execute_result",
          "data": {
            "text/plain": [
              "Index(['id', 'vendor_id', 'pickup_datetime', 'dropoff_datetime',\n",
              "       'passenger_count', 'pickup_longitude', 'pickup_latitude',\n",
              "       'dropoff_longitude', 'dropoff_latitude', 'store_and_fwd_flag',\n",
              "       'trip_duration'],\n",
              "      dtype='object')"
            ]
          },
          "metadata": {},
          "execution_count": 7
        }
      ],
      "source": [
        "taxi.columns"
      ]
    },
    {
      "cell_type": "code",
      "execution_count": 8,
      "metadata": {
        "colab": {
          "base_uri": "https://localhost:8080/"
        },
        "id": "DrSzGqlPdGbt",
        "outputId": "f1b950a9-8862-4ce4-8979-e20fc7e99c61"
      },
      "outputs": [
        {
          "output_type": "stream",
          "name": "stdout",
          "text": [
            "distribution of vendor_id:\n",
            "2    780302\n",
            "1    678342\n",
            "Name: vendor_id, dtype: int64\n",
            "\n",
            "\n",
            "distribution of passenger_count:\n",
            "1    1033540\n",
            "2     210318\n",
            "5      78088\n",
            "3      59896\n",
            "6      48333\n",
            "4      28404\n",
            "0         60\n",
            "7          3\n",
            "9          1\n",
            "8          1\n",
            "Name: passenger_count, dtype: int64\n",
            "\n",
            "\n",
            "distribution of store_and_fwd_flag:\n",
            "N    1450599\n",
            "Y       8045\n",
            "Name: store_and_fwd_flag, dtype: int64\n",
            "\n",
            "\n"
          ]
        }
      ],
      "source": [
        "categorical=[\"vendor_id\",\"passenger_count\",\"store_and_fwd_flag\"]\n",
        "continuous=['pickup_longitude', 'pickup_latitude','dropoff_longitude', 'dropoff_latitude','trip_duration']\n",
        "for c in categorical:\n",
        "  \n",
        "  print(f\"distribution of {c}:\\n{taxi[c].value_counts()}\\n\\n\")"
      ]
    },
    {
      "cell_type": "markdown",
      "metadata": {
        "id": "jcQ-7ZNXIcFT"
      },
      "source": [
        "Here we note that store and fwd flag is highly biased.\n",
        "There are several records where passenger count is zero, which is of no use, as none of the passenger will require time duration when there is no passenger in the taxi"
      ]
    },
    {
      "cell_type": "markdown",
      "metadata": {
        "id": "1iaAa5bKKH4l"
      },
      "source": [
        "##Data Cleaning"
      ]
    },
    {
      "cell_type": "code",
      "execution_count": 9,
      "metadata": {
        "id": "N9tcEvJejQUT"
      },
      "outputs": [],
      "source": [
        "def print_null_percent(df):\n",
        "  null_percent=pd.Series()\n",
        "  for col in df.columns:\n",
        "    null_percent[col]=((df.shape[0]-df[col].count())/(df.shape[0]))*100\n",
        "  print(\"columns with null values\\n\",null_percent[null_percent!=0])\n"
      ]
    },
    {
      "cell_type": "code",
      "execution_count": 10,
      "metadata": {
        "id": "6dFy5sRqxIN0"
      },
      "outputs": [],
      "source": [
        "#removing outliers using z-score method\n",
        "def remove_outliers(df,continuous_col=[]):\n",
        "  from scipy import stats\n",
        "\n",
        "  if len(continuous_col)==0:\n",
        "    continuous_col=df.describe().columns\n",
        "  df[continuous_col].boxplot(rot=90)\n",
        "  plt.title(\"before removing outliers\",)\n",
        "  plt.show()\n",
        "  \n",
        "  for c in continuous_col:\n",
        "    df = df[stats.zscore(df[c])<3] \n",
        "    \n",
        "    #df.loc[upper][c]=Q3\n",
        "    #df.loc[lower][c]=Q1\n",
        "     \n",
        "  df.boxplot(rot=90)\n",
        "  plt.title(\"after removing outliers\",)\n",
        "  plt.show()\n",
        "  return df"
      ]
    },
    {
      "cell_type": "code",
      "execution_count": 11,
      "metadata": {
        "id": "Ejc8IBC2HoMY"
      },
      "outputs": [],
      "source": [
        "#to remove outliers using quantile method\n",
        "def remove_outliers2(df,continuous_col=[]):\n",
        "\n",
        "  if len(continuous_col)==0:\n",
        "\n",
        "   continuous_col=df.describe().columns\n",
        "  df.boxplot(rot=90)\n",
        "  plt.title(\"before removing outliers\",)\n",
        "  plt.show()\n",
        "  \n",
        "  for c in continuous_col:\n",
        "    df.index=np.arange(0,df.shape[0])\n",
        "    Q1=np.quantile(df[c],0.25)\n",
        "    Q3=np.quantile(df[c],0.75)\n",
        "    IQR= Q3 - Q1\n",
        "    upper=np.where(df[c]>=(Q3+1.5*IQR))[0]\n",
        "    #print(upper[0])\n",
        "    lower=np.where(df[c]<=(Q1-1.5*IQR))[0]   #it will be a tuple and we require a numpy array which is at it's first index.\n",
        "    #print(lower)\n",
        "    outliers_idx=np.unique(np.append(upper,lower)) \n",
        "    df.drop(outliers_idx, inplace = True) \n",
        "    \n",
        "    #df.loc[upper][c]=Q3\n",
        "    #df.loc[lower][c]=Q1\n",
        "     \n",
        "  df.boxplot(rot=90)\n",
        "  plt.title(\"after removing outliers\",)\n",
        "  plt.show()\n",
        "  return df"
      ]
    },
    {
      "cell_type": "code",
      "execution_count": 12,
      "metadata": {
        "id": "He4__3iv2ZH_"
      },
      "outputs": [],
      "source": [
        "def normalization(df,col_list):\n",
        "\n",
        "  for c1 in col_list:\n",
        "    try:\n",
        "      mx=df.max()[c1]\n",
        "      mn=df.min()[c1]\n",
        "      df[c1]=(df[c1]-mn)/(mx-mn)\n",
        "      col_list.remove(c1)    #so that c1 do  not get normalized again and again\n",
        "    except:\n",
        "      print(f\"{c1} is not a numerical column, so it can not be normalized\")\n",
        "      col_list.remove(c1)\n",
        "      normalization(df,col_list)"
      ]
    },
    {
      "cell_type": "code",
      "execution_count": 13,
      "metadata": {
        "id": "Hb1qR8hjiN4N"
      },
      "outputs": [],
      "source": [
        "\"\"\"\n",
        "presently data do not have any null value but it may be introduced later\n",
        "\"\"\"\n",
        "def cleaning(df,continuous_col=[],discrete_col=[],print_null=True,th=20.0):\n",
        "  \"\"\"\n",
        "  this function removes all the null values from the data \n",
        "  \"\"\"\n",
        "\n",
        "  print(f\"before cleaning\\n\")\n",
        "  print(f\"shape of data: {df.shape}\")\n",
        "  if(print_null):\n",
        "    print_null_percent(df)\n",
        "  \n",
        "  #step1\n",
        "  #preserving columns having at least 20% of not null values\n",
        "  df.dropna(axis=1,inplace=True,thresh=((th/100.0)*df.shape[0]))\n",
        "  #preserving rows having at least 20% of not null values\n",
        "  df.dropna(axis=0,inplace=True,thresh=((th/100.0)*df.shape[1]))\n",
        "\n",
        "  #step2\n",
        "  df.drop_duplicates(inplace=True,ignore_index=True)\n",
        "  \n",
        "\n",
        "  #step3\n",
        "  #removing all the null values\n",
        "  for c1 in df.columns:\n",
        "\n",
        "    #i.e it is an non catagorical column\n",
        "    if c1 in continuous_col: \n",
        "      df[c1].fillna(df[c1].mean(),inplace=True)\n",
        "    else:\n",
        "      df[c1].fillna(df[c1].value_counts().idxmax(),inplace=True)\n",
        "\n",
        "  print(f\"\\n\\nAfter cleaning the data\\n\")\n",
        "  print(f\"shape of data: {df.shape}\")\n",
        "  print_null_percent(df)\n",
        "  return df"
      ]
    },
    {
      "cell_type": "code",
      "execution_count": 14,
      "metadata": {
        "colab": {
          "base_uri": "https://localhost:8080/"
        },
        "id": "VW9P1edHhM71",
        "outputId": "ceb940ce-4fba-49aa-d931-1e10639267c8"
      },
      "outputs": [
        {
          "output_type": "stream",
          "name": "stdout",
          "text": [
            "before cleaning\n",
            "\n",
            "shape of data: (1458644, 11)\n",
            "columns with null values\n",
            " Series([], dtype: float64)\n"
          ]
        },
        {
          "output_type": "stream",
          "name": "stderr",
          "text": [
            "/usr/local/lib/python3.7/dist-packages/ipykernel_launcher.py:2: DeprecationWarning: The default dtype for empty Series will be 'object' instead of 'float64' in a future version. Specify a dtype explicitly to silence this warning.\n",
            "  \n"
          ]
        },
        {
          "output_type": "stream",
          "name": "stdout",
          "text": [
            "\n",
            "\n",
            "After cleaning the data\n",
            "\n",
            "shape of data: (1458644, 11)\n",
            "columns with null values\n",
            " Series([], dtype: float64)\n"
          ]
        }
      ],
      "source": [
        "taxi=cleaning(taxi,continuous,categorical,th=20)"
      ]
    },
    {
      "cell_type": "code",
      "execution_count": 15,
      "metadata": {
        "colab": {
          "base_uri": "https://localhost:8080/",
          "height": 701
        },
        "id": "PDL_35Tz4e7_",
        "outputId": "5209ba8a-38e3-40b6-bc0f-692b4f4c284c"
      },
      "outputs": [
        {
          "output_type": "display_data",
          "data": {
            "text/plain": [
              "<Figure size 432x288 with 1 Axes>"
            ],
            "image/png": "[encoded data removed]"
          },
          "metadata": {
            "needs_background": "light"
          }
        },
        {
          "output_type": "display_data",
          "data": {
            "text/plain": [
              "<Figure size 432x288 with 1 Axes>"
            ],
            "image/png": "[encoded data removed]"
          },
          "metadata": {
            "needs_background": "light"
          }
        }
      ],
      "source": [
        "taxi = remove_outliers(taxi)  #later if we observe any outlier in data than we will also remove it"
      ]
    },
    {
      "cell_type": "code",
      "execution_count": 16,
      "metadata": {
        "colab": {
          "base_uri": "https://localhost:8080/"
        },
        "id": "wkRVkhbOypfP",
        "outputId": "7212c50c-1247-4b31-e07f-961d4697db17"
      },
      "outputs": [
        {
          "output_type": "execute_result",
          "data": {
            "text/plain": [
              "(1397889, 11)"
            ]
          },
          "metadata": {},
          "execution_count": 16
        }
      ],
      "source": [
        "taxi.shape  #we have also tried removing outliers from quantile method, but in that case nearly 25% of the total values get removed."
      ]
    },
    {
      "cell_type": "markdown",
      "metadata": {
        "id": "fgZpYXQWe9b-"
      },
      "source": [
        "##Feature Engineering\n"
      ]
    },
    {
      "cell_type": "markdown",
      "metadata": {
        "id": "tD6ryXIzJF-h"
      },
      "source": [
        "###First let's add the required columns\n",
        "\n",
        "- In adding columns there is nothing to do with id, vendor_id, passenger_count, dropoff_datetime,store_and_fwd_flag and trip_duration, so these columns are left untouch in this section.\n",
        "- In **pickup_datetime:** \n",
        "  - we first separate date and time and then seperate different sections of date and time, in date, month, year and hour, we do not consider minutes and seconds as they are not that much important for prediction \n",
        "  - also we added which day of week it is and them added a column is_weekend which checks whether a column is weekend or not, as it may be possible that more traffic is observed during office days.\n",
        "  - Then we added a column which shows among four shift which shift of day taxi is booked for, as different shifts may have different trip_duration for same trip.\n",
        "\n",
        "- Using all the four columns of latitude and longitude we calculate the total_distance between initial and final position\n",
        "\n"
      ]
    },
    {
      "cell_type": "code",
      "execution_count": 17,
      "metadata": {
        "colab": {
          "base_uri": "https://localhost:8080/"
        },
        "id": "_iufrfitJmPz",
        "outputId": "a9587fbc-7146-4ccc-bc55-9bc04b33a54e"
      },
      "outputs": [
        {
          "output_type": "execute_result",
          "data": {
            "text/plain": [
              "Index(['id', 'vendor_id', 'pickup_datetime', 'dropoff_datetime',\n",
              "       'passenger_count', 'pickup_longitude', 'pickup_latitude',\n",
              "       'dropoff_longitude', 'dropoff_latitude', 'store_and_fwd_flag',\n",
              "       'trip_duration'],\n",
              "      dtype='object')"
            ]
          },
          "metadata": {},
          "execution_count": 17
        }
      ],
      "source": [
        "#columns before feature engineering\n",
        "taxi.columns"
      ]
    },
    {
      "cell_type": "markdown",
      "metadata": {
        "id": "2nuLME0AM-7H"
      },
      "source": [
        "####feature engineering on pickup_datetime column:"
      ]
    },
    {
      "cell_type": "code",
      "execution_count": 18,
      "metadata": {
        "id": "D4bzA1hQJmlF"
      },
      "outputs": [],
      "source": [
        "from datetime import datetime\n",
        "from datetime import date"
      ]
    },
    {
      "cell_type": "code",
      "execution_count": 19,
      "metadata": {
        "id": "v2qY3HQqJmlG"
      },
      "outputs": [],
      "source": [
        "def get_weekdays(dates):\n",
        "  import calendar\n",
        "  from datetime import date\n",
        "  week_days=[]\n",
        "  for i in dates:\n",
        "    my_date = i.date()\n",
        "    week_days.append(calendar.day_name[my_date.weekday()])\n",
        "  return week_days\n"
      ]
    },
    {
      "cell_type": "code",
      "execution_count": 20,
      "metadata": {
        "id": "m6ozEXuBJmlH"
      },
      "outputs": [],
      "source": [
        "def separate_date(date_time):\n",
        "  years,months,dates=[],[],[]\n",
        "  for i in date_time:\n",
        "    years.append(i.year)\n",
        "    months.append(i.month)\n",
        "    dates.append(i.day)\n",
        "  return years,months,dates\n",
        "  "
      ]
    },
    {
      "cell_type": "code",
      "execution_count": 21,
      "metadata": {
        "id": "PSd2z6n6JmlI"
      },
      "outputs": [],
      "source": [
        "def separate_time(date_time):\n",
        "  hours,minutes,seconds=[],[],[]\n",
        "  for i in date_time:\n",
        "    hours.append(i.hour)\n",
        "    minutes.append(i.minute)\n",
        "    seconds.append(i.second)\n",
        "  return hours,minutes,seconds"
      ]
    },
    {
      "cell_type": "code",
      "execution_count": 22,
      "metadata": {
        "id": "--WtJeYkJmlJ"
      },
      "outputs": [],
      "source": [
        "years,months,dates=separate_date(taxi[\"pickup_datetime\"])\n",
        "taxi[\"pickup_year\"]=years\n",
        "taxi[\"pickup_date\"]=dates\n",
        "taxi[\"pickup_month\"]=months"
      ]
    },
    {
      "cell_type": "code",
      "execution_count": 23,
      "metadata": {
        "id": "UttG_X0yJmlK"
      },
      "outputs": [],
      "source": [
        "\"\"\"\n",
        "for time we will only take hours, as they are important but having minutes and seconds is not \n",
        "required as we just want an idea of time.\n",
        "\"\"\"\n",
        "hours,minutes,seconds=separate_time(taxi[\"pickup_datetime\"])\n",
        "taxi[\"pickup_hour\"]=hours"
      ]
    },
    {
      "cell_type": "code",
      "execution_count": 24,
      "metadata": {
        "id": "76BZEkSkJmlH"
      },
      "outputs": [],
      "source": [
        "taxi[\"pickup_weekday\"]=get_weekdays((list(taxi[\"pickup_datetime\"])))\n"
      ]
    },
    {
      "cell_type": "code",
      "execution_count": 25,
      "metadata": {
        "colab": {
          "base_uri": "https://localhost:8080/",
          "height": 113
        },
        "id": "6i-T0IDHjHFD",
        "outputId": "c9f3c6ed-d466-4bdd-d5c7-09f0416485ef"
      },
      "outputs": [
        {
          "output_type": "execute_result",
          "data": {
            "text/plain": [
              "Empty DataFrame\n",
              "Columns: [id, vendor_id, pickup_datetime, dropoff_datetime, passenger_count, pickup_longitude, pickup_latitude, dropoff_longitude, dropoff_latitude, store_and_fwd_flag, trip_duration, pickup_year, pickup_date, pickup_month, pickup_hour, pickup_weekday, time_difference]\n",
              "Index: []"
            ],
            "text/html": [
              "\n",
              "  <div id=\"df-3d9489cd-324f-4040-b87e-3b7ffcc56e05\">\n",
              "    <div class=\"colab-df-container\">\n",
              "      <div>\n",
              "<style scoped>\n",
              "    .dataframe tbody tr th:only-of-type {\n",
              "        vertical-align: middle;\n",
              "    }\n",
              "\n",
              "    .dataframe tbody tr th {\n",
              "        vertical-align: top;\n",
              "    }\n",
              "\n",
              "    .dataframe thead th {\n",
              "        text-align: right;\n",
              "    }\n",
              "</style>\n",
              "<table border=\"1\" class=\"dataframe\">\n",
              "  <thead>\n",
              "    <tr style=\"text-align: right;\">\n",
              "      <th></th>\n",
              "      <th>id</th>\n",
              "      <th>vendor_id</th>\n",
              "      <th>pickup_datetime</th>\n",
              "      <th>dropoff_datetime</th>\n",
              "      <th>passenger_count</th>\n",
              "      <th>pickup_longitude</th>\n",
              "      <th>pickup_latitude</th>\n",
              "      <th>dropoff_longitude</th>\n",
              "      <th>dropoff_latitude</th>\n",
              "      <th>store_and_fwd_flag</th>\n",
              "      <th>trip_duration</th>\n",
              "      <th>pickup_year</th>\n",
              "      <th>pickup_date</th>\n",
              "      <th>pickup_month</th>\n",
              "      <th>pickup_hour</th>\n",
              "      <th>pickup_weekday</th>\n",
              "      <th>time_difference</th>\n",
              "    </tr>\n",
              "  </thead>\n",
              "  <tbody>\n",
              "  </tbody>\n",
              "</table>\n",
              "</div>\n",
              "      <button class=\"colab-df-convert\" onclick=\"convertToInteractive('df-3d9489cd-324f-4040-b87e-3b7ffcc56e05')\"\n",
              "              title=\"Convert this dataframe to an interactive table.\"\n",
              "              style=\"display:none;\">\n",
              "        \n",
              "  <svg xmlns=\"http://www.w3.org/2000/svg\" height=\"24px\"viewBox=\"0 0 24 24\"\n",
              "       width=\"24px\">\n",
              "    <path d=\"M0 0h24v24H0V0z\" fill=\"none\"/>\n",
              "    <path d=\"M18.56 5.44l.94 2.06.94-2.06 2.06-.94-2.06-.94-.94-2.06-.94 2.06-2.06.94zm-11 1L8.5 8.5l.94-2.06 2.06-.94-2.06-.94L8.5 2.5l-.94 2.06-2.06.94zm10 10l.94 2.06.94-2.06 2.06-.94-2.06-.94-.94-2.06-.94 2.06-2.06.94z\"/><path d=\"M17.41 7.96l-1.37-1.37c-.4-.4-.92-.59-1.43-.59-.52 0-1.04.2-1.43.59L10.3 9.45l-7.72 7.72c-.78.78-.78 2.05 0 2.83L4 21.41c.39.39.9.59 1.41.59.51 0 1.02-.2 1.41-.59l7.78-7.78 2.81-2.81c.8-.78.8-2.07 0-2.86zM5.41 20L4 18.59l7.72-7.72 1.47 1.35L5.41 20z\"/>\n",
              "  </svg>\n",
              "      </button>\n",
              "      \n",
              "  <style>\n",
              "    .colab-df-container {\n",
              "      display:flex;\n",
              "      flex-wrap:wrap;\n",
              "      gap: 12px;\n",
              "    }\n",
              "\n",
              "    .colab-df-convert {\n",
              "      background-color: #E8F0FE;\n",
              "      border: none;\n",
              "      border-radius: 50%;\n",
              "      cursor: pointer;\n",
              "      display: none;\n",
              "      fill: #1967D2;\n",
              "      height: 32px;\n",
              "      padding: 0 0 0 0;\n",
              "      width: 32px;\n",
              "    }\n",
              "\n",
              "    .colab-df-convert:hover {\n",
              "      background-color: #E2EBFA;\n",
              "      box-shadow: 0px 1px 2px rgba(60, 64, 67, 0.3), 0px 1px 3px 1px rgba(60, 64, 67, 0.15);\n",
              "      fill: #174EA6;\n",
              "    }\n",
              "\n",
              "    [theme=dark] .colab-df-convert {\n",
              "      background-color: #3B4455;\n",
              "      fill: #D2E3FC;\n",
              "    }\n",
              "\n",
              "    [theme=dark] .colab-df-convert:hover {\n",
              "      background-color: #434B5C;\n",
              "      box-shadow: 0px 1px 3px 1px rgba(0, 0, 0, 0.15);\n",
              "      filter: drop-shadow(0px 1px 2px rgba(0, 0, 0, 0.3));\n",
              "      fill: #FFFFFF;\n",
              "    }\n",
              "  </style>\n",
              "\n",
              "      <script>\n",
              "        const buttonEl =\n",
              "          document.querySelector('#df-3d9489cd-324f-4040-b87e-3b7ffcc56e05 button.colab-df-convert');\n",
              "        buttonEl.style.display =\n",
              "          google.colab.kernel.accessAllowed ? 'block' : 'none';\n",
              "\n",
              "        async function convertToInteractive(key) {\n",
              "          const element = document.querySelector('#df-3d9489cd-324f-4040-b87e-3b7ffcc56e05');\n",
              "          const dataTable =\n",
              "            await google.colab.kernel.invokeFunction('convertToInteractive',\n",
              "                                                     [key], {});\n",
              "          if (!dataTable) return;\n",
              "\n",
              "          const docLinkHtml = 'Like what you see? Visit the ' +\n",
              "            '<a target=\"_blank\" href=https://colab.research.google.com/notebooks/data_table.ipynb>data table notebook</a>'\n",
              "            + ' to learn more about interactive tables.';\n",
              "          element.innerHTML = '';\n",
              "          dataTable['output_type'] = 'display_data';\n",
              "          await google.colab.output.renderOutput(dataTable, element);\n",
              "          const docLink = document.createElement('div');\n",
              "          docLink.innerHTML = docLinkHtml;\n",
              "          element.appendChild(docLink);\n",
              "        }\n",
              "      </script>\n",
              "    </div>\n",
              "  </div>\n",
              "  "
            ]
          },
          "metadata": {},
          "execution_count": 25
        }
      ],
      "source": [
        "taxi[\"time_difference\"]=taxi[\"dropoff_datetime\"]-taxi[\"pickup_datetime\"]\n",
        "taxi[\"time_difference\"] = [(i).seconds for i in (taxi[\"time_difference\"])]\n",
        "taxi[taxi[\"time_difference\"]!=taxi[\"trip_duration\"]]\n",
        "#no such rows where the difference between pickup and dropoff datetime is not equal to total trip duration"
      ]
    },
    {
      "cell_type": "code",
      "execution_count": 26,
      "metadata": {
        "colab": {
          "base_uri": "https://localhost:8080/",
          "height": 211
        },
        "id": "MEiLr5cM5BIj",
        "outputId": "8d7ad7c7-5900-4039-c265-59b08789f809"
      },
      "outputs": [
        {
          "output_type": "execute_result",
          "data": {
            "text/plain": [
              "          id  vendor_id     pickup_datetime    dropoff_datetime  \\\n",
              "0  id2875421          2 2016-03-14 17:24:55 2016-03-14 17:32:30   \n",
              "1  id2377394          1 2016-06-12 00:43:35 2016-06-12 00:54:38   \n",
              "\n",
              "   passenger_count  pickup_longitude  pickup_latitude  dropoff_longitude  \\\n",
              "0                1        -73.982155        40.767937         -73.964630   \n",
              "1                1        -73.980415        40.738564         -73.999481   \n",
              "\n",
              "   dropoff_latitude store_and_fwd_flag  trip_duration  pickup_year  \\\n",
              "0         40.765602                  N            455         2016   \n",
              "1         40.731152                  N            663         2016   \n",
              "\n",
              "   pickup_date  pickup_month  pickup_hour pickup_weekday  time_difference  \n",
              "0           14             3           17         Monday              455  \n",
              "1           12             6            0         Sunday              663  "
            ],
            "text/html": [
              "\n",
              "  <div id=\"df-40af5d07-6bbe-4011-806e-0ff4c4750cdc\">\n",
              "    <div class=\"colab-df-container\">\n",
              "      <div>\n",
              "<style scoped>\n",
              "    .dataframe tbody tr th:only-of-type {\n",
              "        vertical-align: middle;\n",
              "    }\n",
              "\n",
              "    .dataframe tbody tr th {\n",
              "        vertical-align: top;\n",
              "    }\n",
              "\n",
              "    .dataframe thead th {\n",
              "        text-align: right;\n",
              "    }\n",
              "</style>\n",
              "<table border=\"1\" class=\"dataframe\">\n",
              "  <thead>\n",
              "    <tr style=\"text-align: right;\">\n",
              "      <th></th>\n",
              "      <th>id</th>\n",
              "      <th>vendor_id</th>\n",
              "      <th>pickup_datetime</th>\n",
              "      <th>dropoff_datetime</th>\n",
              "      <th>passenger_count</th>\n",
              "      <th>pickup_longitude</th>\n",
              "      <th>pickup_latitude</th>\n",
              "      <th>dropoff_longitude</th>\n",
              "      <th>dropoff_latitude</th>\n",
              "      <th>store_and_fwd_flag</th>\n",
              "      <th>trip_duration</th>\n",
              "      <th>pickup_year</th>\n",
              "      <th>pickup_date</th>\n",
              "      <th>pickup_month</th>\n",
              "      <th>pickup_hour</th>\n",
              "      <th>pickup_weekday</th>\n",
              "      <th>time_difference</th>\n",
              "    </tr>\n",
              "  </thead>\n",
              "  <tbody>\n",
              "    <tr>\n",
              "      <th>0</th>\n",
              "      <td>id2875421</td>\n",
              "      <td>2</td>\n",
              "      <td>2016-03-14 17:24:55</td>\n",
              "      <td>2016-03-14 17:32:30</td>\n",
              "      <td>1</td>\n",
              "      <td>-73.982155</td>\n",
              "      <td>40.767937</td>\n",
              "      <td>-73.964630</td>\n",
              "      <td>40.765602</td>\n",
              "      <td>N</td>\n",
              "      <td>455</td>\n",
              "      <td>2016</td>\n",
              "      <td>14</td>\n",
              "      <td>3</td>\n",
              "      <td>17</td>\n",
              "      <td>Monday</td>\n",
              "      <td>455</td>\n",
              "    </tr>\n",
              "    <tr>\n",
              "      <th>1</th>\n",
              "      <td>id2377394</td>\n",
              "      <td>1</td>\n",
              "      <td>2016-06-12 00:43:35</td>\n",
              "      <td>2016-06-12 00:54:38</td>\n",
              "      <td>1</td>\n",
              "      <td>-73.980415</td>\n",
              "      <td>40.738564</td>\n",
              "      <td>-73.999481</td>\n",
              "      <td>40.731152</td>\n",
              "      <td>N</td>\n",
              "      <td>663</td>\n",
              "      <td>2016</td>\n",
              "      <td>12</td>\n",
              "      <td>6</td>\n",
              "      <td>0</td>\n",
              "      <td>Sunday</td>\n",
              "      <td>663</td>\n",
              "    </tr>\n",
              "  </tbody>\n",
              "</table>\n",
              "</div>\n",
              "      <button class=\"colab-df-convert\" onclick=\"convertToInteractive('df-40af5d07-6bbe-4011-806e-0ff4c4750cdc')\"\n",
              "              title=\"Convert this dataframe to an interactive table.\"\n",
              "              style=\"display:none;\">\n",
              "        \n",
              "  <svg xmlns=\"http://www.w3.org/2000/svg\" height=\"24px\"viewBox=\"0 0 24 24\"\n",
              "       width=\"24px\">\n",
              "    <path d=\"M0 0h24v24H0V0z\" fill=\"none\"/>\n",
              "    <path d=\"M18.56 5.44l.94 2.06.94-2.06 2.06-.94-2.06-.94-.94-2.06-.94 2.06-2.06.94zm-11 1L8.5 8.5l.94-2.06 2.06-.94-2.06-.94L8.5 2.5l-.94 2.06-2.06.94zm10 10l.94 2.06.94-2.06 2.06-.94-2.06-.94-.94-2.06-.94 2.06-2.06.94z\"/><path d=\"M17.41 7.96l-1.37-1.37c-.4-.4-.92-.59-1.43-.59-.52 0-1.04.2-1.43.59L10.3 9.45l-7.72 7.72c-.78.78-.78 2.05 0 2.83L4 21.41c.39.39.9.59 1.41.59.51 0 1.02-.2 1.41-.59l7.78-7.78 2.81-2.81c.8-.78.8-2.07 0-2.86zM5.41 20L4 18.59l7.72-7.72 1.47 1.35L5.41 20z\"/>\n",
              "  </svg>\n",
              "      </button>\n",
              "      \n",
              "  <style>\n",
              "    .colab-df-container {\n",
              "      display:flex;\n",
              "      flex-wrap:wrap;\n",
              "      gap: 12px;\n",
              "    }\n",
              "\n",
              "    .colab-df-convert {\n",
              "      background-color: #E8F0FE;\n",
              "      border: none;\n",
              "      border-radius: 50%;\n",
              "      cursor: pointer;\n",
              "      display: none;\n",
              "      fill: #1967D2;\n",
              "      height: 32px;\n",
              "      padding: 0 0 0 0;\n",
              "      width: 32px;\n",
              "    }\n",
              "\n",
              "    .colab-df-convert:hover {\n",
              "      background-color: #E2EBFA;\n",
              "      box-shadow: 0px 1px 2px rgba(60, 64, 67, 0.3), 0px 1px 3px 1px rgba(60, 64, 67, 0.15);\n",
              "      fill: #174EA6;\n",
              "    }\n",
              "\n",
              "    [theme=dark] .colab-df-convert {\n",
              "      background-color: #3B4455;\n",
              "      fill: #D2E3FC;\n",
              "    }\n",
              "\n",
              "    [theme=dark] .colab-df-convert:hover {\n",
              "      background-color: #434B5C;\n",
              "      box-shadow: 0px 1px 3px 1px rgba(0, 0, 0, 0.15);\n",
              "      filter: drop-shadow(0px 1px 2px rgba(0, 0, 0, 0.3));\n",
              "      fill: #FFFFFF;\n",
              "    }\n",
              "  </style>\n",
              "\n",
              "      <script>\n",
              "        const buttonEl =\n",
              "          document.querySelector('#df-40af5d07-6bbe-4011-806e-0ff4c4750cdc button.colab-df-convert');\n",
              "        buttonEl.style.display =\n",
              "          google.colab.kernel.accessAllowed ? 'block' : 'none';\n",
              "\n",
              "        async function convertToInteractive(key) {\n",
              "          const element = document.querySelector('#df-40af5d07-6bbe-4011-806e-0ff4c4750cdc');\n",
              "          const dataTable =\n",
              "            await google.colab.kernel.invokeFunction('convertToInteractive',\n",
              "                                                     [key], {});\n",
              "          if (!dataTable) return;\n",
              "\n",
              "          const docLinkHtml = 'Like what you see? Visit the ' +\n",
              "            '<a target=\"_blank\" href=https://colab.research.google.com/notebooks/data_table.ipynb>data table notebook</a>'\n",
              "            + ' to learn more about interactive tables.';\n",
              "          element.innerHTML = '';\n",
              "          dataTable['output_type'] = 'display_data';\n",
              "          await google.colab.output.renderOutput(dataTable, element);\n",
              "          const docLink = document.createElement('div');\n",
              "          docLink.innerHTML = docLinkHtml;\n",
              "          element.appendChild(docLink);\n",
              "        }\n",
              "      </script>\n",
              "    </div>\n",
              "  </div>\n",
              "  "
            ]
          },
          "metadata": {},
          "execution_count": 26
        }
      ],
      "source": [
        "taxi.head(2)"
      ]
    },
    {
      "cell_type": "code",
      "execution_count": 27,
      "metadata": {
        "id": "B8hqtDhFBM9u"
      },
      "outputs": [],
      "source": [
        "def convert_weekday(x):\n",
        "  if x in ['Monday','Tuesday','Wednesday','Thursday','Friday']:\n",
        "    x = 0\n",
        "    return x\n",
        "  else:\n",
        "    x = 1\n",
        "    return x"
      ]
    },
    {
      "cell_type": "code",
      "execution_count": 28,
      "metadata": {
        "id": "YoaeyKENBRGE"
      },
      "outputs": [],
      "source": [
        "taxi['is_weekend'] = taxi['pickup_weekday'].apply(convert_weekday)"
      ]
    },
    {
      "cell_type": "code",
      "execution_count": 29,
      "metadata": {
        "id": "S_7spT3tBXBH"
      },
      "outputs": [],
      "source": [
        "def convert_pickup_hour(x):\n",
        "  if x in [0,1,2,3,4,5,6]:\n",
        "    x = 'mid_night'\n",
        "    return x\n",
        "  elif x in [7,8,9,10,11,12]:\n",
        "    x = 'office_time'\n",
        "    return x\n",
        "  elif x in [13,14,15,16,17,18]:\n",
        "    x = 'lunch_time'\n",
        "    return x\n",
        "  else:\n",
        "    x = 'Evening_time'\n",
        "    return x"
      ]
    },
    {
      "cell_type": "code",
      "execution_count": 30,
      "metadata": {
        "id": "k9h2QcTZBbvP"
      },
      "outputs": [],
      "source": [
        "taxi['pickup_shift'] = taxi['pickup_hour'].apply(convert_pickup_hour)"
      ]
    },
    {
      "cell_type": "markdown",
      "metadata": {
        "id": "4mQvlNIFOBmS"
      },
      "source": [
        "####Feature Engineering to find total distance"
      ]
    },
    {
      "cell_type": "markdown",
      "metadata": {
        "id": "hU9q_ThLJmlL"
      },
      "source": [
        "Calculating distance from latitude and longitude using Haversine’ formula. The haversine formula determines the great-circle distance between two points on a sphere given their longitudes and latitudes. Given by(in miles)\n",
        "\n",
        "$$Distance = 3963.0*arccos[(sin(lat1)*sin(lat2))+cos(lat1)*cos(lat2)*cos(long1-long2)]$$\n",
        "\n",
        "First we convert latitude and longitude in radian."
      ]
    },
    {
      "cell_type": "code",
      "execution_count": 31,
      "metadata": {
        "id": "NmR4b14yJmlM"
      },
      "outputs": [],
      "source": [
        "import math\n",
        "def convert_radian(arg):\n",
        "  ''' This function convert degree to radian\n",
        "  input is in degree \n",
        "  output is in radian'''\n",
        "  \n",
        "\n",
        "  return arg*(math.pi/180)\n"
      ]
    },
    {
      "cell_type": "code",
      "execution_count": 32,
      "metadata": {
        "id": "U3VK9R6JJmlO"
      },
      "outputs": [],
      "source": [
        "def  haversine_formula(lat1,lat2,long1,long2):\n",
        "  ''' lat1 = pickup latitude(in radian form)\n",
        "  lat2 = dropoff_latitude(in radian form)\n",
        "  long1 = pickup longitude(in radian form)\n",
        "  long2 = dropoff longitude(in radian form)'''\n",
        "  a = (np.sin(lat1)*np.sin(lat2))+(np.cos(lat1)*np.cos(lat2)*np.cos(long2-long1))\n",
        "  b = np.arccos(a)\n",
        "  c = 3963.0*1.609344*b # convert into KM\n",
        "\n",
        "  return c"
      ]
    },
    {
      "cell_type": "code",
      "execution_count": 33,
      "metadata": {
        "id": "B_u4uq2kJmlM"
      },
      "outputs": [],
      "source": [
        "distance = [ 'pickup_longitude','pickup_latitude', 'dropoff_longitude','dropoff_latitude']\n",
        "for col in distance:\n",
        "  taxi[col] = taxi[col].apply(convert_radian)"
      ]
    },
    {
      "cell_type": "code",
      "execution_count": 34,
      "metadata": {
        "colab": {
          "base_uri": "https://localhost:8080/"
        },
        "id": "EFzLkw4hJmlP",
        "outputId": "309c4ce2-ad62-4e3c-ebb4-cf35b7dff569"
      },
      "outputs": [
        {
          "output_type": "stream",
          "name": "stderr",
          "text": [
            "/usr/local/lib/python3.7/dist-packages/pandas/core/arraylike.py:364: RuntimeWarning: invalid value encountered in arccos\n",
            "  result = getattr(ufunc, method)(*inputs, **kwargs)\n"
          ]
        }
      ],
      "source": [
        "taxi['total_distance'] = haversine_formula(taxi['pickup_latitude'],taxi['dropoff_latitude'],taxi['pickup_longitude'],taxi['dropoff_longitude'])"
      ]
    },
    {
      "cell_type": "markdown",
      "metadata": {
        "id": "Xh3j5K6_OZ-T"
      },
      "source": [
        "###Now deleting the required columns:\n",
        "we will drop the following columns: \n",
        "\n",
        "- id: because it does not have any relation with trip duration\n",
        "- dropoff_datetime: The column drop off time is a dependent column, as drop off time will depend on trip time, so indirectly it is also a dependent feature,\n",
        "but before that we will drop those columns in which the difference between pickup and dropoff date time is not eqaul to trip duration\n"
      ]
    },
    {
      "cell_type": "code",
      "execution_count": 35,
      "metadata": {
        "colab": {
          "base_uri": "https://localhost:8080/"
        },
        "id": "V_jNnvkePjLK",
        "outputId": "7065a559-0e16-4dfa-9eb9-c505cb5596b2"
      },
      "outputs": [
        {
          "output_type": "execute_result",
          "data": {
            "text/plain": [
              "Index(['id', 'vendor_id', 'pickup_datetime', 'dropoff_datetime',\n",
              "       'passenger_count', 'pickup_longitude', 'pickup_latitude',\n",
              "       'dropoff_longitude', 'dropoff_latitude', 'store_and_fwd_flag',\n",
              "       'trip_duration', 'pickup_year', 'pickup_date', 'pickup_month',\n",
              "       'pickup_hour', 'pickup_weekday', 'time_difference', 'is_weekend',\n",
              "       'pickup_shift', 'total_distance'],\n",
              "      dtype='object')"
            ]
          },
          "metadata": {},
          "execution_count": 35
        }
      ],
      "source": [
        "taxi.columns"
      ]
    },
    {
      "cell_type": "code",
      "execution_count": 36,
      "metadata": {
        "id": "1awHwXPPIzW3"
      },
      "outputs": [],
      "source": [
        "\n",
        "taxi.drop(['id',\"dropoff_datetime\",'time_difference'],inplace=True,axis=1)"
      ]
    },
    {
      "cell_type": "code",
      "execution_count": 37,
      "metadata": {
        "colab": {
          "base_uri": "https://localhost:8080/"
        },
        "id": "c9uFBq8thgn7",
        "outputId": "9a6f73a6-ec40-4ad6-9dbf-66a941b60dc4"
      },
      "outputs": [
        {
          "output_type": "execute_result",
          "data": {
            "text/plain": [
              "(1397832, 17)"
            ]
          },
          "metadata": {},
          "execution_count": 37
        }
      ],
      "source": [
        "\"\"\"\n",
        "from previous analysis we note that some records have passenger count as 0,so those records are of no use so lets remove them.\n",
        "\"\"\"\n",
        "taxi.index=np.arange(0,taxi.shape[0])\n",
        "passenger_0=np.where(taxi[\"passenger_count\"]==0)\n",
        "taxi.drop(passenger_0[0], inplace = True)\n",
        "taxi.shape"
      ]
    },
    {
      "cell_type": "code",
      "execution_count": 38,
      "metadata": {
        "colab": {
          "base_uri": "https://localhost:8080/"
        },
        "id": "G6RJZ5pW3-tU",
        "outputId": "e09c287a-4faa-4e5f-d63d-f915d1ad846f"
      },
      "outputs": [
        {
          "output_type": "stream",
          "name": "stdout",
          "text": [
            "2016    1397832\n",
            "Name: pickup_year, dtype: int64\n"
          ]
        }
      ],
      "source": [
        "print(taxi[\"pickup_year\"].value_counts())\n",
        "#as year is only 2016 so it is of no use\n"
      ]
    },
    {
      "cell_type": "code",
      "execution_count": 39,
      "metadata": {
        "id": "rkAHOrTWY-Ok"
      },
      "outputs": [],
      "source": [
        "#now we will drop some columns which we do not require\n",
        "#as we have pickup_shift so pickup_hour is not important so we will also drop it\n",
        "taxi.drop(['pickup_datetime', \"pickup_year\",'pickup_date','pickup_hour'],axis=1,inplace=True)"
      ]
    },
    {
      "cell_type": "markdown",
      "metadata": {
        "id": "Unyz6l_BSmAJ"
      },
      "source": [
        "###Outliers"
      ]
    },
    {
      "cell_type": "code",
      "execution_count": 40,
      "metadata": {
        "id": "WanhmFEd6cqK"
      },
      "outputs": [],
      "source": [
        "def convert(sec):\n",
        "  min,second = divmod(sec,60)\n",
        "  list1 = \"%d:%02d\" % (min,second)\n",
        "  return int(list1.split(':')[0])"
      ]
    },
    {
      "cell_type": "code",
      "execution_count": 41,
      "metadata": {
        "id": "PDjs4Ocl6hfr"
      },
      "outputs": [],
      "source": [
        "taxi['trip_min'] = taxi['trip_duration'].apply(convert)"
      ]
    },
    {
      "cell_type": "code",
      "execution_count": 42,
      "metadata": {
        "id": "etfQHHe3rAQi"
      },
      "outputs": [],
      "source": [
        "taxi = taxi[taxi['trip_min'] != 0]"
      ]
    },
    {
      "cell_type": "code",
      "execution_count": 43,
      "metadata": {
        "colab": {
          "base_uri": "https://localhost:8080/"
        },
        "id": "v1cGWjbysiZz",
        "outputId": "f78646f8-4389-485b-d6c8-1fb8a585caea"
      },
      "outputs": [
        {
          "output_type": "stream",
          "name": "stderr",
          "text": [
            "/usr/local/lib/python3.7/dist-packages/ipykernel_launcher.py:1: SettingWithCopyWarning: \n",
            "A value is trying to be set on a copy of a slice from a DataFrame.\n",
            "Try using .loc[row_indexer,col_indexer] = value instead\n",
            "\n",
            "See the caveats in the documentation: https://pandas.pydata.org/pandas-docs/stable/user_guide/indexing.html#returning-a-view-versus-a-copy\n",
            "  \"\"\"Entry point for launching an IPython kernel.\n"
          ]
        }
      ],
      "source": [
        "taxi['speed'] = taxi['total_distance']/taxi['trip_min']"
      ]
    },
    {
      "cell_type": "code",
      "execution_count": 44,
      "metadata": {
        "colab": {
          "base_uri": "https://localhost:8080/"
        },
        "id": "5JM0__Q16vQP",
        "outputId": "c57bd689-0f17-468e-a187-b1b21cce3734"
      },
      "outputs": [
        {
          "output_type": "execute_result",
          "data": {
            "text/plain": [
              "1951"
            ]
          },
          "metadata": {},
          "execution_count": 44
        }
      ],
      "source": [
        "len(taxi[(taxi['total_distance']/taxi['trip_min'])>1])"
      ]
    },
    {
      "cell_type": "code",
      "execution_count": 45,
      "metadata": {
        "colab": {
          "base_uri": "https://localhost:8080/"
        },
        "id": "RKr8jlAq63ig",
        "outputId": "31b89343-9282-4a6f-a6d6-a992f2b3e260"
      },
      "outputs": [
        {
          "output_type": "execute_result",
          "data": {
            "text/plain": [
              "23377"
            ]
          },
          "metadata": {},
          "execution_count": 45
        }
      ],
      "source": [
        "len(taxi[(taxi['total_distance']/taxi['trip_min'])<0.06])\n"
      ]
    },
    {
      "cell_type": "code",
      "execution_count": 46,
      "metadata": {
        "colab": {
          "base_uri": "https://localhost:8080/",
          "height": 282
        },
        "id": "9j4fnu1OvYRo",
        "outputId": "69805c8d-4cbf-4143-b8d4-da893e71364c"
      },
      "outputs": [
        {
          "output_type": "execute_result",
          "data": {
            "text/plain": [
              "<matplotlib.axes._subplots.AxesSubplot at 0x7f1ae62e30d0>"
            ]
          },
          "metadata": {},
          "execution_count": 46
        },
        {
          "output_type": "display_data",
          "data": {
            "text/plain": [
              "<Figure size 432x288 with 1 Axes>"
            ],
            "image/png": "[encoded data removed]"
          },
          "metadata": {
            "needs_background": "light"
          }
        }
      ],
      "source": [
        "taxi.boxplot(column = 'speed')"
      ]
    },
    {
      "cell_type": "code",
      "execution_count": 47,
      "metadata": {
        "id": "gj2mBf3KvhMj"
      },
      "outputs": [],
      "source": [
        "taxi = taxi[(taxi['total_distance']/taxi['trip_min'])<1]\n",
        "taxi = taxi[(taxi['total_distance']/taxi['trip_min'])>0.06]"
      ]
    },
    {
      "cell_type": "code",
      "execution_count": 48,
      "metadata": {
        "colab": {
          "base_uri": "https://localhost:8080/",
          "height": 282
        },
        "id": "sxfphA87vhD3",
        "outputId": "d0c9fbc4-2995-40ab-d90b-f9f904b82060"
      },
      "outputs": [
        {
          "output_type": "execute_result",
          "data": {
            "text/plain": [
              "<matplotlib.axes._subplots.AxesSubplot at 0x7f1ae2b34490>"
            ]
          },
          "metadata": {},
          "execution_count": 48
        },
        {
          "output_type": "display_data",
          "data": {
            "text/plain": [
              "<Figure size 432x288 with 1 Axes>"
            ],
            "image/png": "[encoded data removed]"
          },
          "metadata": {
            "needs_background": "light"
          }
        }
      ],
      "source": [
        "taxi.boxplot(column = 'speed')"
      ]
    },
    {
      "cell_type": "code",
      "execution_count": 49,
      "metadata": {
        "id": "DMiO3PsCvaPM"
      },
      "outputs": [],
      "source": [
        "taxi.drop([\"trip_min\",\"speed\"],axis=1,inplace=True)"
      ]
    },
    {
      "cell_type": "code",
      "execution_count": 50,
      "metadata": {
        "id": "HXYj_YoOnJhG"
      },
      "outputs": [],
      "source": [
        "# taxi=(remove_outliers2(taxi,[\"total_distance\"]))"
      ]
    },
    {
      "cell_type": "code",
      "execution_count": 51,
      "metadata": {
        "id": "CSf3tI4qjn4e"
      },
      "outputs": [],
      "source": [
        "# taxi=remove_outliers(taxi)"
      ]
    },
    {
      "cell_type": "code",
      "execution_count": 52,
      "metadata": {
        "colab": {
          "base_uri": "https://localhost:8080/"
        },
        "id": "xQnlgzEeXHTT",
        "outputId": "baf0cee4-38d5-417a-d860-b73ddcdc712c"
      },
      "outputs": [
        {
          "output_type": "execute_result",
          "data": {
            "text/plain": [
              "(1364283, 13)"
            ]
          },
          "metadata": {},
          "execution_count": 52
        }
      ],
      "source": [
        "taxi.shape"
      ]
    },
    {
      "cell_type": "markdown",
      "metadata": {
        "id": "Vqc10llnht-U"
      },
      "source": [
        "##EDA"
      ]
    },
    {
      "cell_type": "code",
      "execution_count": 53,
      "metadata": {
        "colab": {
          "base_uri": "https://localhost:8080/"
        },
        "id": "O-A_PUfaXKVd",
        "outputId": "2cb8a6c5-fd00-47ef-e4fc-2e05b55dbb38"
      },
      "outputs": [
        {
          "output_type": "execute_result",
          "data": {
            "text/plain": [
              "['vendor_id',\n",
              " 'passenger_count',\n",
              " 'pickup_longitude',\n",
              " 'pickup_latitude',\n",
              " 'dropoff_longitude',\n",
              " 'dropoff_latitude',\n",
              " 'trip_duration',\n",
              " 'pickup_month',\n",
              " 'total_distance']"
            ]
          },
          "metadata": {},
          "execution_count": 53
        }
      ],
      "source": [
        "numeric_feature = ['vendor_id', 'passenger_count', 'pickup_longitude', 'pickup_latitude',\n",
        "       'dropoff_longitude', 'dropoff_latitude', 'trip_duration',\n",
        "       'pickup_month', 'total_distance']\n",
        "numeric_feature"
      ]
    },
    {
      "cell_type": "code",
      "execution_count": 54,
      "metadata": {
        "colab": {
          "base_uri": "https://localhost:8080/",
          "height": 531
        },
        "id": "8GpyUegUltFl",
        "outputId": "158e7322-457e-48fe-8c32-e32f3bbedca3"
      },
      "outputs": [
        {
          "output_type": "stream",
          "name": "stderr",
          "text": [
            "/usr/local/lib/python3.7/dist-packages/seaborn/distributions.py:2619: FutureWarning: `distplot` is a deprecated function and will be removed in a future version. Please adapt your code to use either `displot` (a figure-level function with similar flexibility) or `histplot` (an axes-level function for histograms).\n",
            "  warnings.warn(msg, FutureWarning)\n"
          ]
        },
        {
          "output_type": "execute_result",
          "data": {
            "text/plain": [
              "Text(0.5, 1.0, 'Target_variable')"
            ]
          },
          "metadata": {},
          "execution_count": 54
        },
        {
          "output_type": "display_data",
          "data": {
            "text/plain": [
              "<Figure size 720x504 with 1 Axes>"
            ],
            "image/png": "[encoded data removed]"
          },
          "metadata": {
            "needs_background": "light"
          }
        }
      ],
      "source": [
        "# Now check the distribution of dependent variable\n",
        "import seaborn as sns\n",
        "fig = plt.figure(figsize=(10,7))\n",
        "sns.distplot(taxi['trip_duration'], color = 'g')\n",
        "plt.title('Target_variable')"
      ]
    },
    {
      "cell_type": "code",
      "execution_count": 55,
      "metadata": {
        "colab": {
          "base_uri": "https://localhost:8080/",
          "height": 515
        },
        "id": "abSxB-WVl-v_",
        "outputId": "5b2b578b-d5fe-4cb4-c2d7-85983fb9eba3"
      },
      "outputs": [
        {
          "output_type": "stream",
          "name": "stderr",
          "text": [
            "/usr/local/lib/python3.7/dist-packages/seaborn/distributions.py:2619: FutureWarning: `distplot` is a deprecated function and will be removed in a future version. Please adapt your code to use either `displot` (a figure-level function with similar flexibility) or `histplot` (an axes-level function for histograms).\n",
            "  warnings.warn(msg, FutureWarning)\n"
          ]
        },
        {
          "output_type": "execute_result",
          "data": {
            "text/plain": [
              "<matplotlib.axes._subplots.AxesSubplot at 0x7f1ae84b9750>"
            ]
          },
          "metadata": {},
          "execution_count": 55
        },
        {
          "output_type": "display_data",
          "data": {
            "text/plain": [
              "<Figure size 720x504 with 1 Axes>"
            ],
            "image/png": "[encoded data removed]"
          },
          "metadata": {
            "needs_background": "light"
          }
        }
      ],
      "source": [
        "fig = plt.figure(figsize=(10,7))\n",
        "sns.distplot(np.sqrt(taxi['trip_duration']), color = 'g')"
      ]
    },
    {
      "cell_type": "code",
      "execution_count": null,
      "metadata": {
        "colab": {
          "base_uri": "https://localhost:8080/",
          "height": 548
        },
        "id": "gXy8ILCLmGAp",
        "outputId": "58f590c3-a94f-4235-9c42-564fb4416600"
      },
      "outputs": [
        {
          "output_type": "stream",
          "name": "stderr",
          "text": [
            "/usr/local/lib/python3.7/dist-packages/seaborn/distributions.py:2619: FutureWarning: `distplot` is a deprecated function and will be removed in a future version. Please adapt your code to use either `displot` (a figure-level function with similar flexibility) or `histplot` (an axes-level function for histograms).\n",
            "  warnings.warn(msg, FutureWarning)\n"
          ]
        },
        {
          "output_type": "display_data",
          "data": {
            "text/plain": [
              "<Figure size 720x504 with 1 Axes>"
            ],
            "image/png": "[encoded data removed]"
          },
          "metadata": {
            "needs_background": "light"
          }
        },
        {
          "output_type": "stream",
          "name": "stderr",
          "text": [
            "/usr/local/lib/python3.7/dist-packages/seaborn/distributions.py:2619: FutureWarning: `distplot` is a deprecated function and will be removed in a future version. Please adapt your code to use either `displot` (a figure-level function with similar flexibility) or `histplot` (an axes-level function for histograms).\n",
            "  warnings.warn(msg, FutureWarning)\n"
          ]
        }
      ],
      "source": [
        "for col in numeric_feature[1:]:\n",
        "  if col not in ['passenger_count','trip_duration']:\n",
        "    fig = plt.figure(figsize=(10,7))\n",
        "    sns.distplot(taxi[col])\n",
        "    plt.ylabel(col)\n",
        "    plt.title(col)\n",
        "    plt.show()"
      ]
    },
    {
      "cell_type": "code",
      "execution_count": null,
      "metadata": {
        "id": "YkjqSkSjMjS2"
      },
      "outputs": [],
      "source": [
        "#let's have a look at correlation of different attributes and remove multicollinearity\n",
        "plt.figure(figsize=(15,8))\n",
        "correlation = taxi.corr()\n",
        "sns.heatmap(abs(correlation), annot=True, cmap='coolwarm')"
      ]
    },
    {
      "cell_type": "markdown",
      "metadata": {
        "id": "pgo1nR9tfs0R"
      },
      "source": [
        "From here we note that there is a good correlation between trip_durationa and total distance, so we conclude that duration mainly depends on distance and not on the path or the initial and final positions, so we drop the four columns which represents geographic location of final and initial point"
      ]
    },
    {
      "cell_type": "code",
      "execution_count": null,
      "metadata": {
        "id": "nP0f-7Ovj1vh"
      },
      "outputs": [],
      "source": [
        "#Now we do some analysis on categorical variable\n",
        "categorical_feature = list(taxi.describe(include = 'object').columns)\n",
        "categorical_feature.extend(['is_weekend'])"
      ]
    },
    {
      "cell_type": "code",
      "execution_count": null,
      "metadata": {
        "id": "8Ix0wRxTmHv_"
      },
      "outputs": [],
      "source": [
        "#to have a look at the distribution of various categorical features\n",
        "for col in categorical_feature:\n",
        "  fig = plt.figure(figsize= (10,7))\n",
        "  ax = fig.gca()\n",
        "  counts = taxi[col].value_counts()\n",
        "  counts.plot.bar(ax=ax)\n",
        "  ax.set_title(col + 'count')\n",
        "  ax.set_xlabel(col)\n",
        "  ax.set_ylabel('frequency')"
      ]
    },
    {
      "cell_type": "markdown",
      "metadata": {
        "id": "UdB6d7Qcr5Hx"
      },
      "source": [
        "So we will drop the column pickup_weekday and pickup_hours as pickup_weekday and pickup_is_weekend is correlated to each other. Whereas pickup_hours and pickup_shift are correlated."
      ]
    },
    {
      "cell_type": "code",
      "execution_count": null,
      "metadata": {
        "id": "zqL2z2C9KCpg"
      },
      "outputs": [],
      "source": [
        "for col in categorical_feature:\n",
        "  fig = plt.figure(figsize= (10,7))\n",
        "  ax = fig.gca()\n",
        "  Distance_travel = taxi.groupby(col)['trip_duration'].mean()\n",
        "  Distance_travel.plot.bar(ax=ax)\n",
        "  ax.set_title(col + 'count')\n",
        "  ax.set_xlabel(col)\n",
        "  ax.set_ylabel('trip_duration')"
      ]
    },
    {
      "cell_type": "code",
      "execution_count": null,
      "metadata": {
        "id": "UojR4_RfuoPr"
      },
      "outputs": [],
      "source": [
        "for col in categorical_feature:\n",
        "  fig = plt.figure(figsize= (10,7))\n",
        "  ax = fig.gca()\n",
        "  Distance_travel = taxi.groupby(col)['total_distance'].mean()\n",
        "  Distance_travel.plot.bar(ax=ax)\n",
        "  ax.set_title(col + 'count')\n",
        "  ax.set_xlabel(col)\n",
        "  ax.set_ylabel('total_distance')"
      ]
    },
    {
      "cell_type": "markdown",
      "metadata": {
        "id": "68zqlp5F1qMa"
      },
      "source": [
        "From pickup_shift it is clearly visible that, at lunch time taxi takes long time to cover short distance, whereas at midnight taxi takes short time to cover long distance. This implies people face lots off traffic during lunch time.\n",
        "\n",
        "Also in weekend people travel same distance as they travelled in weekday in shorter time."
      ]
    },
    {
      "cell_type": "code",
      "execution_count": null,
      "metadata": {
        "id": "F9cXScRpRm0U"
      },
      "outputs": [],
      "source": [
        "taxi.head()"
      ]
    },
    {
      "cell_type": "code",
      "execution_count": null,
      "metadata": {
        "id": "xYXmZEfAaREM"
      },
      "outputs": [],
      "source": [
        "features=categorical_feature.extend([\"vendor_id\",\"pickup_month\"])"
      ]
    },
    {
      "cell_type": "code",
      "execution_count": null,
      "metadata": {
        "id": "nOOsv4xaRV0i"
      },
      "outputs": [],
      "source": [
        "categorical_feature"
      ]
    },
    {
      "cell_type": "code",
      "execution_count": null,
      "metadata": {
        "id": "BV0wUAlQWjHm"
      },
      "outputs": [],
      "source": [
        "#but we do not very much bother about their separate distribution what we care about is how these features affect our dependent variable\n",
        "features=[\"vendor_id\",\"pickup_month\"]+categorical_feature\n",
        "for col in categorical_feature:\n",
        "  plt.figure(figsize=(15,12),facecolor='white',edgecolor='orange')\n",
        "  plt.title(\"trip_duration v/s total_distance\".title())\n",
        "  sns.scatterplot(x=\"trip_duration\",y=\"total_distance\",data=taxi,hue=col, alpha=1, legend=\"brief\")#,y_bins=[10*i for i in range(0,20)])\n",
        "  plt.show()"
      ]
    },
    {
      "cell_type": "markdown",
      "metadata": {
        "id": "P2Nry45rn4Df"
      },
      "source": [
        "From above we note that:\n",
        "- vendor_id: For a longer trip or for a longer path vendor_id 2 is preffered\n",
        "- pickup_month: Data is not properly separated but for a better result we will do some more analysis on this column.\n",
        "- store_and_fwd_flag: This is a biased column, also there is no particular separation so we will drop it.\n",
        "- pickup_weekday: there is no particular separation so we will drop it.\n",
        "- pickup_shift and pickup_isweekend shows some boudaries through which we can separate different colours so these attributes are important"
      ]
    },
    {
      "cell_type": "code",
      "execution_count": null,
      "metadata": {
        "id": "_PFJGqQRn23N"
      },
      "outputs": [],
      "source": [
        "# taxi.drop(['store_and_fwd_flag', 'pickup_weekday'],axis=1,inplace=True)"
      ]
    },
    {
      "cell_type": "markdown",
      "metadata": {
        "id": "btZLQs2kZDg3"
      },
      "source": [
        "Conclusion:\n",
        "First two features do not bother the pick_up duration much, as we note that all the colurs are mixed , and is particular boundary which tends to separate them so we drop the first two features"
      ]
    },
    {
      "cell_type": "code",
      "execution_count": null,
      "metadata": {
        "id": "3H2MuQHypksl"
      },
      "outputs": [],
      "source": [
        "categorical_feature=taxi.describe(include=\"object\")"
      ]
    },
    {
      "cell_type": "code",
      "execution_count": null,
      "metadata": {
        "id": "bL7__3wRrfyw"
      },
      "outputs": [],
      "source": [
        "for col in categorical_feature:\n",
        "  fig = plt.figure(figsize=(10,7))\n",
        "  ax = fig.gca()\n",
        "  taxi.boxplot(column = 'trip_duration',by = col, ax=ax)\n",
        "  ax.set_xlabel(col)\n",
        "  ax.set_ylabel('trip_duration')\n",
        "  plt.show()\n"
      ]
    },
    {
      "cell_type": "code",
      "execution_count": null,
      "metadata": {
        "id": "66kbnzh2rgma"
      },
      "outputs": [],
      "source": [
        "#some analysis on pickup month\n",
        "\n",
        "taxi[\"pickup_month\"].value_counts()\n",
        "#there are total six pickup months and other six month  data is not included so what if we want to get a duration for any \n",
        "#of the next six month, so we drop this attribute also\n",
        "taxi.drop([\"pickup_month\"],axis=1,inplace=True)"
      ]
    },
    {
      "cell_type": "code",
      "execution_count": null,
      "metadata": {
        "id": "nRj5Iv0U0KUR"
      },
      "outputs": [],
      "source": [
        "taxi[\"pickup_shift\"].unique()"
      ]
    },
    {
      "cell_type": "code",
      "execution_count": null,
      "metadata": {
        "id": "O7DqPt5y0JGS"
      },
      "outputs": [],
      "source": [
        "##LabelEncoder convert the categorical attribute, pickup_shift into ordinal variables.\n",
        "from sklearn.preprocessing import LabelEncoder\n",
        "encoder = LabelEncoder()\n",
        "taxi['pickup_shift'] = encoder.fit_transform(taxi['pickup_shift'])"
      ]
    },
    {
      "cell_type": "code",
      "execution_count": null,
      "metadata": {
        "id": "9QRPuby4KYyF"
      },
      "outputs": [],
      "source": [
        "for i in range(len(encoder.classes_)):\n",
        "  print(f'{i}:{encoder.classes_[i]}')"
      ]
    },
    {
      "cell_type": "code",
      "source": [
        "pd.crosstab(taxi[\"is_weekend\"],taxi[\"pickup_shift\"])"
      ],
      "metadata": {
        "id": "BifiBBNbM1DW"
      },
      "execution_count": null,
      "outputs": []
    },
    {
      "cell_type": "markdown",
      "source": [
        "Evening time and office time the taxis are comparitively more busy if the day is not a weekend."
      ],
      "metadata": {
        "id": "bLdqtM_SQGE7"
      }
    },
    {
      "cell_type": "code",
      "execution_count": null,
      "metadata": {
        "id": "I1Mn4ALOz-6i"
      },
      "outputs": [],
      "source": [
        "#columns left with us\n",
        "taxi.columns"
      ]
    },
    {
      "cell_type": "code",
      "execution_count": null,
      "metadata": {
        "id": "hQaHJhSq6Q3P"
      },
      "outputs": [],
      "source": [
        "(taxi.describe()).columns #here we note that all the columns have numeric data type so data is ready for prediction"
      ]
    },
    {
      "cell_type": "code",
      "execution_count": null,
      "metadata": {
        "id": "-_vdr8rF9SoI"
      },
      "outputs": [],
      "source": [
        "taxi['store_and_fwd_flag'] = taxi['store_and_fwd_flag'].replace({'N':0,'Y':1})"
      ]
    },
    {
      "cell_type": "markdown",
      "metadata": {
        "id": "TARUAiTrMOCh"
      },
      "source": [
        "##Base_line_model\n"
      ]
    },
    {
      "cell_type": "code",
      "execution_count": null,
      "metadata": {
        "id": "Llx-eZVehmwf"
      },
      "outputs": [],
      "source": [
        "numeric_feature1 = taxi.describe().columns\n",
        "numeric_feature1"
      ]
    },
    {
      "cell_type": "code",
      "execution_count": null,
      "metadata": {
        "id": "GxgOdokXmTnU"
      },
      "outputs": [],
      "source": [
        "#remove multicollinearity\n",
        "from statsmodels.stats.outliers_influence import variance_inflation_factor\n",
        "def calc_vif(x):\n",
        "  vif = pd.DataFrame()\n",
        "  vif['columns'] = x.columns\n",
        "  vif['vif_values'] = [variance_inflation_factor(x.values,i) for i in range(x.shape[1])]\n",
        "\n",
        "  return vif"
      ]
    },
    {
      "cell_type": "code",
      "execution_count": null,
      "metadata": {
        "id": "kH8nn_8whvNF"
      },
      "outputs": [],
      "source": [
        "calc_vif(taxi[[col for col in numeric_feature1 if col not in ['trip_duration','pickup_longitude', 'pickup_latitude','dropoff_longitude', 'dropoff_latitude']]])\n"
      ]
    },
    {
      "cell_type": "markdown",
      "metadata": {
        "id": "4FFKcN15kDZ3"
      },
      "source": [
        "VIF measure the multicollinearity between the independent variable. We will drop the multicolinear feature only for linear regression model. Other model like Decesion tree,\n",
        "GBM, XGB are not affected by multicollinearity"
      ]
    },
    {
      "cell_type": "code",
      "source": [
        "corr_class=abs((taxi.corr())[\"trip_duration\"]).sort_values(ascending=False)\n",
        "independent_var=(corr_class.index)\n",
        "independent_var"
      ],
      "metadata": {
        "id": "PG3IBJazUF8j"
      },
      "execution_count": null,
      "outputs": []
    },
    {
      "cell_type": "code",
      "execution_count": null,
      "metadata": {
        "id": "26-Vx6r8-Vpw"
      },
      "outputs": [],
      "source": [
        "linear_set = ['total_distance', 'pickup_longitude','is_weekend',  'passenger_count', 'vendor_id','pickup_shift']\n"
      ]
    },
    {
      "cell_type": "code",
      "execution_count": null,
      "metadata": {
        "id": "nI4LBIFx7jfI"
      },
      "outputs": [],
      "source": [
        "#building model\n",
        "\n",
        " \n",
        "#independent_var =list((abs((taxi.corr())[\"trip_duration\"]).sort_values(ascending=False)).index)[1:]\n",
        "dependent_var=[\"trip_duration\"]\n",
        "# independent_var\n",
        "xl=taxi[linear_set]\n",
        "yl=taxi[\"trip_duration\"]\n",
        "#arranged independent var in proper order\n",
        "\n",
        "#just to try\n",
        "#x=x.iloc[:50000]\n",
        "#y=y.iloc[:50000]"
      ]
    },
    {
      "cell_type": "code",
      "execution_count": null,
      "metadata": {
        "id": "MEt6PgY8X-gC"
      },
      "outputs": [],
      "source": [
        ""
      ]
    },
    {
      "cell_type": "code",
      "execution_count": null,
      "metadata": {
        "id": "8hpI0UjZ9Vdm"
      },
      "outputs": [],
      "source": [
        "#train-test split\n",
        "\n",
        "from sklearn.model_selection import train_test_split\n",
        "xl_train,xl_test,yl_train,yl_test= train_test_split(xl, yl, test_size=0.30, random_state=324)\n",
        "\n"
      ]
    },
    {
      "cell_type": "code",
      "execution_count": null,
      "metadata": {
        "id": "in1VevB5oTwg"
      },
      "outputs": [],
      "source": [
        "xl_train.shape"
      ]
    },
    {
      "cell_type": "code",
      "execution_count": null,
      "metadata": {
        "id": "--bO80CGovmK"
      },
      "outputs": [],
      "source": [
        "xl_test.shape"
      ]
    },
    {
      "cell_type": "code",
      "execution_count": null,
      "metadata": {
        "id": "aEIWOiAvsLuV"
      },
      "outputs": [],
      "source": [
        "#Does it refer to whether the roots are real or not real, equal or unequal?"
      ]
    },
    {
      "cell_type": "markdown",
      "metadata": {
        "id": "YlMcZGVNLIxx"
      },
      "source": [
        "##Linear Regression\n",
        "we have used this model because we found a good correalation of some independent attribute with our dependent attribute but this model is not very efficient as R2 score is very less and rmse is high."
      ]
    },
    {
      "cell_type": "code",
      "execution_count": null,
      "metadata": {
        "id": "PeqRWrwe9Vbj"
      },
      "outputs": [],
      "source": [
        "from sklearn.linear_model import LinearRegression\n",
        "from sklearn.metrics import r2_score\n",
        "from sklearn.metrics import mean_squared_error"
      ]
    },
    {
      "cell_type": "code",
      "execution_count": null,
      "metadata": {
        "id": "a9joEAgN9VYs"
      },
      "outputs": [],
      "source": [
        "linear_model=LinearRegression()\n",
        "linear_model.fit(xl_train,yl_train)\n"
      ]
    },
    {
      "cell_type": "code",
      "execution_count": null,
      "metadata": {
        "id": "JpTWHX5r9VWW"
      },
      "outputs": [],
      "source": [
        "y_train_predicted=linear_model.predict(xl_train)\n",
        "y_test_predicted=linear_model.predict(xl_test)\n",
        "\n",
        "\n"
      ]
    },
    {
      "cell_type": "code",
      "execution_count": null,
      "metadata": {
        "id": "zx4Wfj9AL_O-"
      },
      "outputs": [],
      "source": [
        "math.sqrt(mean_squared_error(yl_train,y_train_predicted))"
      ]
    },
    {
      "cell_type": "code",
      "execution_count": null,
      "metadata": {
        "id": "2zi4Zl-vL_Mk"
      },
      "outputs": [],
      "source": [
        "r2_score(yl_train, y_train_predicted)"
      ]
    },
    {
      "cell_type": "code",
      "execution_count": null,
      "metadata": {
        "id": "0_HeJq4DMaK9"
      },
      "outputs": [],
      "source": [
        "r2_score(yl_test, y_test_predicted)"
      ]
    },
    {
      "cell_type": "code",
      "execution_count": null,
      "metadata": {
        "id": "opAfZEFFPIJK"
      },
      "outputs": [],
      "source": [
        "#Residual_analysis\n",
        "fig = plt.figure(figsize = (10,7))\n",
        "sns.distplot((yl_test-y_test_predicted),bins=20)\n",
        "\n",
        "#Plot Label\n",
        "fig.suptitle('Residual Analysis', fontsize = 20)"
      ]
    },
    {
      "cell_type": "markdown",
      "metadata": {
        "id": "QBI7hnTdqR1M"
      },
      "source": [
        "##Ridge\n",
        "As ridge regression is used when data is highly correlated so we use all the columns of data"
      ]
    },
    {
      "cell_type": "code",
      "source": [
        "corr_class=abs((taxi.corr())[\"trip_duration\"]).sort_values(ascending=False)\n",
        "independent_var=(corr_class.index)\n",
        "independent_var=independent_var[1:]"
      ],
      "metadata": {
        "id": "9AsJ_M2iqdRZ"
      },
      "execution_count": null,
      "outputs": []
    },
    {
      "cell_type": "code",
      "execution_count": null,
      "metadata": {
        "id": "Fwf6rDbmqdRb"
      },
      "outputs": [],
      "source": [
        "#building model\n",
        "\n",
        " \n",
        "#independent_var =list((abs((taxi.corr())[\"trip_duration\"]).sort_values(ascending=False)).index)[1:]\n",
        "dependent_var=[\"trip_duration\"]\n",
        "# independent_var\n",
        "xl=taxi[independent_var]\n",
        "yl=taxi[\"trip_duration\"]\n",
        "#arranged independent var in proper order\n",
        "\n",
        "#just to try\n",
        "#x=x.iloc[:50000]\n",
        "#y=y.iloc[:50000]"
      ]
    },
    {
      "cell_type": "code",
      "execution_count": null,
      "metadata": {
        "id": "qkUrjXDhqdRc"
      },
      "outputs": [],
      "source": [
        "#train-test split\n",
        "\n",
        "from sklearn.model_selection import train_test_split\n",
        "xl_train,xl_test,yl_train,yl_test= train_test_split(xl, yl, test_size=0.30, random_state=324)\n",
        "\n"
      ]
    },
    {
      "cell_type": "code",
      "execution_count": null,
      "metadata": {
        "id": "-7xJJm9_oNCC"
      },
      "outputs": [],
      "source": [
        "from sklearn.linear_model import Ridge\n",
        "from sklearn.model_selection import GridSearchCV\n",
        "ridge=Ridge()\n",
        "params={\"alpha\":[1e-15,1e-10,1e-8,1e-3,1e-2,1,2,3,4,5,10,20,30]}\n",
        "ridge_regressor=GridSearchCV(ridge,params,scoring=\"r2\",cv=5)\n",
        "ridge_regressor.fit(xl_train,yl_train)\n",
        "print(ridge_regressor.best_params_)   #which lemda value is most suitable.\n",
        "print(ridge_regressor.best_score_)     \n",
        "#is linear regression mean  mse is -37.something which is lesser than -31._____  so ridge regression is not good in this case."
      ]
    },
    {
      "cell_type": "code",
      "execution_count": null,
      "metadata": {
        "id": "Vi48pW8SSifK"
      },
      "outputs": [],
      "source": [
        "y_train_predicted=ridge_regressor.predict(xl_train)\n",
        "y_test_predicted=ridge_regressor.predict(xl_test)\n",
        "\n",
        "\n"
      ]
    },
    {
      "cell_type": "code",
      "execution_count": null,
      "metadata": {
        "id": "ZsAZftbdSifK"
      },
      "outputs": [],
      "source": [
        "math.sqrt(mean_squared_error(yl_train,y_train_predicted))"
      ]
    },
    {
      "cell_type": "code",
      "execution_count": null,
      "metadata": {
        "id": "cYCszqxlZQbh"
      },
      "outputs": [],
      "source": [
        "r2_score(yl_train, y_train_predicted)"
      ]
    },
    {
      "cell_type": "code",
      "execution_count": null,
      "metadata": {
        "id": "1R332VWTZTS1"
      },
      "outputs": [],
      "source": [
        "r2_score(yl_test, y_test_predicted)"
      ]
    },
    {
      "cell_type": "markdown",
      "metadata": {
        "id": "ZE2-RUNyqXJh"
      },
      "source": [
        "##Lasso"
      ]
    },
    {
      "cell_type": "code",
      "execution_count": null,
      "metadata": {
        "id": "i7vpAyCf92pD"
      },
      "outputs": [],
      "source": [
        "from sklearn.linear_model import Lasso\n",
        "from sklearn.model_selection import GridSearchCV\n",
        "lasso=Lasso()\n",
        "params={\"alpha\":[1e-15,1e-10,1e-8,1e-3,1e-2,1,2,3,4,5,10,20,30,40,45,50,55,70,90,100]}\n",
        "lasso_regressor=GridSearchCV(lasso,params,scoring=\"neg_mean_squared_error\",cv=5)\n",
        "lasso_regressor.fit(xl_train,yl_train)\n",
        "print(lasso_regressor.best_params_)\n",
        "print(lasso_regressor.best_score_)    "
      ]
    },
    {
      "cell_type": "code",
      "execution_count": null,
      "metadata": {
        "id": "5lLqn78_S_Vv"
      },
      "outputs": [],
      "source": [
        "y_train_predicted=lasso_regressor.predict(xl_train)\n",
        "y_test_predicted=lasso_regressor.predict(xl_test)\n"
      ]
    },
    {
      "cell_type": "code",
      "execution_count": null,
      "metadata": {
        "id": "dwUX_ofOpieL"
      },
      "outputs": [],
      "source": [
        "math.sqrt(mean_squared_error(yl_train,y_train_predicted))"
      ]
    },
    {
      "cell_type": "code",
      "execution_count": null,
      "metadata": {
        "id": "kJ93-HJmpib_"
      },
      "outputs": [],
      "source": [
        "r2_test=r2_score(yl_train, y_train_predicted)"
      ]
    },
    {
      "cell_type": "code",
      "execution_count": null,
      "metadata": {
        "id": "JErQ44XzpiY8"
      },
      "outputs": [],
      "source": [
        "r2_score(yl_test, y_test_predicted)"
      ]
    },
    {
      "cell_type": "markdown",
      "metadata": {
        "id": "2VVw51v-qe_N"
      },
      "source": [
        "##Observation 1"
      ]
    },
    {
      "cell_type": "code",
      "execution_count": null,
      "metadata": {
        "id": "9AHYBb_wB34V"
      },
      "outputs": [],
      "source": [
        "def model_estimator(models,x_train,x_test,y_train,y_test,best_estimator = True):\n",
        "  cols = ['Train_MSE','Test_MSE','Train_RMSE','Test_RMSE','Train_r2_score','Test_r2_score','Train_Adjusted_r2_score','Test_Adjusted_r2_score']\n",
        "  model_df = pd.DataFrame()\n",
        "  model_list = list(models.keys())\n",
        "  \n",
        "  i = 0\n",
        "  for model in model_list:\n",
        "    models[model].fit(x_train,y_train)\n",
        "    y_pred_train = models[model].predict(x_train)\n",
        "    y_pred_test = models[model].predict(x_test)\n",
        "\n",
        "    model_df.loc[i,'Model_Name'] = model_list[i]\n",
        "    model_df.loc[i,'Train_MSE'] = mean_squared_error((y_train), (y_pred_train)).round(2)\n",
        "    model_df.loc[i,'Test_MSE'] = mean_squared_error((y_test), (y_pred_test)).round(2)\n",
        "    model_df.loc[i,'Train_RMSE'] = np.sqrt(mean_squared_error((y_train), (y_pred_train))).round(2)\n",
        "    model_df.loc[i,'Test_RMSE'] = np.sqrt(mean_squared_error((y_test), (y_pred_test))).round(2)\n",
        "    model_df.loc[i,'Train_r2_score'] = r2_score((y_train), (y_pred_train)).round(2)\n",
        "    model_df.loc[i,'Test_r2_score'] = r2_score((y_test), (y_pred_test)).round(2)\n",
        "    model_df.loc[i,'Train_Adjusted_r2_score'] = (1-(1-r2_score((y_train), (y_pred_train)))*((x_train.shape[0]-1)/(x_train.shape[0]-x_train.shape[1]-1))).round(2)\n",
        "    model_df.loc[i,'Test_Adjusted_r2_score'] = (1-(1-r2_score((y_test), (y_pred_test)))*((x_test.shape[0]-1)/(x_test.shape[0]-x_test.shape[1]-1))).round(2)\n",
        "\n",
        "\n",
        "    #Residual_analysis\n",
        "    fig = plt.figure(figsize = (10,7))\n",
        "    sns.distplot((y_test-y_pred_test),bins=20)\n",
        "\n",
        "    #Plot Label\n",
        "    fig.suptitle(model_list[i]+' '+'Residual Analysis', fontsize = 15)\n",
        "\n",
        "\n",
        "    if best_estimator:\n",
        "      cols.append(['best_estimator'])\n",
        "      model_df.loc[i,'best_estimator'] = models[model].best_estimator_\n",
        "\n",
        "\n",
        "    \n",
        "    i = i+1\n",
        "  \n",
        "  return  model_df\n",
        "\n"
      ]
    },
    {
      "cell_type": "code",
      "execution_count": null,
      "metadata": {
        "id": "DAzhom77piVM"
      },
      "outputs": [],
      "source": [
        "models = {'linear_regression':linear_model,'lasso_regressor':lasso_regressor,'ridge_regressor':ridge_regressor}"
      ]
    },
    {
      "cell_type": "code",
      "execution_count": null,
      "metadata": {
        "id": "C-D8oyvsX72s"
      },
      "outputs": [],
      "source": [
        "model_estimator(models,xl_train,xl_test,yl_train,yl_test,best_estimator = False)"
      ]
    },
    {
      "cell_type": "markdown",
      "metadata": {
        "id": "N88sEomfuFSk"
      },
      "source": [
        "##Decesion Tree"
      ]
    },
    {
      "cell_type": "code",
      "source": [
        "independent_var[1:]"
      ],
      "metadata": {
        "id": "7fzy2g59k_wn"
      },
      "execution_count": null,
      "outputs": []
    },
    {
      "cell_type": "code",
      "execution_count": null,
      "metadata": {
        "id": "_2CVJdyrQTKP"
      },
      "outputs": [],
      "source": [
        "independent_var =independent_var\n",
        "dependent_var=[\"trip_duration\"]\n",
        "x=taxi[independent_var]\n",
        "y=taxi[\"trip_duration\"]"
      ]
    },
    {
      "cell_type": "code",
      "execution_count": null,
      "metadata": {
        "id": "wASG8gHvSBkm"
      },
      "outputs": [],
      "source": [
        "x_train,x_test,y_train,y_test= train_test_split(x, y, test_size=0.30, random_state=324)"
      ]
    },
    {
      "cell_type": "code",
      "execution_count": null,
      "metadata": {
        "id": "6_JxNYXJ0-DW"
      },
      "outputs": [],
      "source": [
        "x_train.shape"
      ]
    },
    {
      "cell_type": "code",
      "execution_count": null,
      "metadata": {
        "id": "UbcGe-mJYHyp"
      },
      "outputs": [],
      "source": [
        "#base_line_model\n",
        "from sklearn.tree import DecisionTreeRegressor \n",
        "  \n",
        "# create a regressor object\n",
        "decision_tree = DecisionTreeRegressor(random_state = 0) \n"
      ]
    },
    {
      "cell_type": "markdown",
      "metadata": {
        "id": "3MhjJSqxhXll"
      },
      "source": [
        "##GradientBoosting"
      ]
    },
    {
      "cell_type": "code",
      "execution_count": null,
      "metadata": {
        "id": "KSxaiDzLY9Yk"
      },
      "outputs": [],
      "source": [
        "from sklearn.ensemble import GradientBoostingRegressor\n",
        "from sklearn.model_selection import GridSearchCV\n",
        "GBM_model=GradientBoostingRegressor()\n",
        "GBM_model.fit(x_train,y_train)"
      ]
    },
    {
      "cell_type": "markdown",
      "metadata": {
        "id": "l149v4EIhi3_"
      },
      "source": [
        "##XGBRegressor"
      ]
    },
    {
      "cell_type": "code",
      "execution_count": null,
      "metadata": {
        "id": "QIZVXLr4BCf_"
      },
      "outputs": [],
      "source": [
        "from sklearn.model_selection import GridSearchCV\n",
        "from xgboost import XGBRegressor\n",
        "XGB_model = XGBRegressor()\n",
        "XGB_model.fit(x_train,y_train)"
      ]
    },
    {
      "cell_type": "code",
      "execution_count": null,
      "metadata": {
        "id": "FoNcrzuwiXMp"
      },
      "outputs": [],
      "source": [
        "models = {'Decision_tree':decision_tree,'GBM_model':GBM_model,'XGB_model':XGB_model}"
      ]
    },
    {
      "cell_type": "code",
      "execution_count": null,
      "metadata": {
        "id": "306-G24WjpmH"
      },
      "outputs": [],
      "source": [
        "model_estimator(models,x_train,x_test,y_train,y_test,best_estimator = False)"
      ]
    },
    {
      "cell_type": "markdown",
      "metadata": {
        "id": "TCpNz2PeSfJ9"
      },
      "source": [
        "So decesion tree is overfitted, we tuned the hyperparamter to fix this problem"
      ]
    },
    {
      "cell_type": "markdown",
      "metadata": {
        "id": "-cLXmuSFiBP8"
      },
      "source": [
        "##Model Validation and Hyperparameter Tuning"
      ]
    },
    {
      "cell_type": "code",
      "execution_count": null,
      "metadata": {
        "id": "R3E2KDcdSvZH"
      },
      "outputs": [],
      "source": [
        "from sklearn.model_selection import GridSearchCV\n",
        "from sklearn.model_selection import KFold\n",
        "model = DecisionTreeRegressor()\n",
        "params = {'max_depth':[15],'min_samples_split':[600],'min_impurity_decrease':[0.1]}\n",
        "cv = KFold(n_splits = 3,shuffle=True,random_state = 0)\n",
        "decision_tree_tuned = GridSearchCV(model,param_grid = params,scoring = 'r2', cv = cv)\n",
        "decision_tree_tuned.fit(x_train,y_train)"
      ]
    },
    {
      "cell_type": "code",
      "execution_count": null,
      "metadata": {
        "id": "yQIrArcCSvVi"
      },
      "outputs": [],
      "source": [
        "print(\"Best: %f using %s\" % (decision_tree_tuned.best_score_, decision_tree_tuned.best_params_))"
      ]
    },
    {
      "cell_type": "code",
      "execution_count": null,
      "metadata": {
        "id": "KQVE94XPSvR5"
      },
      "outputs": [],
      "source": [
        "y_pred_tuned_dt_tr = decision_tree_tuned.predict(x_train)\n",
        "y_pred_tuned_dt_te = decision_tree_tuned.predict(x_test)"
      ]
    },
    {
      "cell_type": "code",
      "execution_count": null,
      "metadata": {
        "id": "l66Zd8hKU16c"
      },
      "outputs": [],
      "source": [
        "r2 = r2_score((y_test), (y_pred_tuned_dt_te))\n",
        "r2"
      ]
    },
    {
      "cell_type": "code",
      "execution_count": null,
      "metadata": {
        "id": "8b1Hcy83VJZz"
      },
      "outputs": [],
      "source": [
        "r2 = r2_score((y_train), (y_pred_tuned_dt_tr))\n",
        "r2"
      ]
    },
    {
      "cell_type": "code",
      "execution_count": null,
      "metadata": {
        "id": "EI5t944RVS04"
      },
      "outputs": [],
      "source": [
        "MSE  = mean_squared_error((y_test), (y_pred_tuned_dt_te))\n",
        "print(\"MSE :\" , MSE)\n",
        "\n",
        "RMSE = np.sqrt(MSE)\n",
        "print(\"RMSE :\" ,RMSE)"
      ]
    },
    {
      "cell_type": "code",
      "execution_count": null,
      "metadata": {
        "id": "U7O59spIXddO"
      },
      "outputs": [],
      "source": [
        "#Residual_analysis\n",
        "fig = plt.figure(figsize = (10,7))\n",
        "sns.distplot((y_test-y_pred_tuned_dt_te),bins=20)\n",
        "\n",
        "#Plot Label\n",
        "fig.suptitle('Residual Analysis', fontsize = 20)"
      ]
    },
    {
      "cell_type": "markdown",
      "metadata": {
        "id": "Sq1jHw-UpqlZ"
      },
      "source": [
        "##Gradient Boosting:"
      ]
    },
    {
      "cell_type": "code",
      "execution_count": null,
      "metadata": {
        "id": "sVIf8tVUU6kf"
      },
      "outputs": [],
      "source": [
        "from sklearn.model_selection import RandomizedSearchCV\n",
        "grid_values = {'n_estimators':[90], 'max_depth':[9]}\n",
        "tune_model_gbm= RandomizedSearchCV(GBM_model, param_distributions = grid_values, scoring = 'r2', cv=3)\n",
        "tune_model_gbm.fit(x_train,y_train)"
      ]
    },
    {
      "cell_type": "code",
      "execution_count": null,
      "metadata": {
        "id": "82T6IvIkqAf9"
      },
      "outputs": [],
      "source": [
        "print(\"Best: %f using %s\" % (tune_model_gbm.best_score_, tune_model_gbm.best_params_))"
      ]
    },
    {
      "cell_type": "code",
      "execution_count": null,
      "metadata": {
        "id": "K9wqYsfyU7LY"
      },
      "outputs": [],
      "source": [
        "y_train_predicted=tune_model_gbm.predict(x_train)\n",
        "y_test_predicted=tune_model_gbm.predict(x_test)\n",
        "\n",
        "\n"
      ]
    },
    {
      "cell_type": "code",
      "execution_count": null,
      "metadata": {
        "id": "7JijO8LYU7La"
      },
      "outputs": [],
      "source": [
        "r2_score(y_train, y_train_predicted)"
      ]
    },
    {
      "cell_type": "code",
      "execution_count": null,
      "metadata": {
        "id": "t9pGzc3HU7Lb"
      },
      "outputs": [],
      "source": [
        "r2_score(y_test, y_test_predicted)"
      ]
    },
    {
      "cell_type": "code",
      "execution_count": null,
      "metadata": {
        "id": "wreWOPz_NjWb"
      },
      "outputs": [],
      "source": [
        "tune_model_gbm.best_estimator_"
      ]
    },
    {
      "cell_type": "markdown",
      "metadata": {
        "id": "x4ld1pOuX--Y"
      },
      "source": [
        "**XGBRegressor**"
      ]
    },
    {
      "cell_type": "code",
      "execution_count": null,
      "metadata": {
        "id": "KkQq65F31CNC"
      },
      "outputs": [],
      "source": [
        "learning_rate = [0.5]\n",
        "subsample = [0.9]\n",
        "max_depth = [7]\n",
        "grid = dict(learning_rate=learning_rate, subsample=subsample, max_depth=max_depth)\n",
        "xgb_tuned = GridSearchCV(XGB_model,param_grid = grid,scoring = 'r2', cv = 3)\n",
        "xgb_tuned.fit(x_train,y_train)"
      ]
    },
    {
      "cell_type": "code",
      "execution_count": null,
      "metadata": {
        "id": "p9CCJBD-6oQn"
      },
      "outputs": [],
      "source": [
        "print(\"Best: %f using %s\" % (xgb_tuned.best_score_, xgb_tuned.best_params_))"
      ]
    },
    {
      "cell_type": "code",
      "execution_count": null,
      "metadata": {
        "id": "Hr6JISrNhzE1"
      },
      "outputs": [],
      "source": [
        "y_train_predicted=xgb_tuned.predict(x_train)\n",
        "y_test_predicted=xgb_tuned.predict(x_test)\n",
        "\n",
        "\n"
      ]
    },
    {
      "cell_type": "code",
      "execution_count": null,
      "metadata": {
        "id": "sDAyaJBahzE3"
      },
      "outputs": [],
      "source": [
        "math.sqrt(mean_squared_error(y_train,y_train_predicted))"
      ]
    },
    {
      "cell_type": "code",
      "execution_count": null,
      "metadata": {
        "id": "Ia2ggZpfxN9s"
      },
      "outputs": [],
      "source": [
        "test_rmse=math.sqrt(mean_squared_error(y_test,y_test_predicted))"
      ]
    },
    {
      "cell_type": "code",
      "execution_count": null,
      "metadata": {
        "id": "gXB9u-trhuXe"
      },
      "outputs": [],
      "source": [
        "r2_train=r2_score(y_train, y_train_predicted)\n",
        "r2_train"
      ]
    },
    {
      "cell_type": "code",
      "execution_count": null,
      "metadata": {
        "id": "iQMbfIWEhuXf"
      },
      "outputs": [],
      "source": [
        "r2_test=r2_score(y_test, y_test_predicted)\n",
        "r2_test"
      ]
    },
    {
      "cell_type": "code",
      "execution_count": null,
      "metadata": {
        "id": "zGmdM7I4huXg"
      },
      "outputs": [],
      "source": [
        "v1= (1-r2_test)\n",
        "v2= ((x_train.shape[0])-1) / ((x_train.shape[0])-(x_train.shape[1])-1)\n",
        "adj_rsquared = (1 - (v1 * v2))\n",
        "adj_rsquared"
      ]
    },
    {
      "cell_type": "code",
      "execution_count": null,
      "metadata": {
        "id": "7FcBbXvZXPzd"
      },
      "outputs": [],
      "source": [
        "validate_models = {'Decesion_tree': decision_tree_tuned, 'XGBRegressor':xgb_tuned,'GBMRegressor':tune_model_gbm}"
      ]
    },
    {
      "cell_type": "code",
      "execution_count": null,
      "metadata": {
        "colab": {
          "background_save": true
        },
        "id": "v977kVkwYX1w"
      },
      "outputs": [],
      "source": [
        "model_estimator(validate_models,x_train,x_test,y_train,y_test,best_estimator = True)"
      ]
    },
    {
      "cell_type": "code",
      "execution_count": null,
      "metadata": {
        "colab": {
          "background_save": true
        },
        "id": "HsIPovPJ62e5"
      },
      "outputs": [],
      "source": [
        ""
      ]
    },
    {
      "cell_type": "code",
      "execution_count": null,
      "metadata": {
        "colab": {
          "background_save": true
        },
        "id": "-hMIeBsl_viC"
      },
      "outputs": [],
      "source": [
        ""
      ]
    },
    {
      "cell_type": "code",
      "execution_count": null,
      "metadata": {
        "colab": {
          "background_save": true
        },
        "id": "f9EE_6yyXQFJ"
      },
      "outputs": [],
      "source": [
        ""
      ]
    }
  ],
  "metadata": {
    "colab": {
      "collapsed_sections": [],
      "name": "NYC Taxi Trip Time Prediction - Capstone Project.ipynb",
      "provenance": [],
      "include_colab_link": true
    },
    "kernelspec": {
      "display_name": "Python 3",
      "language": "python",
      "name": "python3"
    },
    "language_info": {
      "codemirror_mode": {
        "name": "ipython",
        "version": 3
      },
      "file_extension": ".py",
      "mimetype": "text/x-python",
      "name": "python",
      "nbconvert_exporter": "python",
      "pygments_lexer": "ipython3",
      "version": "3.6.6"
    }
  },
  "nbformat": 4,
  "nbformat_minor": 0
}